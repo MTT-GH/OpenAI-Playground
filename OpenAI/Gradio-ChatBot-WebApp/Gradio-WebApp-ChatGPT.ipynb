{
 "cells": [
  {
   "cell_type": "markdown",
   "id": "73cb6403",
   "metadata": {},
   "source": [
    "# A gradio webapp with Azure ChatGPT"
   ]
  },
  {
   "cell_type": "markdown",
   "id": "2684f6ee",
   "metadata": {},
   "source": [
    "<img src=\"bot.png\">"
   ]
  },
  {
   "cell_type": "code",
   "execution_count": null,
   "id": "51e9adf2",
   "metadata": {},
   "outputs": [],
   "source": [
    "import openai\n",
    "import os\n",
    "import gradio as gr\n",
    "import openai\n",
    "import random\n",
    "import time\n",
    "import sys\n",
    "\n",
    "# from dotenv import load_dotenv"
   ]
  },
  {
   "cell_type": "code",
   "execution_count": null,
   "id": "6100958c",
   "metadata": {},
   "outputs": [],
   "source": [
    "sys.version"
   ]
  },
  {
   "cell_type": "markdown",
   "id": "e45cc515",
   "metadata": {},
   "source": [
    "Loading configuration from GH Secrets"
   ]
  },
  {
   "cell_type": "code",
   "execution_count": null,
   "id": "9d3ed4c4",
   "metadata": {},
   "outputs": [],
   "source": [
    "#load_dotenv(\"azure.env\")\n",
    "\n",
    "openai.api_type: str = \"azure\"\n",
    "# openai.api_key = os.getenv(\"OPENAI_API_KEY\")\n",
    "openai.api_key = os.getenv(\"AZURE_OPENAI_API_KEY\")\n",
    "# openai.api_base = os.getenv(\"OPENAI_API_BASE\")\n",
    "openai.api_base = os.getenv(\"AZURE_OPENAI_ENDPOINT\")\n",
    "# openai.api_version = os.getenv(\"OPENAI_API_VERSION\")\n",
    "openai.api_version = os.getenv(\"AZURE_OPENAI_MODEL_CHAT_VERSION\")"
   ]
  },
  {
   "cell_type": "code",
   "execution_count": null,
   "id": "9fcd25e8",
   "metadata": {},
   "outputs": [],
   "source": [
    "# deployment_id = \"gpt-35-turbo-16k\"\n",
    "deployment_id = os.getenv(\"AZURE_OPENAI_MODEL_CHAT\") # the GH secret contains you gpt deployment name"
   ]
  },
  {
   "cell_type": "code",
   "execution_count": null,
   "id": "99b623f7",
   "metadata": {},
   "outputs": [],
   "source": [
    "system_message = {\"role\": \"system\", \"content\": \"You are an AI assistant.\"}\n",
    "\n",
    "# https://huggingface.co/spaces/gradio/theme-gallery\n",
    "\n",
    "with gr.Blocks() as azure_openai_bot:\n",
    "    chatbot = gr.Chatbot()\n",
    "    msg = gr.Textbox()\n",
    "    clear = gr.Button(\"Clear\")\n",
    "\n",
    "    state = gr.State([])\n",
    "\n",
    "    def user(user_message, history):\n",
    "        return \"\", history + [[user_message, None]]\n",
    "\n",
    "    def bot(history, messages_history):\n",
    "        user_message = history[-1][0]\n",
    "        bot_message, messages_history = ask_gpt(user_message, messages_history)\n",
    "        messages_history += [{\"role\": \"assistant\", \"content\": bot_message}]\n",
    "        history[-1][1] = bot_message\n",
    "        time.sleep(1)\n",
    "        return history, messages_history\n",
    "\n",
    "    # the definition that makes the call to the OpenAI ChatCompletion API sending the user message + history\n",
    "    def ask_gpt(message, messages_history):\n",
    "        messages_history += [{\"role\": \"user\", \"content\": message}]\n",
    "        response = openai.ChatCompletion.create(\n",
    "            engine=deployment_id,\n",
    "            messages=messages_history\n",
    "        )\n",
    "        print(response[\"choices\"][0][\"message\"][\"content\"], messages_history)\n",
    "        return response[\"choices\"][0][\"message\"][\"content\"], messages_history\n",
    "\n",
    "    def init_history(messages_history):\n",
    "        messages_history = []\n",
    "        messages_history += [system_message]\n",
    "        return messages_history\n",
    "\n",
    "    msg.submit(user, [msg, chatbot], [msg, chatbot], queue=False).then(\n",
    "        bot, [chatbot, state], [chatbot, state]\n",
    "    )\n",
    "\n",
    "    clear.click(lambda: None, None, chatbot, queue=False).success(\n",
    "        init_history, [state], [state]\n",
    "    )"
   ]
  },
  {
   "cell_type": "markdown",
   "id": "43cc722d",
   "metadata": {},
   "source": [
    "If execute in GitHub Codespace, a pop-up window will propose to open the website. You can also open it clicking in **Ports** next to Terminal tab in the codespace, look for port 7860 and **Open in Browser**."
   ]
  },
  {
   "cell_type": "code",
   "execution_count": null,
   "id": "bd6ed314",
   "metadata": {},
   "outputs": [],
   "source": [
    "azure_openai_bot.launch(share=True)"
   ]
  },
  {
   "cell_type": "code",
   "execution_count": null,
   "id": "348260b0",
   "metadata": {},
   "outputs": [],
   "source": [
    "azure_openai_bot.close()"
   ]
  },
  {
   "cell_type": "code",
   "execution_count": null,
   "id": "48c54245",
   "metadata": {},
   "outputs": [],
   "source": []
  }
 ],
 "metadata": {
  "kernelspec": {
   "display_name": "Python 3",
   "language": "python",
   "name": "python3"
  },
  "language_info": {
   "codemirror_mode": {
    "name": "ipython",
    "version": 3
   },
   "file_extension": ".py",
   "mimetype": "text/x-python",
   "name": "python",
   "nbconvert_exporter": "python",
   "pygments_lexer": "ipython3",
   "version": "3.11.5"
  }
 },
 "nbformat": 4,
 "nbformat_minor": 5
}
