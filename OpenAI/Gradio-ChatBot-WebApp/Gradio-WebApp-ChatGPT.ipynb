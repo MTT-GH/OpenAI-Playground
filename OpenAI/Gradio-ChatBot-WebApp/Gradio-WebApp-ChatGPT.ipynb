{
 "cells": [
  {
   "cell_type": "markdown",
   "id": "73cb6403",
   "metadata": {},
   "source": [
    "# A gradio webapp with Azure ChatGPT"
   ]
  },
  {
   "cell_type": "markdown",
   "id": "2684f6ee",
   "metadata": {},
   "source": [
    "<img src=\"bot.png\">"
   ]
  },
  {
   "cell_type": "code",
   "execution_count": 1,
   "id": "51e9adf2",
   "metadata": {},
   "outputs": [],
   "source": [
    "import openai\n",
    "import os\n",
    "import gradio as gr\n",
    "import openai\n",
    "import random\n",
    "import time\n",
    "import sys\n",
    "\n",
    "# from dotenv import load_dotenv"
   ]
  },
  {
   "cell_type": "code",
   "execution_count": 2,
   "id": "6100958c",
   "metadata": {},
   "outputs": [
    {
     "data": {
      "text/plain": [
       "'3.11.5 (main, Sep 14 2023, 09:05:47) [GCC 10.2.1 20210110]'"
      ]
     },
     "execution_count": 2,
     "metadata": {},
     "output_type": "execute_result"
    }
   ],
   "source": [
    "sys.version"
   ]
  },
  {
   "cell_type": "markdown",
   "id": "e45cc515",
   "metadata": {},
   "source": [
    "Loading configuration from GH Secrets"
   ]
  },
  {
   "cell_type": "code",
   "execution_count": 3,
   "id": "9d3ed4c4",
   "metadata": {},
   "outputs": [],
   "source": [
    "#load_dotenv(\"azure.env\")\n",
    "\n",
    "openai.api_type: str = \"azure\"\n",
    "# openai.api_key = os.getenv(\"OPENAI_API_KEY\")\n",
    "openai.api_key = os.getenv(\"AZURE_OPENAI_API_KEY\")\n",
    "# openai.api_base = os.getenv(\"OPENAI_API_BASE\")\n",
    "openai.api_base = os.getenv(\"AZURE_OPENAI_ENDPOINT\")\n",
    "# openai.api_version = os.getenv(\"OPENAI_API_VERSION\")\n",
    "openai.api_version = os.getenv(\"AZURE_OPENAI_MODEL_CHAT_VERSION\")"
   ]
  },
  {
   "cell_type": "code",
   "execution_count": 4,
   "id": "9fcd25e8",
   "metadata": {},
   "outputs": [],
   "source": [
    "# deployment_id = \"gpt-35-turbo-16k\"\n",
    "deployment_id = os.getenv(\"AZURE_OPENAI_MODEL_CHAT\") # the GH secret contains you gpt deployment name"
   ]
  },
  {
   "cell_type": "code",
   "execution_count": 10,
   "id": "99b623f7",
   "metadata": {},
   "outputs": [],
   "source": [
    "system_message = {\"role\": \"system\", \"content\": \"You are an AI assistant.\"}\n",
    "\n",
    "# https://huggingface.co/spaces/gradio/theme-gallery\n",
    "\n",
    "with gr.Blocks() as azure_openai_bot:\n",
    "    chatbot = gr.Chatbot()\n",
    "    msg = gr.Textbox()\n",
    "    clear = gr.Button(\"Clear\")\n",
    "\n",
    "    state = gr.State([])\n",
    "\n",
    "    def user(user_message, history):\n",
    "        return \"\", history + [[user_message, None]]\n",
    "\n",
    "    def bot(history, messages_history):\n",
    "        user_message = history[-1][0]\n",
    "        bot_message, messages_history = ask_gpt(user_message, messages_history)\n",
    "        messages_history += [{\"role\": \"assistant\", \"content\": bot_message}]\n",
    "        history[-1][1] = bot_message\n",
    "        time.sleep(1)\n",
    "        return history, messages_history\n",
    "\n",
    "    # the definition that makes the call to the OpenAI ChatCompletion API sending the user message + history\n",
    "    def ask_gpt(message, messages_history):\n",
    "        messages_history += [{\"role\": \"user\", \"content\": message}]\n",
    "        response = openai.ChatCompletion.create(\n",
    "            engine=deployment_id,\n",
    "            messages=messages_history\n",
    "        )\n",
    "        print(response[\"choices\"][0][\"message\"][\"content\"], messages_history)\n",
    "        return response[\"choices\"][0][\"message\"][\"content\"], messages_history\n",
    "\n",
    "    def init_history(messages_history):\n",
    "        messages_history = []\n",
    "        messages_history += [system_message]\n",
    "        return messages_history\n",
    "\n",
    "    msg.submit(user, [msg, chatbot], [msg, chatbot], queue=False).then(\n",
    "        bot, [chatbot, state], [chatbot, state]\n",
    "    )\n",
    "\n",
    "    clear.click(lambda: None, None, chatbot, queue=False).success(\n",
    "        init_history, [state], [state]\n",
    "    )"
   ]
  },
  {
   "cell_type": "markdown",
   "id": "43cc722d",
   "metadata": {},
   "source": [
    "If execute in GitHub Codespace, a pop-up window will propose to open the website. You can also open it clicking in **Ports** next to Terminal tab in the codespace, look for port 7860 and **Open in Browser**."
   ]
  },
  {
   "cell_type": "code",
   "execution_count": 11,
   "id": "bd6ed314",
   "metadata": {},
   "outputs": [
    {
     "name": "stdout",
     "output_type": "stream",
     "text": [
      "Running on local URL:  http://127.0.0.1:7860\n",
      "Running on public URL: https://f98f40f2c5b10c8a62.gradio.live\n",
      "\n",
      "This share link expires in 72 hours. For free permanent hosting and GPU upgrades, run `gradio deploy` from Terminal to deploy to Spaces (https://huggingface.co/spaces)\n"
     ]
    },
    {
     "data": {
      "text/html": [
       "<div><iframe src=\"https://f98f40f2c5b10c8a62.gradio.live\" width=\"100%\" height=\"500\" allow=\"autoplay; camera; microphone; clipboard-read; clipboard-write;\" frameborder=\"0\" allowfullscreen></iframe></div>"
      ],
      "text/plain": [
       "<IPython.core.display.HTML object>"
      ]
     },
     "metadata": {},
     "output_type": "display_data"
    },
    {
     "data": {
      "text/plain": []
     },
     "execution_count": 11,
     "metadata": {},
     "output_type": "execute_result"
    },
    {
     "name": "stdout",
     "output_type": "stream",
     "text": [
      "I'm sorry, I don't understand your request. Could you please provide more information or a question you'd like me to assist you with? [{'role': 'system', 'content': 'You are an AI assistant.'}, {'role': 'user', 'content': 'a'}]\n",
      "Hello! How can I assist you today? [{'role': 'system', 'content': 'You are an AI assistant.'}, {'role': 'user', 'content': 'a'}, {'role': 'assistant', 'content': \"I'm sorry, I don't understand your request. Could you please provide more information or a question you'd like me to assist you with?\"}, {'role': 'user', 'content': 'hello'}]\n",
      "As an AI assistant, I can perform various tasks such as:\n",
      "\n",
      "1. Setting reminders and alarms\n",
      "2. Creating to-do lists\n",
      "3. Providing weather updates\n",
      "4. Answering general knowledge and trivia questions\n",
      "5. Providing news updates\n",
      "6. Making calculations and conversions\n",
      "7. Setting and managing your schedule\n",
      "8. Sending emails and messages\n",
      "9. Providing navigation and traffic updates\n",
      "10. Help with language translation\n",
      "\n",
      "Is there anything specific you'd like me to help you with? [{'role': 'system', 'content': 'You are an AI assistant.'}, {'role': 'user', 'content': 'a'}, {'role': 'assistant', 'content': \"I'm sorry, I don't understand your request. Could you please provide more information or a question you'd like me to assist you with?\"}, {'role': 'user', 'content': 'hello'}, {'role': 'assistant', 'content': 'Hello! How can I assist you today?'}, {'role': 'user', 'content': 'what can you do?'}]\n"
     ]
    }
   ],
   "source": [
    "azure_openai_bot.launch(share=True)"
   ]
  },
  {
   "cell_type": "code",
   "execution_count": 12,
   "id": "348260b0",
   "metadata": {},
   "outputs": [
    {
     "name": "stdout",
     "output_type": "stream",
     "text": [
      "Closing server running on port: 7860\n"
     ]
    }
   ],
   "source": [
    "azure_openai_bot.close()"
   ]
  },
  {
   "cell_type": "code",
   "execution_count": null,
   "id": "48c54245",
   "metadata": {},
   "outputs": [],
   "source": []
  }
 ],
 "metadata": {
  "kernelspec": {
   "display_name": "Python 3",
   "language": "python",
   "name": "python3"
  },
  "language_info": {
   "codemirror_mode": {
    "name": "ipython",
    "version": 3
   },
   "file_extension": ".py",
   "mimetype": "text/x-python",
   "name": "python",
   "nbconvert_exporter": "python",
   "pygments_lexer": "ipython3",
   "version": "3.11.5"
  }
 },
 "nbformat": 4,
 "nbformat_minor": 5
}
