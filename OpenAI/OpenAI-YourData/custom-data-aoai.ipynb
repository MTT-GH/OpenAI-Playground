{
 "cells": [
  {
   "cell_type": "markdown",
   "id": "0a10174f",
   "metadata": {},
   "source": [
    "# Calling Azure OpenAI with your customized Data \n",
    "\n",
    "The following notebook will show you an example of calling an Azure OpenAI model that uses your custom data (previously done following these instructions https://microsoftlearning.github.io/mslearn-openai/Instructions/Labs/06-use-own-data.html )"
   ]
  },
  {
   "cell_type": "code",
   "execution_count": 12,
   "id": "937e5d32",
   "metadata": {},
   "outputs": [],
   "source": [
    "import openai\n",
    "import os\n",
    "import requests\n",
    "\n",
    "# Azure OpenAI on your own data is only supported by the 2023-08-01-preview API version\n",
    "openai.api_version = \"2023-08-01-preview\"\n",
    "\n"
   ]
  },
  {
   "cell_type": "markdown",
   "id": "c612f352",
   "metadata": {},
   "source": [
    "Load Azure OpenAI settings from the GitHub Codespace secrets and **replace by your own model deployment name**"
   ]
  },
  {
   "cell_type": "code",
   "execution_count": 13,
   "id": "b2d8a06b",
   "metadata": {},
   "outputs": [],
   "source": [
    "openai.api_type: str = \"azure\"\n",
    "# openai.api_key = os.getenv(\"OPENAI_API_KEY\")\n",
    "openai.api_key = os.getenv(\"AZURE_OPENAI_API_KEY\")\n",
    "# openai.api_base = os.getenv(\"OPENAI_API_BASE\")\n",
    "openai.api_base = os.getenv(\"AZURE_OPENAI_ENDPOINT\")\n",
    "\n",
    "\n",
    "# Add your deployment ID here\n",
    "deployment_id = \"gpt-35-turbo-unai\" \n",
    "\n",
    "search_endpoint = os.getenv(\"AZURE_SEARCH_SERVICE_ENDPOINT\")\n",
    "search_key = os.getenv(\"AZURE_SEARCH_ADMIN_KEY\")"
   ]
  },
  {
   "cell_type": "markdown",
   "id": "b7f3c109",
   "metadata": {},
   "source": [
    "Add the name of the index created in Azure Search for the custom data (it keeps the vector embeddings of th data). The Azure OpenAI playground shows you the name of the index\n",
    "\n",
    "![Index name](custom-aoai-reply.png)"
   ]
  },
  {
   "cell_type": "code",
   "execution_count": 3,
   "id": "9922dcd0",
   "metadata": {},
   "outputs": [],
   "source": [
    "search_index_name = \"custom-data-margiestravel\"; # Add your Azure Cognitive Search index name here"
   ]
  },
  {
   "cell_type": "markdown",
   "id": "ed520c16",
   "metadata": {},
   "source": [
    "Setup OpenAI SDK to use your own data"
   ]
  },
  {
   "cell_type": "code",
   "execution_count": 5,
   "id": "63077903",
   "metadata": {},
   "outputs": [],
   "source": [
    "\n",
    "def setup_byod(deployment_id: str) -> None:\n",
    "    \"\"\"Sets up the OpenAI Python SDK to use your own data for the chat endpoint.\n",
    "\n",
    "    :param deployment_id: The deployment ID for the model to use with your own data.\n",
    "\n",
    "    To remove this configuration, simply set openai.requestssession to None.\n",
    "    \"\"\"\n",
    "\n",
    "    class BringYourOwnDataAdapter(requests.adapters.HTTPAdapter):\n",
    "\n",
    "        def send(self, request, **kwargs):\n",
    "            request.url = f\"{openai.api_base}/openai/deployments/{deployment_id}/extensions/chat/completions?api-version={openai.api_version}\"\n",
    "            return super().send(request, **kwargs)\n",
    "\n",
    "    session = requests.Session()\n",
    "\n",
    "    # Mount a custom adapter which will use the extensions endpoint for any call using the given `deployment_id`\n",
    "    session.mount(\n",
    "        prefix=f\"{openai.api_base}/openai/deployments/{deployment_id}\",\n",
    "        adapter=BringYourOwnDataAdapter()\n",
    "    )\n",
    "\n",
    "    openai.requestssession = session\n",
    "\n",
    "setup_byod(deployment_id)\n",
    "\n",
    "\n"
   ]
  },
  {
   "cell_type": "markdown",
   "id": "96d47419",
   "metadata": {},
   "source": [
    "Test your custom completions!"
   ]
  },
  {
   "cell_type": "code",
   "execution_count": 14,
   "id": "b2312ac3",
   "metadata": {},
   "outputs": [
    {
     "name": "stdout",
     "output_type": "stream",
     "text": [
      "{\n",
      "  \"id\": \"b21d70ab-5b60-4030-9e10-0ad06fcdcf7a\",\n",
      "  \"model\": \"gpt-35-turbo\",\n",
      "  \"created\": 1695735807,\n",
      "  \"object\": \"extensions.chat.completion\",\n",
      "  \"choices\": [\n",
      "    {\n",
      "      \"index\": 0,\n",
      "      \"finish_reason\": \"stop\",\n",
      "      \"message\": {\n",
      "        \"role\": \"assistant\",\n",
      "        \"content\": \"New York City is the most populous city in the United States with an estimated 2015 population of 8,550,405 distributed over a land area of about 302.6 square miles [doc2]. It is also the most densely populated major city in the United States [doc2]. New York City is the center of the New York metropolitan area, one of the most populous urban agglomerations in the world [doc2]. It is a global power city, exerting a significant impact upon commerce, finance, media, art, fashion, research, technology, education, and entertainment [doc2]. It is home to the headquarters of the United Nations and has been described as the cultural and financial capital of the world [doc2].\",\n",
      "        \"end_turn\": true,\n",
      "        \"context\": {\n",
      "          \"messages\": [\n",
      "            {\n",
      "              \"role\": \"tool\",\n",
      "              \"content\": \"{\\\"citations\\\": [{\\\"content\\\": \\\"Margie\\u2019s Travel Presents\\u2026 \\\\nSan Francisco \\\\nSan Francisco, officially the City and County of San \\\\nFrancisco, is the cultural, commercial, and financial \\\\ncenter of Northern California. It is the birthplace of \\\\nthe United Nations. Located at the north end of the \\\\nSan Francisco Peninsula, San Francisco is about \\\\n47.9 square miles in area, making it the smallest \\\\ncounty\\u2014and the only consolidated city-county\\u2014\\\\nwithin the state of California. With a density of about \\\\n18,581 people per square mile, San Francisco is the \\\\nmost densely settled large city in California and the \\\\nsecond-most densely populated major city in the \\\\nUnited States after New York City. San Francisco is \\\\nthe fourth-most populous city in California, after Los \\\\nAngeles, San Diego, and San Jose, and the 13th-\\\\nmost populous city in the United States\\u2014with a \\\\ncensus-estimated 2016 population of 870,887. The \\\\ncity and its surrounding areas are known as the San \\\\nFrancisco Bay Area, and are a part of the larger \\\\nOMB-designated San Jose-San Francisco-Oakland \\\\ncombined statistical area, the fifth most populous in \\\\nthe nation with an estimated population of 8.7 million. \\\\n \\\\nSan Francisco Hotels \\\\nMargie\\u2019s Travel offers the following accommodation options \\\\nin San Francisco: \\\\nThe Lombard Hotel \\\\nFriendly, family-run hotel within easy walking distance to \\\\npopular sights, including the Golden Gate Bridge and the \\\\nPresidio. Free Parking. \\\\nThe Wharf Hotel \\\\nGreat value accommodation in the heart of the vibrant \\\\nFisherman\\u2019s Wharf area. Continental Breakfast included. \\\\n \\\\n \\\\n \\\\n \\\\nTo book your trip to San Francisco, visit www.margiestravel.com\\\", \\\"id\\\": null, \\\"title\\\": \\\"Margie\\u2019s Travel Presents\\u2026\\\", \\\"filepath\\\": \\\"San Francisco Brochure.pdf\\\", \\\"url\\\": \\\"https://ai050saunai.blob.core.windows.net/fileupload-custom-data-margiestravel/San%20Francisco%20Brochure.pdf\\\", \\\"metadata\\\": {\\\"chunking\\\": \\\"orignal document size=411. Scores=2.1721268Org Highlight count=4.\\\"}, \\\"chunk_id\\\": \\\"0\\\"}, {\\\"content\\\": \\\"Margie\\u2019s Travel Presents\\u2026 \\\\nNew York \\\\nThe City of New York, often called New York City or simply \\\\nNew York, is the most populous city in the United States. \\\\nWith an estimated 2015 population of 8,550,405 distributed \\\\nover a land area of about 302.6 square miles, New York \\\\nCity is also the most densely populated major city in the \\\\nUnited States. Located at the southern tip of the state of \\\\nNew York, the city is the center of the New York \\\\nmetropolitan area, one of the most populous urban \\\\nagglomerations in the world. A global power city, New York \\\\nCity exerts a significant impact upon commerce, finance, \\\\nmedia, art, fashion, research, technology, education, and \\\\nentertainment, its fast pace defining the term New York \\\\nminute. Home to the headquarters of the United Nations, \\\\nNew York is an important center for international diplomacy \\\\nand has been described as the cultural and financial capital \\\\nof the world. \\\\n \\\\nNew York Hotels \\\\nMargie\\u2019s Travel offers the following accommodation options \\\\nin New York: \\\\nThe Manhattan Hotel \\\\nStay in the heart of New York City, within an easy walk to \\\\nTimes Square and Broadway. \\\\nThe Grand Central Hotel \\\\nComfortable mid-town hotel. Close to Grand Central \\\\nStation, the Chrysler Building, and the Empire State \\\\nBuilding. \\\\nThe Park Hotel \\\\nLuxurious accommodation in upper Manhattan, with views \\\\nof Central Park. \\\\n \\\\n \\\\nTo book your trip to New York, visit www.margiestravel.com\\\", \\\"id\\\": null, \\\"title\\\": \\\"Margie\\u2019s Travel Presents\\u2026\\\", \\\"filepath\\\": \\\"New York Brochure.pdf\\\", \\\"url\\\": \\\"https://ai050saunai.blob.core.windows.net/fileupload-custom-data-margiestravel/New%20York%20Brochure.pdf\\\", \\\"metadata\\\": {\\\"chunking\\\": \\\"orignal document size=360. Scores=1.4322314Org Highlight count=29.\\\"}, \\\"chunk_id\\\": \\\"0\\\"}, {\\\"content\\\": \\\"Wherever you want to go, Margie\\u2019s Travel can get you there! \\\\nMargie\\u2019s Travel is a world-leading travel agency, combining international reach with local \\\\nexpertise. Just tell us where you want to go, and we can arrange: \\\\n\\u2022 Flights \\\\n\\u2022 Accommodation \\\\n\\u2022 Transfers \\\\n\\u2022 Visas \\\\n\\u2022 Currency Exchange \\\\n\\u2022 Excursions \\\\n \\\\nWhere We Go \\\\nWhile we can arrange travel to anywhere \\\\nworldwide, we specialize in trips to: \\\\n\\u2022 Dubai \\\\n\\u2022 Las Vegas \\\\n\\u2022 London \\\\n\\u2022 New York \\\\n\\u2022 San Francisco \\\\nWho We Are \\\\nMargie\\u2019s Travel employs some of the \\\\nbest travel experts in the world. Our \\\\nleadership team consists of: \\\\n\\u2022 Marjorie Long (CEO) \\\\n\\u2022 Logan Reid (CFO) \\\\n\\u2022 Emma Luffman (CTO) \\\\n\\u2022 Deepak Nadar (Strategic Director) \\\\n \\\\nTo learn more about us, visit our website at www.margiestravel.com\\\", \\\"id\\\": null, \\\"title\\\": \\\"Wherever you want to go, Margie\\u2019s Travel can get you there!\\\", \\\"filepath\\\": \\\"Margies Travel Company Info.pdf\\\", \\\"url\\\": \\\"https://ai050saunai.blob.core.windows.net/fileupload-custom-data-margiestravel/Margies%20Travel%20Company%20Info.pdf\\\", \\\"metadata\\\": {\\\"chunking\\\": \\\"orignal document size=239. Scores=0.85430026Org Highlight count=3.\\\"}, \\\"chunk_id\\\": \\\"0\\\"}], \\\"intent\\\": \\\"What are some facts about New York?\\\"}\",\n",
      "              \"end_turn\": false\n",
      "            }\n",
      "          ]\n",
      "        }\n",
      "      }\n",
      "    }\n",
      "  ]\n",
      "}\n"
     ]
    }
   ],
   "source": [
    "message = \"What are some facts about New York?\"  \n",
    "\n",
    "completion = openai.ChatCompletion.create(\n",
    "    messages=[{\"role\": \"user\", \"content\": message}],\n",
    "    deployment_id=deployment_id,\n",
    "    dataSources=[  # camelCase is intentional, as this is the format the API expects\n",
    "        {\n",
    "            \"type\": \"AzureCognitiveSearch\",\n",
    "            \"parameters\": {\n",
    "                \"endpoint\": search_endpoint,\n",
    "                \"key\": search_key,\n",
    "                \"indexName\": search_index_name,\n",
    "            }\n",
    "        }\n",
    "    ]\n",
    ")\n",
    "print(completion)\n"
   ]
  }
 ],
 "metadata": {
  "kernelspec": {
   "display_name": "Python 3",
   "language": "python",
   "name": "python3"
  },
  "language_info": {
   "codemirror_mode": {
    "name": "ipython",
    "version": 3
   },
   "file_extension": ".py",
   "mimetype": "text/x-python",
   "name": "python",
   "nbconvert_exporter": "python",
   "pygments_lexer": "ipython3",
   "version": "3.11.5"
  }
 },
 "nbformat": 4,
 "nbformat_minor": 5
}
