{
 "cells": [
  {
   "cell_type": "markdown",
   "id": "0a10174f",
   "metadata": {},
   "source": [
    "# Calling Azure OpenAI with your customized Data \n",
    "\n",
    "The following notebook will show you an example of calling an Azure OpenAI model that uses your custom data (previously done following these instructions https://microsoftlearning.github.io/mslearn-openai/Instructions/Labs/06-use-own-data.html )"
   ]
  },
  {
   "cell_type": "code",
   "execution_count": null,
   "id": "937e5d32",
   "metadata": {},
   "outputs": [],
   "source": [
    "import openai\n",
    "import os\n",
    "import requests\n",
    "\n",
    "# Azure OpenAI on your own data is only supported by the 2023-08-01-preview API version\n",
    "openai.api_version = \"2023-08-01-preview\"\n",
    "\n"
   ]
  },
  {
   "cell_type": "markdown",
   "id": "c612f352",
   "metadata": {},
   "source": [
    "Load Azure OpenAI settings from the GitHub Codespace secrets and **replace by your own model deployment name**"
   ]
  },
  {
   "cell_type": "code",
   "execution_count": null,
   "id": "b2d8a06b",
   "metadata": {},
   "outputs": [],
   "source": [
    "openai.api_type: str = \"azure\"\n",
    "# openai.api_key = os.getenv(\"OPENAI_API_KEY\")\n",
    "openai.api_key = os.getenv(\"AZURE_OPENAI_API_KEY\")\n",
    "# openai.api_base = os.getenv(\"OPENAI_API_BASE\")\n",
    "openai.api_base = os.getenv(\"AZURE_OPENAI_ENDPOINT\")\n",
    "\n",
    "\n",
    "# Add your deployment ID here\n",
    "deployment_id = \"gpt-35-turbo-unai\" \n",
    "\n",
    "search_endpoint = os.getenv(\"AZURE_SEARCH_SERVICE_ENDPOINT\")\n",
    "search_key = os.getenv(\"AZURE_SEARCH_ADMIN_KEY\")"
   ]
  },
  {
   "cell_type": "markdown",
   "id": "b7f3c109",
   "metadata": {},
   "source": [
    "Add the name of the index created in Azure Search for the custom data (it keeps the vector embeddings of th data). The Azure OpenAI playground shows you the name of the index\n",
    "\n",
    "![Index name](custom-aoai-reply.png)"
   ]
  },
  {
   "cell_type": "code",
   "execution_count": null,
   "id": "9922dcd0",
   "metadata": {},
   "outputs": [],
   "source": [
    "search_index_name = \"custom-data-margiestravel\"; # Add your Azure Cognitive Search index name here"
   ]
  },
  {
   "cell_type": "markdown",
   "id": "ed520c16",
   "metadata": {},
   "source": [
    "Setup OpenAI SDK to use your own data"
   ]
  },
  {
   "cell_type": "code",
   "execution_count": null,
   "id": "63077903",
   "metadata": {},
   "outputs": [],
   "source": [
    "\n",
    "def setup_byod(deployment_id: str) -> None:\n",
    "    \"\"\"Sets up the OpenAI Python SDK to use your own data for the chat endpoint.\n",
    "\n",
    "    :param deployment_id: The deployment ID for the model to use with your own data.\n",
    "\n",
    "    To remove this configuration, simply set openai.requestssession to None.\n",
    "    \"\"\"\n",
    "\n",
    "    class BringYourOwnDataAdapter(requests.adapters.HTTPAdapter):\n",
    "\n",
    "        def send(self, request, **kwargs):\n",
    "            request.url = f\"{openai.api_base}/openai/deployments/{deployment_id}/extensions/chat/completions?api-version={openai.api_version}\"\n",
    "            return super().send(request, **kwargs)\n",
    "\n",
    "    session = requests.Session()\n",
    "\n",
    "    # Mount a custom adapter which will use the extensions endpoint for any call using the given `deployment_id`\n",
    "    session.mount(\n",
    "        prefix=f\"{openai.api_base}/openai/deployments/{deployment_id}\",\n",
    "        adapter=BringYourOwnDataAdapter()\n",
    "    )\n",
    "\n",
    "    openai.requestssession = session\n",
    "\n",
    "setup_byod(deployment_id)\n",
    "\n",
    "\n"
   ]
  },
  {
   "cell_type": "markdown",
   "id": "96d47419",
   "metadata": {},
   "source": [
    "Test your custom completions!"
   ]
  },
  {
   "cell_type": "code",
   "execution_count": null,
   "id": "b2312ac3",
   "metadata": {},
   "outputs": [],
   "source": [
    "message = \"What are some facts about New York?\"  \n",
    "\n",
    "completion = openai.ChatCompletion.create(\n",
    "    messages=[{\"role\": \"user\", \"content\": message}],\n",
    "    deployment_id=deployment_id,\n",
    "    dataSources=[  # camelCase is intentional, as this is the format the API expects\n",
    "        {\n",
    "            \"type\": \"AzureCognitiveSearch\",\n",
    "            \"parameters\": {\n",
    "                \"endpoint\": search_endpoint,\n",
    "                \"key\": search_key,\n",
    "                \"indexName\": search_index_name,\n",
    "            }\n",
    "        }\n",
    "    ]\n",
    ")\n",
    "print(completion)\n"
   ]
  }
 ],
 "metadata": {
  "kernelspec": {
   "display_name": "Python 3",
   "language": "python",
   "name": "python3"
  },
  "language_info": {
   "codemirror_mode": {
    "name": "ipython",
    "version": 3
   },
   "file_extension": ".py",
   "mimetype": "text/x-python",
   "name": "python",
   "nbconvert_exporter": "python",
   "pygments_lexer": "ipython3",
   "version": "3.11.5"
  }
 },
 "nbformat": 4,
 "nbformat_minor": 5
}
