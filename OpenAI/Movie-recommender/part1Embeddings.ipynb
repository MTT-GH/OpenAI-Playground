{
 "cells": [
  {
   "cell_type": "markdown",
   "id": "18da7b67",
   "metadata": {},
   "source": [
    "# Movies recommendation with Azure Open AI & Azure Cognitive Search\n",
    "## Part 1: Embeddings generation with Azure Open AI and Azure Cognitive Search ingestion"
   ]
  },
  {
   "cell_type": "markdown",
   "id": "f20a08b3",
   "metadata": {},
   "source": [
    "<img src=\"https://github.com/retkowsky/images/blob/master/movies_search.png?raw=true\">"
   ]
  },
  {
   "cell_type": "code",
   "execution_count": null,
   "id": "649fb619",
   "metadata": {},
   "outputs": [],
   "source": [
    "#%pip install azure-search-documents --pre --upgrade"
   ]
  },
  {
   "cell_type": "code",
   "execution_count": null,
   "id": "6682834a",
   "metadata": {},
   "outputs": [],
   "source": [
    "import json\n",
    "import math\n",
    "import openai\n",
    "import os\n",
    "import pandas as pd\n",
    "import pickle\n",
    "import pytz\n",
    "import requests\n",
    "import sys\n",
    "import tiktoken\n",
    "import time\n",
    "\n",
    "from azure.core.credentials import AzureKeyCredential\n",
    "from azure.search.documents import SearchClient\n",
    "from azure.search.documents.indexes import SearchIndexClient\n",
    "from azure.search.documents.indexes.models import (\n",
    "    VectorSearch,\n",
    "    SimpleField,\n",
    "    SemanticSettings,\n",
    "    SemanticField,\n",
    "    SemanticConfiguration,\n",
    "    SearchIndex,\n",
    "    SearchFieldDataType,\n",
    "    SearchField,\n",
    "    SearchableField,\n",
    "    PrioritizedFields,\n",
    "    HnswVectorSearchAlgorithmConfiguration,\n",
    ")\n",
    "\n",
    "from datetime import datetime\n",
    "#from dotenv import load_dotenv\n",
    "from openai.embeddings_utils import get_embedding, cosine_similarity\n",
    "from tqdm import tqdm"
   ]
  },
  {
   "cell_type": "code",
   "execution_count": null,
   "id": "018fc6e5",
   "metadata": {},
   "outputs": [],
   "source": [
    "sys.version"
   ]
  },
  {
   "cell_type": "code",
   "execution_count": null,
   "id": "9c70ed19",
   "metadata": {},
   "outputs": [],
   "source": [
    "local_tz = pytz.timezone(requests.get(\"https://ipinfo.io\").json()[\"timezone\"])\n",
    "print(\"Local time:\", datetime.now(local_tz).strftime(\"%d-%b-%Y %H:%M:%S\"))"
   ]
  },
  {
   "cell_type": "code",
   "execution_count": null,
   "id": "28ca0f6e",
   "metadata": {},
   "outputs": [],
   "source": [
    "print(\"Open AI version:\", openai.__version__)"
   ]
  },
  {
   "cell_type": "markdown",
   "id": "0a4752d9",
   "metadata": {},
   "source": [
    "Load configuration settings from GitHub Codespace secrets"
   ]
  },
  {
   "cell_type": "code",
   "execution_count": null,
   "id": "df6462e5",
   "metadata": {},
   "outputs": [],
   "source": [
    "#load_dotenv(\"azure.env\")\n",
    "\n",
    "\n",
    "openai.api_type: str = \"azure\"\n",
    "# openai.api_key = os.getenv(\"OPENAI_API_KEY\")\n",
    "openai.api_key = os.getenv(\"AZURE_OPENAI_API_KEY\")\n",
    "# openai.api_base = os.getenv(\"OPENAI_API_BASE\")\n",
    "openai.api_base = os.getenv(\"AZURE_OPENAI_ENDPOINT\")\n",
    "# openai.api_version = os.getenv(\"OPENAI_API_VERSION\")\n",
    "openai.api_version = os.getenv(\"AZURE_OPENAI_MODEL_CHAT_VERSION\")\n",
    "\n",
    "acs_endpoint = os.getenv(\"AZURE_SEARCH_SERVICE_ENDPOINT\")\n",
    "acs_key = os.getenv(\"AZURE_SEARCH_ADMIN_KEY\")"
   ]
  },
  {
   "cell_type": "markdown",
   "id": "e68d463c",
   "metadata": {},
   "source": [
    "Make sure you include your embedding model deployment name (it may be different)"
   ]
  },
  {
   "cell_type": "code",
   "execution_count": null,
   "id": "7b4281f1",
   "metadata": {},
   "outputs": [],
   "source": [
    "# Azure Open AI embeddings model to use\n",
    "embeddings_engine = \"text-embedding-ada-002-Unai\""
   ]
  },
  {
   "cell_type": "markdown",
   "id": "0463dd72",
   "metadata": {},
   "source": [
    "- Vector search is in public preview\n",
    "- Model name: text-embedding-ada-002\n",
    "- Model version: 2\n",
    "- API version: 2023-05-15"
   ]
  },
  {
   "cell_type": "code",
   "execution_count": null,
   "id": "6f1ae436",
   "metadata": {},
   "outputs": [],
   "source": [
    "# Azure Cognitive Search index name to create\n",
    "index_name = \"moviereview\""
   ]
  },
  {
   "cell_type": "markdown",
   "id": "c0bbefd2",
   "metadata": {},
   "source": [
    "## 0. Azure Cognitive Search vector store\n",
    "<img src=\"https://github.com/retkowsky/images/blob/master/vector_search_architecture.png?raw=true\">"
   ]
  },
  {
   "cell_type": "markdown",
   "id": "e725f2e0",
   "metadata": {},
   "source": [
    "## 1. Data"
   ]
  },
  {
   "cell_type": "code",
   "execution_count": null,
   "id": "18707923",
   "metadata": {},
   "outputs": [],
   "source": [
    "EXCEL_FILE = \"movies.xlsx\"\n",
    "\n",
    "!ls $EXCEL_FILE -lh"
   ]
  },
  {
   "cell_type": "code",
   "execution_count": null,
   "id": "7d12599f",
   "metadata": {},
   "outputs": [],
   "source": [
    "df = pd.read_excel(EXCEL_FILE)"
   ]
  },
  {
   "cell_type": "code",
   "execution_count": null,
   "id": "5a164ddc",
   "metadata": {},
   "outputs": [],
   "source": [
    "df[\"title\"] = df[\"title\"].astype(str)\n",
    "df[\"year\"] = df[\"year\"].astype(str)\n",
    "\n",
    "columns_to_drop = [\"tagline\", \"website\"]\n",
    "df = df.drop(columns_to_drop, axis=1)"
   ]
  },
  {
   "cell_type": "code",
   "execution_count": null,
   "id": "58e7a836",
   "metadata": {},
   "outputs": [],
   "source": [
    "df.head(5)"
   ]
  },
  {
   "cell_type": "code",
   "execution_count": null,
   "id": "2c318304",
   "metadata": {},
   "outputs": [],
   "source": [
    "df.shape"
   ]
  },
  {
   "cell_type": "code",
   "execution_count": null,
   "id": "35da0218",
   "metadata": {},
   "outputs": [],
   "source": [
    "df = df.drop_duplicates()\n",
    "df.shape"
   ]
  },
  {
   "cell_type": "code",
   "execution_count": null,
   "id": "b6a448e9",
   "metadata": {},
   "outputs": [],
   "source": [
    "df.head(5)"
   ]
  },
  {
   "cell_type": "code",
   "execution_count": null,
   "id": "cb26c362",
   "metadata": {},
   "outputs": [],
   "source": [
    "# Removing some extra spaces\n",
    "df[\"description\"] = df[\"description\"].str.replace(\"  \", \" \")\n",
    "df[\"title\"] = df[\"title\"].str.replace(\"  \", \" \")\n",
    "df[\"cast\"] = df[\"cast\"].str.replace(\"  \", \" \")\n",
    "df[\"director\"] = df[\"director\"].str.replace(\"  \", \" \")\n",
    "df[\"genres\"] = df[\"genres\"].str.replace(\"  \", \" \")"
   ]
  },
  {
   "cell_type": "markdown",
   "id": "c73d1649",
   "metadata": {},
   "source": [
    "Analyze number of tokens needed for description field embedding"
   ]
  },
  {
   "cell_type": "code",
   "execution_count": null,
   "id": "558a72c4",
   "metadata": {},
   "outputs": [],
   "source": [
    "tokenizer = tiktoken.get_encoding(\"cl100k_base\")\n",
    "df[\"nb_tokens\"] = df[\"description\"].apply(lambda x: len(tokenizer.encode(x)))\n",
    "df = df[df.nb_tokens < 8192]\n",
    "len(df)"
   ]
  },
  {
   "cell_type": "code",
   "execution_count": null,
   "id": "074d0e79",
   "metadata": {},
   "outputs": [],
   "source": [
    "df.head(5)"
   ]
  },
  {
   "cell_type": "code",
   "execution_count": null,
   "id": "58e58e19",
   "metadata": {},
   "outputs": [],
   "source": [
    "df[\"nb_tokens\"].describe()"
   ]
  },
  {
   "cell_type": "code",
   "execution_count": null,
   "id": "1f3ddb18",
   "metadata": {},
   "outputs": [],
   "source": [
    "df = df.drop(\"nb_tokens\", axis=1)"
   ]
  },
  {
   "cell_type": "code",
   "execution_count": null,
   "id": "85db3ca2",
   "metadata": {},
   "outputs": [],
   "source": [
    "df.shape"
   ]
  },
  {
   "cell_type": "markdown",
   "id": "e22b7044",
   "metadata": {},
   "source": [
    "## 2. Generating text embeddings with Azure Open AI"
   ]
  },
  {
   "cell_type": "markdown",
   "id": "bdf7bd17",
   "metadata": {},
   "source": [
    "### Vectors embeddings"
   ]
  },
  {
   "cell_type": "code",
   "execution_count": null,
   "id": "eafef145",
   "metadata": {},
   "outputs": [],
   "source": [
    "print(\"Embedding engine:\", embeddings_engine)"
   ]
  },
  {
   "cell_type": "code",
   "execution_count": null,
   "id": "3225abc5",
   "metadata": {},
   "outputs": [],
   "source": [
    "def openai_text_embeddings(text):\n",
    "    \"\"\"\n",
    "    Generating embeddings from text using Azure Open AI\n",
    "    Input: text\n",
    "    Output: text embeddings\n",
    "    \"\"\"\n",
    "    embeddings = openai.Embedding.create(\n",
    "        input=text,\n",
    "        deployment_id=embeddings_engine,\n",
    "    )\n",
    "    embeddings = embeddings[\"data\"][0][\"embedding\"]\n",
    "\n",
    "    return embeddings"
   ]
  },
  {
   "cell_type": "code",
   "execution_count": null,
   "id": "a42c3f8c",
   "metadata": {},
   "outputs": [],
   "source": [
    "emb = openai_text_embeddings(\"My name is James Bond\")\n",
    "emb[:5]"
   ]
  },
  {
   "cell_type": "code",
   "execution_count": null,
   "id": "51db08ce",
   "metadata": {},
   "outputs": [],
   "source": [
    "print(\"Size of the embeddings =\", len(emb))"
   ]
  },
  {
   "cell_type": "markdown",
   "id": "0b89ce44",
   "metadata": {},
   "source": [
    "### Running the embedding for the 'description/overview' column (for me it took 20 minutes , maybe faster on other machines)"
   ]
  },
  {
   "cell_type": "code",
   "execution_count": null,
   "id": "39cce04f",
   "metadata": {},
   "outputs": [],
   "source": [
    "print(\"Running the embedding process...\")\n",
    "df[\"embed_overview\"] = None\n",
    "\n",
    "with tqdm(total=len(df)) as pbar:\n",
    "    def apply_embedding(x):\n",
    "        \"\"\"\n",
    "        Azure Open AI text embedding\n",
    "        \"\"\"\n",
    "        global pbar\n",
    "        embedding = get_embedding(x[\"description\"], engine=embeddings_engine)\n",
    "        pbar.update(1)  # Update the progress bar\n",
    "        return embedding\n",
    "    df[\"embed_overview\"] = df.apply(apply_embedding, axis=1)"
   ]
  },
  {
   "cell_type": "markdown",
   "id": "c69f5a16",
   "metadata": {},
   "source": [
    "### Running the embedding for the 'title' column"
   ]
  },
  {
   "cell_type": "code",
   "execution_count": null,
   "id": "31564a51",
   "metadata": {},
   "outputs": [],
   "source": [
    "print(\"Running the embedding process...\")\n",
    "df[\"embed_title\"] = None\n",
    "\n",
    "with tqdm(total=len(df)) as pbar:\n",
    "    def apply_embedding(x):\n",
    "        \"\"\"\n",
    "        Azure Open AI text embedding\n",
    "        \"\"\"\n",
    "        global pbar\n",
    "        embedding = get_embedding(x[\"title\"], engine=embeddings_engine)\n",
    "        pbar.update(1)  # Update the progress bar\n",
    "        return embedding\n",
    "    df[\"embed_title\"] = df.apply(apply_embedding, axis=1)"
   ]
  },
  {
   "cell_type": "markdown",
   "id": "f5e7e197",
   "metadata": {},
   "source": [
    "### Saving the documents (initial data + embeddings) into a file"
   ]
  },
  {
   "cell_type": "code",
   "execution_count": null,
   "id": "bb151f8d",
   "metadata": {},
   "outputs": [],
   "source": [
    "df.head(5)"
   ]
  },
  {
   "cell_type": "code",
   "execution_count": null,
   "id": "d47eca6b",
   "metadata": {},
   "outputs": [],
   "source": [
    "df.shape"
   ]
  },
  {
   "cell_type": "code",
   "execution_count": null,
   "id": "e555513a",
   "metadata": {},
   "outputs": [],
   "source": [
    "documents = df.to_dict(orient=\"records\")\n",
    "print(\"Number of documents =\", len(documents))"
   ]
  },
  {
   "cell_type": "code",
   "execution_count": null,
   "id": "f49910d2",
   "metadata": {},
   "outputs": [],
   "source": [
    "# Saving the documents into a pkl file\n",
    "PKL_DIR = \"embeddings\"\n",
    "PKL_FILE = \"movies.pkl\"\n",
    "\n",
    "os.makedirs(PKL_DIR, exist_ok=True)\n",
    "\n",
    "print(\"Saving documents...\")\n",
    "with open(os.path.join(PKL_DIR, PKL_FILE), 'wb') as f:\n",
    "    pickle.dump(documents, f)\n",
    "print(\"Done\")\n",
    "\n",
    "os.listdir(PKL_DIR)"
   ]
  },
  {
   "cell_type": "markdown",
   "id": "d2f6662f",
   "metadata": {},
   "source": [
    "## 3. Cosine similarity principles"
   ]
  },
  {
   "cell_type": "code",
   "execution_count": null,
   "id": "1b679336",
   "metadata": {},
   "outputs": [],
   "source": [
    "def get_cosine_similarity(vector1, vector2):\n",
    "    \"\"\"\n",
    "    Get cosine similarity value between two embedded vectors\n",
    "    Inputs: 2 embedded vectors\n",
    "    Output: cosine similarity value\n",
    "    \"\"\"\n",
    "    if len(vector1) != len(vector2):\n",
    "        return None\n",
    "    \n",
    "    dot_product = sum(x * y for x, y in zip(vector1, vector2))\n",
    "    magnitude1 = math.sqrt(sum(x * x for x in vector1))\n",
    "    magnitude2 = math.sqrt(sum(x * x for x in vector2))\n",
    "    cosine_similarity = round(dot_product / (magnitude1 * magnitude2), 15)\n",
    "\n",
    "    if cosine_similarity == 1:\n",
    "        print(\n",
    "            \"\\033[1;31;34mStrictly identical text: Cosine similarity =\",\n",
    "            cosine_similarity,\n",
    "        )\n",
    "    \n",
    "    elif cosine_similarity >= 0.8:\n",
    "        print(\"\\033[1;31;32mSame semantic text: Cosine similarity =\", cosine_similarity)\n",
    "    \n",
    "    else:\n",
    "        print(\n",
    "            \"\\033[1;31;91mDifferent semantic text: Cosine similarity =\",\n",
    "            cosine_similarity,\n",
    "        )\n",
    "    \n",
    "    return cosine_similarity"
   ]
  },
  {
   "cell_type": "code",
   "execution_count": null,
   "id": "8384f299",
   "metadata": {},
   "outputs": [],
   "source": [
    "emb1 = openai_text_embeddings(\"My name is James Bond\")\n",
    "emb2 = openai_text_embeddings(\"Sean Connery.\")\n",
    "emb3 = openai_text_embeddings(\"Azure Open AI is great!\")"
   ]
  },
  {
   "cell_type": "code",
   "execution_count": null,
   "id": "c8cc80e9",
   "metadata": {},
   "outputs": [],
   "source": [
    "get_cosine_similarity(emb1, emb1)"
   ]
  },
  {
   "cell_type": "code",
   "execution_count": null,
   "id": "4dec7e96",
   "metadata": {},
   "outputs": [],
   "source": [
    "get_cosine_similarity(emb1, emb2)"
   ]
  },
  {
   "cell_type": "code",
   "execution_count": null,
   "id": "86c84ffc",
   "metadata": {},
   "outputs": [],
   "source": [
    "get_cosine_similarity(emb1, emb3)"
   ]
  },
  {
   "cell_type": "code",
   "execution_count": null,
   "id": "74cb8fff",
   "metadata": {},
   "outputs": [],
   "source": [
    "get_cosine_similarity(emb2, emb1)"
   ]
  },
  {
   "cell_type": "code",
   "execution_count": null,
   "id": "2ffca17b",
   "metadata": {},
   "outputs": [],
   "source": [
    "get_cosine_similarity(emb2, emb3)"
   ]
  },
  {
   "cell_type": "markdown",
   "id": "658b7886",
   "metadata": {},
   "source": [
    "## 4. Quick local tests (without Azure Cognitive Search)"
   ]
  },
  {
   "cell_type": "code",
   "execution_count": null,
   "id": "c88f027b",
   "metadata": {},
   "outputs": [],
   "source": [
    "def quick_search(df, user_query, top_n=3):\n",
    "    \"\"\"\n",
    "    Searching documents\n",
    "    Inputs: dataframe, query and topn\n",
    "    Output: results\n",
    "    \"\"\"\n",
    "    embedding = get_embedding(\n",
    "        user_query,\n",
    "        engine=embeddings_engine,\n",
    "    )\n",
    "    df[\"cosine_similarity\"] = df.embed_overview.apply(\n",
    "        lambda x: cosine_similarity(x, embedding)\n",
    "    )\n",
    "    results = df.sort_values(\"cosine_similarity\", ascending=False).head(top_n)\n",
    "    display(results)\n",
    "\n",
    "    return results"
   ]
  },
  {
   "cell_type": "code",
   "execution_count": null,
   "id": "0e5cdb3b",
   "metadata": {},
   "outputs": [],
   "source": [
    "results = quick_search(df, \"I want to see some Terminator movies\", top_n=3)"
   ]
  },
  {
   "cell_type": "code",
   "execution_count": null,
   "id": "c57d0172",
   "metadata": {},
   "outputs": [],
   "source": [
    "results = quick_search(df, \"Je veux voir un film de James Bond\", top_n=3)"
   ]
  },
  {
   "cell_type": "code",
   "execution_count": null,
   "id": "9c11c1c7",
   "metadata": {},
   "outputs": [],
   "source": [
    "results = quick_search(df, \"Quiero ver películas de ciencia ficción\", top_n=5)"
   ]
  },
  {
   "cell_type": "code",
   "execution_count": null,
   "id": "8b42cb2d",
   "metadata": {},
   "outputs": [],
   "source": [
    "results = quick_search(df, \"Voglio vedere dei film musicali\", top_n=5)"
   ]
  },
  {
   "cell_type": "code",
   "execution_count": null,
   "id": "0467c207",
   "metadata": {},
   "outputs": [],
   "source": [
    "results = quick_search(df, \"音楽映画が観たい\", top_n=5)"
   ]
  },
  {
   "cell_type": "markdown",
   "id": "436ab9f7",
   "metadata": {},
   "source": [
    "## 5. Azure Cognitive Search functions"
   ]
  },
  {
   "cell_type": "code",
   "execution_count": null,
   "id": "8e549a54",
   "metadata": {},
   "outputs": [],
   "source": [
    "def delete_index(index_name):\n",
    "    \"\"\"\n",
    "    Deleting an Azure Cognitive Search index\n",
    "    Input: Azure Cognitive Search index\n",
    "    Output: None\n",
    "    \"\"\"\n",
    "    start = time.time()\n",
    "    search_client = SearchIndexClient(\n",
    "        endpoint=acs_endpoint, credential=AzureKeyCredential(acs_key)\n",
    "    )\n",
    "    \n",
    "    try:\n",
    "        print(\"Deleting the Azure Cognitive Search index:\", index_name)\n",
    "        search_client.delete_index(index_name)\n",
    "        print(\"Done. Elapsed time:\", round(time.time() - start, 2), \"secs\")\n",
    "    except:\n",
    "        print(\"Cannot delete index. Check the index name.\")"
   ]
  },
  {
   "cell_type": "code",
   "execution_count": null,
   "id": "4e61eead",
   "metadata": {},
   "outputs": [],
   "source": [
    "def index_stats(index_name):\n",
    "    \"\"\"\n",
    "    Get statistics about Azure Cognitive Search index\n",
    "    Input: Azure Cognitive Search index\n",
    "    Output: Get Azure Cognitive Search index stats\n",
    "    \"\"\"\n",
    "    url = (\n",
    "        acs_endpoint\n",
    "        + \"/indexes/\"\n",
    "        + index_name\n",
    "        + \"/stats?api-version=2021-04-30-Preview\"\n",
    "    )\n",
    "    headers = {\n",
    "        \"Content-Type\": \"application/json\",\n",
    "        \"api-key\": acs_key,\n",
    "    }\n",
    "    response = requests.get(url, headers=headers)\n",
    "    print(\"Azure Cognitive Search index status for:\", index_name, \"\\n\")\n",
    "\n",
    "    if response.status_code == 200:\n",
    "        res = response.json()\n",
    "        print(json.dumps(res, indent=2))\n",
    "        document_count = res[\"documentCount\"]\n",
    "        storage_size = res[\"storageSize\"]\n",
    "\n",
    "    else:\n",
    "        print(\"Request failed with status code:\", response.status_code)\n",
    "\n",
    "    return document_count, storage_size"
   ]
  },
  {
   "cell_type": "code",
   "execution_count": null,
   "id": "29eaac49",
   "metadata": {},
   "outputs": [],
   "source": [
    "def index_status(index_name):\n",
    "    \"\"\"\n",
    "    Azure Cognitive Search index status\n",
    "    Input: Azure Cognitive Search index\n",
    "    Output: Get Azure Cognitive Search index status\n",
    "    \"\"\"\n",
    "    print(\"Azure Cognitive Search Index:\", index_name, \"\\n\")\n",
    "\n",
    "    headers = {\"Content-Type\": \"application/json\", \"api-key\": acs_key}\n",
    "    params = {\"api-version\": \"2021-04-30-Preview\"}\n",
    "    index_status = requests.get(\n",
    "        acs_endpoint + \"/indexes/\" + index_name, headers=headers, params=params\n",
    "    )\n",
    "\n",
    "    try:\n",
    "        print(json.dumps((index_status.json()), indent=5))\n",
    "    except:\n",
    "        print(\"Request failed with status code:\", response.status_code)"
   ]
  },
  {
   "cell_type": "markdown",
   "id": "f0da537a",
   "metadata": {},
   "source": [
    "## 6. Creating an Azure Cognitive Search index"
   ]
  },
  {
   "cell_type": "code",
   "execution_count": null,
   "id": "85f1e803",
   "metadata": {},
   "outputs": [],
   "source": [
    "try:\n",
    "    # Setting the Azure Cognitive Search client\n",
    "    print(\"Setting the Azure Cognitive Search client\")\n",
    "    search_client = SearchIndexClient(\n",
    "        endpoint=acs_endpoint,\n",
    "        credential=AzureKeyCredential(acs_key)\n",
    "    )\n",
    "    print(\"Done. Azure Cognitive Search client defined.\")\n",
    "    print(search_client)\n",
    "\n",
    "except:\n",
    "    print(\"Request failed. Cannot create Azure Cognitive Search client:\", acs_endpoint)"
   ]
  },
  {
   "cell_type": "markdown",
   "id": "5ff3bd13",
   "metadata": {},
   "source": [
    "### Removing any existing index"
   ]
  },
  {
   "cell_type": "code",
   "execution_count": null,
   "id": "70a493bf",
   "metadata": {},
   "outputs": [],
   "source": [
    "delete_index(index_name)"
   ]
  },
  {
   "cell_type": "markdown",
   "id": "0e1e0e6a",
   "metadata": {},
   "source": [
    "### Creating search index"
   ]
  },
  {
   "cell_type": "code",
   "execution_count": null,
   "id": "0c551775",
   "metadata": {},
   "outputs": [],
   "source": [
    "vector_search_dim = len(openai_text_embeddings(\"Hello\"))\n",
    "print(\"Vector embeddings size =\", vector_search_dim)"
   ]
  },
  {
   "cell_type": "code",
   "execution_count": null,
   "id": "19fc42da",
   "metadata": {},
   "outputs": [],
   "source": [
    "# Create a search index\n",
    "index_client = SearchIndexClient(\n",
    "    endpoint=acs_endpoint, credential=AzureKeyCredential(acs_key)\n",
    ")\n",
    "fields = [\n",
    "    # Index\n",
    "    SimpleField(\n",
    "        name=\"imdb_id\",\n",
    "        type=SearchFieldDataType.String,\n",
    "        key=True,\n",
    "        sortable=True,\n",
    "        filterable=True,\n",
    "        facetable=True,\n",
    "    ),\n",
    "    # Searchable fields\n",
    "    SearchableField(name=\"title\", type=SearchFieldDataType.String, filterable=True),\n",
    "    SearchableField(name=\"cast\", type=SearchFieldDataType.String, filterable=True),\n",
    "    SearchableField(name=\"director\", type=SearchFieldDataType.Single, filterable=True),\n",
    "    SearchableField(name=\"description\", type=SearchFieldDataType.String),\n",
    "    SearchableField(name=\"genres\", type=SearchFieldDataType.String, filterable=True),\n",
    "    SearchableField(name=\"year\", type=SearchFieldDataType.String, filterable=True),\n",
    "    # Vectors embeddings\n",
    "    SearchField(\n",
    "        name=\"embed_overview\",\n",
    "        type=SearchFieldDataType.Collection(SearchFieldDataType.Single),\n",
    "        searchable=True,\n",
    "        vector_search_dimensions=vector_search_dim,\n",
    "        vector_search_configuration=\"my-vector-config\",\n",
    "    ),\n",
    "    SearchField(\n",
    "        name=\"embed_title\",\n",
    "        type=SearchFieldDataType.Collection(SearchFieldDataType.Single),\n",
    "        searchable=True,\n",
    "        vector_search_dimensions=vector_search_dim,\n",
    "        vector_search_configuration=\"my-vector-config\",\n",
    "    ),\n",
    "]\n",
    "\n",
    "\n",
    "# Configuration\n",
    "vector_search = VectorSearch(\n",
    "    algorithm_configurations=[\n",
    "        HnswVectorSearchAlgorithmConfiguration(\n",
    "            name=\"my-vector-config\",\n",
    "            # HNSW is a graph-based Approximate Nearest Neighbors (ANN)\n",
    "            # algorithm optimized for high-recall, low-latency applications\n",
    "            kind=\"hnsw\",\n",
    "            parameters={\n",
    "                \"m\": 4,\n",
    "                \"efConstruction\": 400,\n",
    "                \"efSearch\": 500,\n",
    "                \"metric\": \"cosine\",  # Cosine similarity metric\n",
    "            },\n",
    "        )\n",
    "    ]\n",
    ")\n",
    "\n",
    "semantic_config = SemanticConfiguration(\n",
    "    name=\"my-semantic-config\",\n",
    "    prioritized_fields=PrioritizedFields(\n",
    "        title_field=SemanticField(field_name=\"title\"),\n",
    "        prioritized_keywords_fields=[SemanticField(field_name=\"genres\")],\n",
    "        prioritized_content_fields=[SemanticField(field_name=\"description\")],\n",
    "    ),\n",
    ")\n",
    "\n",
    "# Create the semantic settings with the configuration\n",
    "semantic_settings = SemanticSettings(configurations=[semantic_config])\n",
    "\n",
    "# Create the search index with the semantic settings\n",
    "index = SearchIndex(\n",
    "    name=index_name,\n",
    "    fields=fields,\n",
    "    vector_search=vector_search,\n",
    "    semantic_settings=semantic_settings,\n",
    ")\n",
    "\n",
    "try:\n",
    "    result = index_client.create_or_update_index(index)\n",
    "    print(f\"Done. The {result.name} Azure Cognitive Search index has been created!\")\n",
    "\n",
    "except:\n",
    "    print(f\"Error. The {result.name} Azure Cognitive Search index cannot be created.\")"
   ]
  },
  {
   "cell_type": "markdown",
   "id": "f975c827",
   "metadata": {},
   "source": [
    "## 7. Uploading the documents into the index"
   ]
  },
  {
   "cell_type": "code",
   "execution_count": null,
   "id": "a6491d06",
   "metadata": {},
   "outputs": [],
   "source": [
    "print(\"Number of documents to load =\", len(documents))"
   ]
  },
  {
   "cell_type": "code",
   "execution_count": null,
   "id": "c5b89b0c",
   "metadata": {},
   "outputs": [],
   "source": [
    "def upload_documents(docs):\n",
    "    \"\"\"\n",
    "    Uploading documents into the Azure Cognitive Search index\n",
    "    Inputs: documents\n",
    "    Outputs: loading documents to Azure Cognitive Search index\n",
    "    \"\"\"\n",
    "    search_client = SearchClient(\n",
    "        endpoint=acs_endpoint,\n",
    "        index_name=index_name,\n",
    "        credential=AzureKeyCredential(acs_key),\n",
    "    )\n",
    "    result = search_client.upload_documents(docs)"
   ]
  },
  {
   "cell_type": "code",
   "execution_count": null,
   "id": "d421458b",
   "metadata": {},
   "outputs": [],
   "source": [
    "def chunk_list(input_list, chunk_size):\n",
    "    \"\"\"\n",
    "    Chunk a list according to the chunk_size value\n",
    "    Inputs: documents (list), chunk size list\n",
    "    Outputs: chunk list of documents\n",
    "    \"\"\"\n",
    "    return [\n",
    "        input_list[i : i + chunk_size] for i in range(0, len(input_list), chunk_size)\n",
    "    ]"
   ]
  },
  {
   "cell_type": "code",
   "execution_count": null,
   "id": "d49c63fa",
   "metadata": {},
   "outputs": [],
   "source": [
    "start = time.time()\n",
    "\n",
    "chunk_size = 500  # We will load documents chunk by chunk\n",
    "chunks = chunk_list(documents, chunk_size)\n",
    "idx = 1\n",
    "\n",
    "print(\"Loading the documents into the Azure Cognitive Search index...\")\n",
    "print(\"Total number of documents to load =\", len(documents))\n",
    "print()\n",
    "\n",
    "loaded_docs = chunk_size\n",
    "\n",
    "for chunk in chunks:\n",
    "    pct_done = round(loaded_docs / len(documents) * 100)\n",
    "    if pct_done >= 100:\n",
    "        pct_done = 100\n",
    "\n",
    "    print(\n",
    "        f\"Processing chunk {idx:03}\",\n",
    "        f\"| Number of loaded documents = {loaded_docs:06}\",\n",
    "        \"of\",\n",
    "        len(documents),\n",
    "        \"| Done:\",\n",
    "        pct_done,\n",
    "        \"%\",\n",
    "    )\n",
    "    upload_documents(chunk)\n",
    "    loaded_docs += chunk_size\n",
    "    idx += 1\n",
    "\n",
    "elapsed = time.time() - start\n",
    "print(\"\\nDone\")\n",
    "print(\n",
    "    \"Elapsed time: \"\n",
    "    + time.strftime(\n",
    "        \"%H:%M:%S.{}\".format(str(elapsed % 1)[2:])[:15], time.gmtime(elapsed)\n",
    "    )\n",
    ")"
   ]
  },
  {
   "cell_type": "code",
   "execution_count": null,
   "id": "f256de96",
   "metadata": {},
   "outputs": [],
   "source": [
    "print(f\"Elapsed time to process {len(documents)} documents = {round(elapsed)} seconds\")\n",
    "print(f\"Time per processed document in second = {round(elapsed / len(documents), 5)}\")\n",
    "print(f\"Number of processed documents per second = {int(len(documents) / elapsed)}\")"
   ]
  },
  {
   "cell_type": "markdown",
   "id": "e29fd702",
   "metadata": {},
   "source": [
    "## 8. Azure Cognitive Search Index informations"
   ]
  },
  {
   "cell_type": "code",
   "execution_count": null,
   "id": "9abec83e",
   "metadata": {},
   "outputs": [],
   "source": [
    "index_name"
   ]
  },
  {
   "cell_type": "code",
   "execution_count": null,
   "id": "70612697",
   "metadata": {},
   "outputs": [],
   "source": [
    "index_status(index_name)"
   ]
  },
  {
   "cell_type": "code",
   "execution_count": null,
   "id": "291d88e2",
   "metadata": {},
   "outputs": [],
   "source": [
    "document_count, storage_size = index_stats(index_name)"
   ]
  },
  {
   "cell_type": "code",
   "execution_count": null,
   "id": "3ba394a0",
   "metadata": {},
   "outputs": [],
   "source": [
    "print(\"Number of documents in the index =\", f\"{document_count:,}\")\n",
    "print(\"Size of the index =\", round(storage_size / (1024 * 1024), 2), \"MB\")"
   ]
  },
  {
   "cell_type": "markdown",
   "id": "59c3db49",
   "metadata": {},
   "source": [
    "Note: Please wait some time in order to have the updated results"
   ]
  },
  {
   "cell_type": "markdown",
   "id": "306abe6b",
   "metadata": {},
   "source": [
    "> Go to the next notebook"
   ]
  }
 ],
 "metadata": {
  "kernelspec": {
   "display_name": "Python 3",
   "language": "python",
   "name": "python3"
  },
  "language_info": {
   "codemirror_mode": {
    "name": "ipython",
    "version": 3
   },
   "file_extension": ".py",
   "mimetype": "text/x-python",
   "name": "python",
   "nbconvert_exporter": "python",
   "pygments_lexer": "ipython3",
   "version": "3.11.5"
  }
 },
 "nbformat": 4,
 "nbformat_minor": 5
}
