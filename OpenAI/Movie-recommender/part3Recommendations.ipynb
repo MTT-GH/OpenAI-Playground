{
 "cells": [
  {
   "cell_type": "markdown",
   "id": "18da7b67",
   "metadata": {},
   "source": [
    "# Movies recommendations with Azure Open AI & Azure Cognitive Search\n",
    "## Part 3 - Recommandations"
   ]
  },
  {
   "cell_type": "markdown",
   "id": "8ddd8cc7",
   "metadata": {},
   "source": [
    "<img src=\"https://github.com/retkowsky/images/blob/master/movies_search.png?raw=true\">"
   ]
  },
  {
   "cell_type": "code",
   "execution_count": null,
   "id": "649fb619",
   "metadata": {},
   "outputs": [],
   "source": [
    "# %pip install azure-search-documents --pre --upgrade"
   ]
  },
  {
   "cell_type": "code",
   "execution_count": null,
   "id": "425fb426",
   "metadata": {},
   "outputs": [],
   "source": [
    "# %pip install youtube-search-python"
   ]
  },
  {
   "cell_type": "code",
   "execution_count": null,
   "id": "6682834a",
   "metadata": {},
   "outputs": [],
   "source": [
    "import json\n",
    "import movieposters as mp\n",
    "import openai\n",
    "import os\n",
    "import pytz\n",
    "import requests\n",
    "import sys\n",
    "import time\n",
    "\n",
    "from azure.core.credentials import AzureKeyCredential\n",
    "from azure.search.documents import SearchClient\n",
    "from azure.search.documents.indexes import SearchIndexClient\n",
    "from azure.search.documents.models import Vector\n",
    "\n",
    "from datetime import datetime\n",
    "#from dotenv import load_dotenv\n",
    "from IPython.display import IFrame, display\n",
    "from io import BytesIO\n",
    "from PIL import Image\n",
    "from youtubesearchpython import VideosSearch, Comments"
   ]
  },
  {
   "cell_type": "code",
   "execution_count": null,
   "id": "018fc6e5",
   "metadata": {},
   "outputs": [],
   "source": [
    "sys.version"
   ]
  },
  {
   "cell_type": "code",
   "execution_count": null,
   "id": "9c70ed19",
   "metadata": {},
   "outputs": [],
   "source": [
    "local_tz = pytz.timezone(requests.get(\"https://ipinfo.io\").json()[\"timezone\"])\n",
    "print(\"Local time:\", datetime.now(local_tz).strftime(\"%d-%b-%Y %H:%M:%S\"))"
   ]
  },
  {
   "cell_type": "code",
   "execution_count": null,
   "id": "28ca0f6e",
   "metadata": {},
   "outputs": [],
   "source": [
    "print(\"Open AI version:\", openai.__version__)"
   ]
  },
  {
   "cell_type": "markdown",
   "id": "976d2eb2",
   "metadata": {},
   "source": [
    "Load the configuration settings from GitHub Codespace Secrets."
   ]
  },
  {
   "cell_type": "code",
   "execution_count": null,
   "id": "df6462e5",
   "metadata": {},
   "outputs": [],
   "source": [
    "#load_dotenv(\"azure.env\")\n",
    "\n",
    "\n",
    "openai.api_type: str = \"azure\"\n",
    "# openai.api_key = os.getenv(\"OPENAI_API_KEY\")\n",
    "openai.api_key = os.getenv(\"AZURE_OPENAI_API_KEY\")\n",
    "# openai.api_base = os.getenv(\"OPENAI_API_BASE\")\n",
    "openai.api_base = os.getenv(\"AZURE_OPENAI_ENDPOINT\")\n",
    "# openai.api_version = os.getenv(\"OPENAI_API_VERSION\")\n",
    "openai.api_version = os.getenv(\"AZURE_OPENAI_MODEL_CHAT_VERSION\")\n",
    "\n",
    "acs_endpoint = os.getenv(\"AZURE_SEARCH_SERVICE_ENDPOINT\")\n",
    "acs_key = os.getenv(\"AZURE_SEARCH_ADMIN_KEY\")"
   ]
  },
  {
   "cell_type": "markdown",
   "id": "f2998271",
   "metadata": {},
   "source": [
    "Make sure it includes the name of your embedding model deployment!"
   ]
  },
  {
   "cell_type": "code",
   "execution_count": null,
   "id": "7b4281f1",
   "metadata": {},
   "outputs": [],
   "source": [
    "# Azure Open AI embeddings model to use\n",
    "embeddings_engine = \"text-embedding-ada-002-Unai\""
   ]
  },
  {
   "cell_type": "markdown",
   "id": "0463dd72",
   "metadata": {},
   "source": [
    "- Vector search is in public preview\n",
    "- Model name: text-embedding-ada-002\n",
    "- Model version: 2\n",
    "- API version: 2023-05-15"
   ]
  },
  {
   "cell_type": "code",
   "execution_count": null,
   "id": "6f1ae436",
   "metadata": {},
   "outputs": [],
   "source": [
    "# Azure Cognitive Search index name to create\n",
    "index_name = \"moviereview\""
   ]
  },
  {
   "cell_type": "markdown",
   "id": "436ab9f7",
   "metadata": {},
   "source": [
    "## 1. Functions"
   ]
  },
  {
   "cell_type": "markdown",
   "id": "d62dbfa7",
   "metadata": {},
   "source": [
    "definition to delete existing search index"
   ]
  },
  {
   "cell_type": "code",
   "execution_count": null,
   "id": "8e549a54",
   "metadata": {},
   "outputs": [],
   "source": [
    "def acs_delete_index(index_name):\n",
    "    \"\"\"\n",
    "    Deleting an Azure Cognitive Search index\n",
    "    Input: index name (string)\n",
    "    \"\"\"\n",
    "    start = time.time()\n",
    "    search_client = SearchIndexClient(\n",
    "        endpoint=acs_endpoint, credential=AzureKeyCredential(acs_key)\n",
    "    )\n",
    "\n",
    "    try:\n",
    "        print(\"Deleting the Azure Cognitive Search index:\", index_name)\n",
    "        search_client.delete_index(index_name)\n",
    "        print(\"Done. Elapsed time:\", round(time.time() - start, 2), \"secs\")\n",
    "    except:\n",
    "        print(\"Cannot delete index. Check the index name.\")"
   ]
  },
  {
   "cell_type": "code",
   "execution_count": null,
   "id": "4e61eead",
   "metadata": {},
   "outputs": [],
   "source": [
    "def acs_index_stats(index_name):\n",
    "    \"\"\"\n",
    "    Get statistics about Azure Cognitive Search index\n",
    "    Input: index name (string)\n",
    "    \"\"\"\n",
    "    url = (\n",
    "        acs_endpoint\n",
    "        + \"/indexes/\"\n",
    "        + index_name\n",
    "        + \"/stats?api-version=2021-04-30-Preview\"\n",
    "    )\n",
    "    headers = {\n",
    "        \"Content-Type\": \"application/json\",\n",
    "        \"api-key\": acs_key,\n",
    "    }\n",
    "    response = requests.get(url, headers=headers)\n",
    "    print(\"Azure Cognitive Search index status for:\", index_name, \"\\n\")\n",
    "\n",
    "    if response.status_code == 200:\n",
    "        res = response.json()\n",
    "        print(json.dumps(res, indent=2))\n",
    "        document_count = res[\"documentCount\"]\n",
    "        storage_size = res[\"storageSize\"]\n",
    "\n",
    "    else:\n",
    "        print(\"Request failed with status code:\", response.status_code)\n",
    "\n",
    "    return document_count, storage_size"
   ]
  },
  {
   "cell_type": "code",
   "execution_count": null,
   "id": "29eaac49",
   "metadata": {},
   "outputs": [],
   "source": [
    "def acs_index_status(index_name):\n",
    "    \"\"\"\n",
    "    Azure Cognitive Search index status\n",
    "    Input: index name (string)\n",
    "    \"\"\"\n",
    "    print(\"Azure Cognitive Search Index:\", index_name, \"\\n\")\n",
    "\n",
    "    headers = {\"Content-Type\": \"application/json\", \"api-key\": acs_key}\n",
    "    params = {\"api-version\": \"2021-04-30-Preview\"}\n",
    "    index_status = requests.get(\n",
    "        acs_endpoint + \"/indexes/\" + index_name, headers=headers, params=params\n",
    "    )\n",
    "\n",
    "    try:\n",
    "        print(json.dumps((index_status.json()), indent=5))\n",
    "    except:\n",
    "        print(\"Request failed with status code:\", response.status_code)"
   ]
  },
  {
   "cell_type": "markdown",
   "id": "b07957d9",
   "metadata": {},
   "source": [
    "Definition to create embeddings (vector representation) for your data using Open AI Vector Embedding models"
   ]
  },
  {
   "cell_type": "code",
   "execution_count": null,
   "id": "c34a988a",
   "metadata": {},
   "outputs": [],
   "source": [
    "def azure_openai_text_embeddings(text):\n",
    "    \"\"\"\n",
    "    Generating embeddings from text using Azure Open AI\n",
    "    Input: text\n",
    "    Output: vector embedding\n",
    "    \"\"\"\n",
    "    embeddings = openai.Embedding.create(\n",
    "        input=text,\n",
    "        deployment_id=embeddings_engine,\n",
    "    )\n",
    "    embeddings = embeddings[\"data\"][0][\"embedding\"]\n",
    "\n",
    "    return embeddings"
   ]
  },
  {
   "cell_type": "code",
   "execution_count": null,
   "id": "653a2fe9",
   "metadata": {},
   "outputs": [],
   "source": [
    "def get_list(movielist):\n",
    "    \"\"\"\n",
    "    Get list of movies\n",
    "    Input: movies list (list)\n",
    "    Output: results (text)\n",
    "    \"\"\"\n",
    "    pattern = r\"\\d+\\.\\s(.+)\"\n",
    "    matches = re.findall(pattern, movielist)\n",
    "    for idx, movie in enumerate(matches, start=1):\n",
    "        print(f\"Movie {idx}: {movie}.\")\n",
    "\n",
    "    return matches"
   ]
  },
  {
   "cell_type": "markdown",
   "id": "c73a5ce1",
   "metadata": {},
   "source": [
    "## 2. Azure Cognitive Search index"
   ]
  },
  {
   "cell_type": "markdown",
   "id": "dfc4f746",
   "metadata": {},
   "source": [
    "### Azure Cognitive Search vector store\n",
    "<img src=\"https://github.com/retkowsky/images/blob/master/vector_search_architecture.png?raw=true\">"
   ]
  },
  {
   "cell_type": "code",
   "execution_count": null,
   "id": "70612697",
   "metadata": {},
   "outputs": [],
   "source": [
    "acs_index_status(index_name)"
   ]
  },
  {
   "cell_type": "code",
   "execution_count": null,
   "id": "291d88e2",
   "metadata": {},
   "outputs": [],
   "source": [
    "document_count, storage_size = acs_index_stats(index_name)"
   ]
  },
  {
   "cell_type": "code",
   "execution_count": null,
   "id": "3ba394a0",
   "metadata": {},
   "outputs": [],
   "source": [
    "print(\"Number of documents in the index =\", f\"{document_count:,}\")\n",
    "print(\"Size of the index =\", round(storage_size / (1024 * 1024), 2), \"MB\")"
   ]
  },
  {
   "cell_type": "markdown",
   "id": "cadef288",
   "metadata": {},
   "source": [
    "## 3. Functions"
   ]
  },
  {
   "cell_type": "markdown",
   "id": "7159959e",
   "metadata": {},
   "source": [
    "Make sure your include your model deployment name as engine!"
   ]
  },
  {
   "cell_type": "code",
   "execution_count": null,
   "id": "d9eb6fc0",
   "metadata": {},
   "outputs": [],
   "source": [
    "def azure_chatgpt_movies(prompt, max_retries=3, retry_delay=1):\n",
    "    \"\"\"\n",
    "    Chat GPT with Azure Open AI\n",
    "    Input: prompt (text)\n",
    "    Output: results (string)\n",
    "    \"\"\"\n",
    "    for _ in range(max_retries):\n",
    "        try:\n",
    "            response = openai.ChatCompletion.create(\n",
    "                engine=\"gpt-35-turbo-unai\",  # Should be deployed in the AOAI studio\n",
    "                messages=[\n",
    "                    {\n",
    "                        \"role\": \"system\",\n",
    "                        \"content\": \"You are an AI assistant that helps people to find \\\n",
    "                        information about movies.\",\n",
    "                    },\n",
    "                    {\"role\": \"user\", \"content\": prompt},\n",
    "                ],\n",
    "                temperature=0.9,\n",
    "                max_tokens=800,\n",
    "                top_p=1,\n",
    "                frequency_penalty=0,\n",
    "                presence_penalty=0,\n",
    "                stop=None,\n",
    "            )\n",
    "\n",
    "            resp = response[\"choices\"][0][\"message\"][\"content\"]\n",
    "\n",
    "            print(\"\\033[1;31;34mPrompt:\", prompt)\n",
    "            print(\"\\n\\033[1;31;32mResponse:\", resp)\n",
    "            print(\"\\033[1;31;35m\")\n",
    "            print(\"Powered by Azure AI\")\n",
    "            # Local time\n",
    "            local_tz = pytz.timezone(\n",
    "                requests.get(\"https://ipinfo.io\").json()[\"timezone\"]\n",
    "            )\n",
    "            print(datetime.now(local_tz).strftime(\"%d-%b-%Y %H:%M:%S\"))\n",
    "\n",
    "            return resp\n",
    "\n",
    "        except Exception as e:\n",
    "            print(\"Error:\", str(e))\n",
    "            print(\"Retrying...\")\n",
    "            time.sleep(retry_delay)\n",
    "\n",
    "    print(\"Maximum retries exceeded. Unable to get a response.\")\n",
    "\n",
    "    return None"
   ]
  },
  {
   "cell_type": "code",
   "execution_count": null,
   "id": "abda3f1d",
   "metadata": {},
   "outputs": [],
   "source": [
    "def get_movie_poster(imdb_id):\n",
    "    \"\"\"\n",
    "    Display movie poster from its IMDB id\n",
    "    Input: imdb id (string)\n",
    "    Output: display image file and save as an image file\n",
    "    \"\"\"\n",
    "    poster = mp.get_poster(id=imdb_id)\n",
    "    response = requests.get(poster)\n",
    "\n",
    "    if response.status_code == 200:\n",
    "        img = Image.open(BytesIO(response.content))\n",
    "        display(img)\n",
    "        # Save as a local file\n",
    "        os.makedirs(\"movieposter\", exist_ok=True)\n",
    "        posterfile = os.path.join(\"movieposter\", \"movie_\" + str(imdb_id) + \".jpg\")\n",
    "        img.save(posterfile)\n",
    "    else:\n",
    "        print(\"Failed to fetch the movie image.\")"
   ]
  },
  {
   "cell_type": "code",
   "execution_count": null,
   "id": "f7f2659f",
   "metadata": {},
   "outputs": [],
   "source": [
    "def get_trailer(movietitle):\n",
    "    \"\"\"\n",
    "    Get youtube video trailer\n",
    "    Input: movie title (string)\n",
    "    Output: Display the trailer video\n",
    "    \"\"\"\n",
    "    # Search video on youtube\n",
    "    videosSearch = VideosSearch(movietitle, limit=1)\n",
    "    video_results = videosSearch.result().get(\"result\")\n",
    "\n",
    "    if video_results:\n",
    "        print(\"\\033[1;31;34m\")\n",
    "        video_id = video_results[0].get(\"id\")\n",
    "        video_url = f\"https://www.youtube.com/watch?v={video_id}\"\n",
    "        print(\"\\033[1;31;34m\", video_url)\n",
    "        vid = IFrame(\n",
    "            src=f\"https://www.youtube.com/embed/{video_id}\", width=\"560\", height=\"315\"\n",
    "        )\n",
    "        display(vid)\n",
    "\n",
    "        # Get the first 20 Youtube video comments\n",
    "        print(\"YouTube video comments for\", movietitle, \":\")\n",
    "        comments = Comments.get(video_id)\n",
    "        print(\"\\033[1;31;32m\")\n",
    "\n",
    "        for idx, comment in enumerate(comments.get(\"result\")):\n",
    "            print(f\"Comment {idx+1:02}: {comment.get('content')}\")\n",
    "        print(\"\\033[0m\")\n",
    "    else:\n",
    "        print(\"No video found on YouTube.\")"
   ]
  },
  {
   "cell_type": "code",
   "execution_count": null,
   "id": "09fd2132",
   "metadata": {},
   "outputs": [],
   "source": [
    "def get_all_movies_trailers(movies_list):\n",
    "    \"\"\"\n",
    "    Get movie trailers from a list of movies\n",
    "    Input: movies list (string)\n",
    "    Output: Display the trailer video for each element of the list\n",
    "    \"\"\"\n",
    "    for movie in movies_list:\n",
    "        print(movie)\n",
    "        try:\n",
    "            get_trailer(movie)\n",
    "        except:\n",
    "            print(\"Error\")\n",
    "        print()"
   ]
  },
  {
   "cell_type": "code",
   "execution_count": null,
   "id": "f6a65eb6",
   "metadata": {},
   "outputs": [],
   "source": [
    "def acs_movies_with_posters(title):\n",
    "    \"\"\"\n",
    "    Cross Field Search\n",
    "    Input: title (string)\n",
    "    Ouput: results (string)\n",
    "    \"\"\"\n",
    "    search_client = SearchClient(\n",
    "        acs_endpoint, index_name, credential=AzureKeyCredential(acs_key)\n",
    "    )\n",
    "\n",
    "    vector = Vector(value=azure_openai_text_embeddings(title), k=1, fields=\"embed_title\")\n",
    "\n",
    "    results = search_client.search(\n",
    "        search_text=None,\n",
    "        vectors=[vector],\n",
    "        select=[\n",
    "            \"imdb_id\",\n",
    "            \"title\",\n",
    "            \"cast\",\n",
    "            \"director\",\n",
    "            \"description\",\n",
    "            \"genres\",\n",
    "            \"year\",\n",
    "        ],\n",
    "        top=1,\n",
    "    )\n",
    "\n",
    "    for result in results:\n",
    "        if result[\"@search.score\"] >= 0.9:\n",
    "            print(\"\\033[1;31;34m\")\n",
    "            print(f\"Movie title: {result['title']}\")\n",
    "            print(f\"Movie ID: {result['imdb_id']}\")\n",
    "            # Get movie poster\n",
    "            get_movie_poster(result[\"imdb_id\"])\n",
    "            print(\"\\033[1;31;32m\")\n",
    "            print(f\"Description: {result['description']}\")\n",
    "            print(\"\\033[0m\")\n",
    "            print(f\"Cast: {result['cast']}\")\n",
    "            print(f\"Director: {result['director']}\")\n",
    "            print(f\"Genres: {result['genres']}\")\n",
    "            print(f\"Year: {result['year']}\")\n",
    "            print(\"\\033[1;31;35m\")\n",
    "            print(f\"Score = {result['@search.score']}\")\n",
    "        \n",
    "        else:\n",
    "            print(\"\\033[1;31;91m\")\n",
    "            print(\n",
    "                \"Note: The movie\",\n",
    "                title,\n",
    "                \"is not available in the Azure Cognitive search index\",\n",
    "            )\n",
    "            print(\"\\033[0m\")"
   ]
  },
  {
   "cell_type": "code",
   "execution_count": null,
   "id": "0e8f48bd",
   "metadata": {},
   "outputs": [],
   "source": [
    "def acs_movies_results(movies_list):\n",
    "    \"\"\"\n",
    "    Find movies using Azure Cognitive Search from a list of movies\n",
    "    Input: movies list (list)\n",
    "    Output: results\n",
    "    \"\"\"\n",
    "    for movie in movies_list:\n",
    "        acs_movies_with_posters(movie)"
   ]
  },
  {
   "cell_type": "markdown",
   "id": "49410f7d",
   "metadata": {},
   "source": [
    "# 4. Recommandation system"
   ]
  },
  {
   "cell_type": "code",
   "execution_count": null,
   "id": "df38accc",
   "metadata": {},
   "outputs": [],
   "source": [
    "genres_list = [\n",
    "    \"Action\",\n",
    "    \"Adventure\",\n",
    "    \"Fantasy\",\n",
    "    \"Science Fiction\",\n",
    "    \"Crime\",\n",
    "    \"Thriller\",\n",
    "    \"Animation\",\n",
    "    \"Family\",\n",
    "    \"Western\",\n",
    "    \"Romance\",\n",
    "    \"Horror\",\n",
    "    \"Mystery\",\n",
    "    \"History\",\n",
    "    \"War\",\n",
    "    \"Drama\",\n",
    "    \"Comedy\",\n",
    "    \"Music\",\n",
    "]\n",
    "\n",
    "len(genres_list)"
   ]
  },
  {
   "cell_type": "code",
   "execution_count": null,
   "id": "a24a9057",
   "metadata": {},
   "outputs": [],
   "source": [
    "actors_list = [\n",
    "    \"Robert De Niro\",\n",
    "    \"Al Pacino\",\n",
    "    \"Jack Nicholson\",\n",
    "    \"Dustin Hoffman\",\n",
    "    \"Clint Eastwood\",\n",
    "    \"Harrison Ford\",\n",
    "    \"Tom Hanks\",\n",
    "    \"Denzel Washington\",\n",
    "    \"Morgan Freeman\",\n",
    "    \"Mel Gibson\",\n",
    "    \"Arnold Schwarzenegger\",\n",
    "    \"Bruce Willis\",\n",
    "    \"Robin Williams\",\n",
    "    \"Kevin Costner\",\n",
    "    \"Sean Connery\",\n",
    "    \"Johnny Depp\",\n",
    "    \"Samuel L. Jackson\",\n",
    "    \"Jeff Goldblum\",\n",
    "    \"Eddie Murphy\",\n",
    "    \"Kurt Russell\",\n",
    "    \"Michael Douglas\",\n",
    "    \"Bill Murray\",\n",
    "    \"John Travolta\",\n",
    "    \"Richard Gere\",\n",
    "    \"Nicolas Cage\",\n",
    "    \"Tom Cruise\",\n",
    "    \"Keanu Reeves\",\n",
    "    \"Kevin Bacon\",\n",
    "    \"Gene Hackman\",\n",
    "    \"Danny DeVito\",\n",
    "    \"Val Kilmer\",\n",
    "    \"John Cusack\",\n",
    "    \"Tim Robbins\",\n",
    "    \"Steve Martin\",\n",
    "    \"Patrick Swayze\",\n",
    "    \"Tom Selleck\",\n",
    "    \"Wesley Snipes\",\n",
    "    \"Edward Norton\",\n",
    "    \"Alec Baldwin\",\n",
    "    \"Jim Carrey\",\n",
    "    \"Will Smith\",\n",
    "    \"Brad Pitt\",\n",
    "    \"George Clooney\",\n",
    "    \"Sean Penn\",\n",
    "    \"Robert Redford\",\n",
    "    \"Richard Dreyfuss\",\n",
    "    \"Mark Wahlberg\",\n",
    "    \"Johnny Depp\",\n",
    "    \"Billy Crystal\",\n",
    "    \"Harvey Keitel\",\n",
    "]\n",
    "\n",
    "len(actors_list)"
   ]
  },
  {
   "cell_type": "code",
   "execution_count": null,
   "id": "ae548172",
   "metadata": {},
   "outputs": [],
   "source": [
    "%%javascript\n",
    "IPython.OutputArea.auto_scroll_threshold = 9999"
   ]
  },
  {
   "cell_type": "markdown",
   "id": "8910604f",
   "metadata": {},
   "source": [
    "## 1. Based on some preferences\n",
    "### Test 1"
   ]
  },
  {
   "cell_type": "code",
   "execution_count": null,
   "id": "bdbf5cbc",
   "metadata": {},
   "outputs": [],
   "source": [
    "mytopgenres = \", \".join([genres_list[0], genres_list[3], genres_list[4]])\n",
    "mytopgenres"
   ]
  },
  {
   "cell_type": "code",
   "execution_count": null,
   "id": "aaaef568",
   "metadata": {},
   "outputs": [],
   "source": [
    "mytopactors = \", \".join(\n",
    "    [actors_list[2], actors_list[3], actors_list[4], actors_list[10], actors_list[20]]\n",
    ")\n",
    "mytopactors"
   ]
  },
  {
   "cell_type": "code",
   "execution_count": null,
   "id": "92dbe0f3",
   "metadata": {},
   "outputs": [],
   "source": [
    "prompt = f\"I want to see a movie. Can you recommend me 10 movies? \\\n",
    "My favorite genres are: {mytopgenres} and my favorite actors are: {mytopactors}.\\\n",
    " I want you to save only the movie title in a numbered list with the release year.\"\n",
    "\n",
    "answer = azure_chatgpt_movies(prompt)"
   ]
  },
  {
   "cell_type": "code",
   "execution_count": null,
   "id": "7d686d9f",
   "metadata": {},
   "outputs": [],
   "source": [
    "movies_list = get_list(answer)"
   ]
  },
  {
   "cell_type": "code",
   "execution_count": null,
   "id": "b7f7b2c0",
   "metadata": {},
   "outputs": [],
   "source": [
    "acs_movies_with_posters(movies_list)"
   ]
  },
  {
   "cell_type": "code",
   "execution_count": null,
   "id": "cba381e7",
   "metadata": {},
   "outputs": [],
   "source": [
    "get_all_movies_trailers(movies_list)"
   ]
  },
  {
   "cell_type": "markdown",
   "id": "397c12a5",
   "metadata": {},
   "source": [
    "## Test 2"
   ]
  },
  {
   "cell_type": "code",
   "execution_count": null,
   "id": "3e11f3c2",
   "metadata": {},
   "outputs": [],
   "source": [
    "mytopgenres = \", \".join([genres_list[8]])\n",
    "print(mytopgenres)\n",
    "\n",
    "mytopactors = \", \".join(\n",
    "    [actors_list[30], actors_list[40], actors_list[45], actors_list[47]]\n",
    ")\n",
    "print(mytopactors)"
   ]
  },
  {
   "cell_type": "code",
   "execution_count": null,
   "id": "38b4ae66",
   "metadata": {},
   "outputs": [],
   "source": [
    "prompt = f\"I want to see a movie. Show me a list of 3 movies. \\\n",
    "My favorite genres are: {mytopgenres} and my favorite actors are: {mytopactors}.\\\n",
    " I want you to save only the movie title in a numbered list with the release year.\"\n",
    "\n",
    "answer = azure_chatgpt_movies(prompt)"
   ]
  },
  {
   "cell_type": "code",
   "execution_count": null,
   "id": "70e16f5c",
   "metadata": {},
   "outputs": [],
   "source": [
    "movies_list = get_list(answer)"
   ]
  },
  {
   "cell_type": "code",
   "execution_count": null,
   "id": "512a7e35",
   "metadata": {},
   "outputs": [],
   "source": [
    "acs_movies_with_posters(movies_list)"
   ]
  },
  {
   "cell_type": "code",
   "execution_count": null,
   "id": "e0dfe4c8",
   "metadata": {},
   "outputs": [],
   "source": [
    "get_all_movies_trailers(movies_list)"
   ]
  },
  {
   "cell_type": "markdown",
   "id": "6b6a2b40",
   "metadata": {},
   "source": [
    "## 2. Based on some history\n",
    "### Test 1"
   ]
  },
  {
   "cell_type": "code",
   "execution_count": null,
   "id": "3d68c278",
   "metadata": {},
   "outputs": [],
   "source": [
    "myfavoritemovies = \"Jaws, 47 Meters Down, The Shallows\""
   ]
  },
  {
   "cell_type": "code",
   "execution_count": null,
   "id": "d32b1676",
   "metadata": {},
   "outputs": [],
   "source": [
    "prompt = f\"My favorites movies are: {myfavoritemovies}.\\\n",
    " Can you suggest me some 3 similar movies made before 2015? \\\n",
    " I want you to save only the movie title in a numbered list with the release year.\"\n",
    "\n",
    "answer = azure_chatgpt_movies(prompt)"
   ]
  },
  {
   "cell_type": "code",
   "execution_count": null,
   "id": "c03d530f",
   "metadata": {},
   "outputs": [],
   "source": [
    "movies_list = get_list(answer)"
   ]
  },
  {
   "cell_type": "code",
   "execution_count": null,
   "id": "83aa1292",
   "metadata": {},
   "outputs": [],
   "source": [
    "acs_movies_with_posters(movies_list)"
   ]
  },
  {
   "cell_type": "code",
   "execution_count": null,
   "id": "b768e105",
   "metadata": {},
   "outputs": [],
   "source": [
    "get_all_movies_trailers(movies_list)"
   ]
  },
  {
   "cell_type": "markdown",
   "id": "7b193c40",
   "metadata": {},
   "source": [
    "### Test 2"
   ]
  },
  {
   "cell_type": "code",
   "execution_count": null,
   "id": "56505fe1",
   "metadata": {},
   "outputs": [],
   "source": [
    "myfavoritemovies = \"Manhattan, French connection, Serpico\""
   ]
  },
  {
   "cell_type": "code",
   "execution_count": null,
   "id": "6de9ee04",
   "metadata": {},
   "outputs": [],
   "source": [
    "prompt = f\"My favorites movies are: {myfavoritemovies}.\\\n",
    " Can you suggest me some 5 similar movies? \\\n",
    " I want you to save only the movie title in a numbered list with the release year.\"\n",
    "\n",
    "answer = azure_chatgpt_movies(prompt)"
   ]
  },
  {
   "cell_type": "code",
   "execution_count": null,
   "id": "518a1a94",
   "metadata": {},
   "outputs": [],
   "source": [
    "movies_list = get_list(answer)"
   ]
  },
  {
   "cell_type": "code",
   "execution_count": null,
   "id": "585a8d3f",
   "metadata": {},
   "outputs": [],
   "source": [
    "acs_movies_with_posters(movies_list)"
   ]
  },
  {
   "cell_type": "code",
   "execution_count": null,
   "id": "6618f864",
   "metadata": {},
   "outputs": [],
   "source": [
    "get_all_movies_trailers(movies_list)"
   ]
  },
  {
   "cell_type": "markdown",
   "id": "6feca87b",
   "metadata": {},
   "source": [
    "## 3. Post Processing"
   ]
  },
  {
   "cell_type": "code",
   "execution_count": null,
   "id": "65b51970",
   "metadata": {},
   "outputs": [],
   "source": [
    "acs_index_status(index_name)"
   ]
  },
  {
   "cell_type": "code",
   "execution_count": null,
   "id": "9bd2f9ba",
   "metadata": {},
   "outputs": [],
   "source": [
    "document_count, storage_size = acs_index_stats(index_name)"
   ]
  },
  {
   "cell_type": "markdown",
   "id": "520ce95c",
   "metadata": {},
   "source": [
    "### We can delete the index if needed"
   ]
  },
  {
   "cell_type": "code",
   "execution_count": null,
   "id": "c54b017f",
   "metadata": {},
   "outputs": [],
   "source": [
    "# acs_delete_index(index_name)"
   ]
  },
  {
   "cell_type": "markdown",
   "id": "55a9ed2d",
   "metadata": {},
   "source": [
    "> Go to the next notebook"
   ]
  }
 ],
 "metadata": {
  "kernelspec": {
   "display_name": "Python 3",
   "language": "python",
   "name": "python3"
  },
  "language_info": {
   "codemirror_mode": {
    "name": "ipython",
    "version": 3
   },
   "file_extension": ".py",
   "mimetype": "text/x-python",
   "name": "python",
   "nbconvert_exporter": "python",
   "pygments_lexer": "ipython3",
   "version": "3.11.5"
  }
 },
 "nbformat": 4,
 "nbformat_minor": 5
}
