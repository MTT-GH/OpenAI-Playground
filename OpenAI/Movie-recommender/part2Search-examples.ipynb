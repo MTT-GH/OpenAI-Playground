{
 "cells": [
  {
   "cell_type": "markdown",
   "id": "18da7b67",
   "metadata": {},
   "source": [
    "# Movies recommendation with Azure Open AI & Azure Cognitive Search\n",
    "## Part 2: search examples\n",
    "\n",
    "\n",
    "<img src=\"https://github.com/retkowsky/images/blob/master/movies_search.png?raw=true\">"
   ]
  },
  {
   "cell_type": "code",
   "execution_count": null,
   "id": "649fb619",
   "metadata": {},
   "outputs": [],
   "source": [
    "# %pip install azure-search-documents --pre --upgrade"
   ]
  },
  {
   "cell_type": "code",
   "execution_count": null,
   "id": "425fb426",
   "metadata": {},
   "outputs": [],
   "source": [
    "# %pip install youtube-search-python"
   ]
  },
  {
   "cell_type": "code",
   "execution_count": null,
   "id": "6682834a",
   "metadata": {},
   "outputs": [],
   "source": [
    "import gradio as gr\n",
    "import json\n",
    "import movieposters as mp\n",
    "import openai\n",
    "import os\n",
    "import pytz\n",
    "import re\n",
    "import requests\n",
    "import sys\n",
    "import time\n",
    "\n",
    "from azure.core.credentials import AzureKeyCredential\n",
    "from azure.search.documents import SearchClient\n",
    "from azure.search.documents.indexes import SearchIndexClient\n",
    "from azure.search.documents.models import Vector\n",
    "\n",
    "from datetime import datetime\n",
    "#from dotenv import load_dotenv\n",
    "from IPython.display import IFrame, display\n",
    "from io import BytesIO\n",
    "from PIL import Image\n",
    "from youtubesearchpython import VideosSearch, Comments"
   ]
  },
  {
   "cell_type": "code",
   "execution_count": null,
   "id": "018fc6e5",
   "metadata": {},
   "outputs": [],
   "source": [
    "sys.version"
   ]
  },
  {
   "cell_type": "code",
   "execution_count": null,
   "id": "9c70ed19",
   "metadata": {},
   "outputs": [],
   "source": [
    "local_tz = pytz.timezone(requests.get(\"https://ipinfo.io\").json()[\"timezone\"])\n",
    "print(\"Local time:\", datetime.now(local_tz).strftime(\"%d-%b-%Y %H:%M:%S\"))"
   ]
  },
  {
   "cell_type": "code",
   "execution_count": null,
   "id": "28ca0f6e",
   "metadata": {},
   "outputs": [],
   "source": [
    "print(\"Open AI version:\", openai.__version__)"
   ]
  },
  {
   "cell_type": "code",
   "execution_count": null,
   "id": "df6462e5",
   "metadata": {},
   "outputs": [],
   "source": [
    "#load_dotenv(\"azure.env\")\n",
    "\n",
    "\n",
    "openai.api_type: str = \"azure\"\n",
    "# openai.api_key = os.getenv(\"OPENAI_API_KEY\")\n",
    "openai.api_key = os.getenv(\"AZURE_OPENAI_API_KEY\")\n",
    "# openai.api_base = os.getenv(\"OPENAI_API_BASE\")\n",
    "openai.api_base = os.getenv(\"AZURE_OPENAI_ENDPOINT\")\n",
    "# openai.api_version = os.getenv(\"OPENAI_API_VERSION\")\n",
    "openai.api_version = os.getenv(\"AZURE_OPENAI_MODEL_CHAT_VERSION\")\n",
    "\n",
    "acs_endpoint = os.getenv(\"AZURE_SEARCH_SERVICE_ENDPOINT\")\n",
    "acs_key = os.getenv(\"AZURE_SEARCH_ADMIN_KEY\")"
   ]
  },
  {
   "cell_type": "code",
   "execution_count": null,
   "id": "7b4281f1",
   "metadata": {},
   "outputs": [],
   "source": [
    "# Azure Open AI embeddings model to use\n",
    "embeddings_engine = \"text-embedding-ada-002-Unai\""
   ]
  },
  {
   "cell_type": "markdown",
   "id": "0463dd72",
   "metadata": {},
   "source": [
    "- Vector search is in public preview\n",
    "- Model name: text-embedding-ada-002\n",
    "- Model version: 2\n",
    "- API version: 2023-05-15"
   ]
  },
  {
   "cell_type": "code",
   "execution_count": null,
   "id": "6f1ae436",
   "metadata": {},
   "outputs": [],
   "source": [
    "# Azure Cognitive Search index name to create\n",
    "index_name = \"moviereview\""
   ]
  },
  {
   "cell_type": "markdown",
   "id": "436ab9f7",
   "metadata": {},
   "source": [
    "## 1. Functions"
   ]
  },
  {
   "cell_type": "code",
   "execution_count": null,
   "id": "8e549a54",
   "metadata": {},
   "outputs": [],
   "source": [
    "def acs_delete_index(index_name):\n",
    "    \"\"\"\n",
    "    Deleting an Azure Cognitive Search index\n",
    "    Input: an Azure Cognitive Search index name\n",
    "    \"\"\"\n",
    "    start = time.time()\n",
    "    search_client = SearchIndexClient(\n",
    "        endpoint=acs_endpoint, credential=AzureKeyCredential(acs_key)\n",
    "    )\n",
    "    \n",
    "    try:\n",
    "        print(\"Deleting the Azure Cognitive Search index:\", index_name)\n",
    "        search_client.delete_index(index_name)\n",
    "        print(\"Done. Elapsed time:\", round(time.time() - start, 2), \"secs\")\n",
    "    except:\n",
    "        print(\"Cannot delete index. Check the index name.\")\n"
   ]
  },
  {
   "cell_type": "code",
   "execution_count": null,
   "id": "4e61eead",
   "metadata": {},
   "outputs": [],
   "source": [
    "def acs_index_stats(index_name):\n",
    "    \"\"\"\n",
    "    Get statistics about Azure Cognitive Search index\n",
    "    Input: an Azure Cognitive Search index name\n",
    "    \"\"\"\n",
    "    url = (\n",
    "        acs_endpoint\n",
    "        + \"/indexes/\"\n",
    "        + index_name\n",
    "        + \"/stats?api-version=2021-04-30-Preview\"\n",
    "    )\n",
    "    headers = {\n",
    "        \"Content-Type\": \"application/json\",\n",
    "        \"api-key\": acs_key,\n",
    "    }\n",
    "    response = requests.get(url, headers=headers)\n",
    "    print(\"Azure Cognitive Search index status for:\", index_name, \"\\n\")\n",
    "\n",
    "    if response.status_code == 200:\n",
    "        res = response.json()\n",
    "        print(json.dumps(res, indent=2))\n",
    "        document_count = res[\"documentCount\"]\n",
    "        storage_size = res[\"storageSize\"]\n",
    "\n",
    "    else:\n",
    "        print(\"Request failed with status code:\", response.status_code)\n",
    "\n",
    "    return document_count, storage_size"
   ]
  },
  {
   "cell_type": "code",
   "execution_count": null,
   "id": "29eaac49",
   "metadata": {},
   "outputs": [],
   "source": [
    "def acs_index_status(index_name):\n",
    "    \"\"\"\n",
    "    Azure Cognitive Search index status\n",
    "    Input: an Azure Cognitive Search index name\n",
    "    \"\"\"\n",
    "    print(\"Azure Cognitive Search Index:\", index_name, \"\\n\")\n",
    "\n",
    "    headers = {\"Content-Type\": \"application/json\", \"api-key\": acs_key}\n",
    "    params = {\"api-version\": \"2021-04-30-Preview\"}\n",
    "    index_status = requests.get(\n",
    "        acs_endpoint + \"/indexes/\" + index_name, headers=headers, params=params\n",
    "    )\n",
    "\n",
    "    try:\n",
    "        print(json.dumps((index_status.json()), indent=5))\n",
    "    except:\n",
    "        print(\"Request failed with status code:\", response.status_code)"
   ]
  },
  {
   "cell_type": "code",
   "execution_count": null,
   "id": "5b16b080",
   "metadata": {},
   "outputs": [],
   "source": [
    "def openai_text_embeddings(text):\n",
    "    \"\"\"\n",
    "    Generating embeddings from text using Azure Open AI\n",
    "    Input: a text\n",
    "    Output: a vector embedding made by Azure Open AI\n",
    "    \"\"\"\n",
    "    embeddings = openai.Embedding.create(\n",
    "        input=text,\n",
    "        deployment_id=embeddings_engine,\n",
    "    )\n",
    "    embeddings = embeddings[\"data\"][0][\"embedding\"]\n",
    "\n",
    "    return embeddings"
   ]
  },
  {
   "cell_type": "code",
   "execution_count": null,
   "id": "32ab927b",
   "metadata": {},
   "outputs": [],
   "source": [
    "def get_list(movielist, disp=True):\n",
    "    \"\"\"\n",
    "    Extract movies from a list of movies\n",
    "    Input: movies list (list)\n",
    "    Output: Numbered list (string)\n",
    "    \"\"\"\n",
    "    pattern = r\"\\d+\\.\\s(.+)\"\n",
    "    matches = re.findall(pattern, movielist)\n",
    "    for idx, movie in enumerate(matches, start=1):\n",
    "        if disp:\n",
    "            print(f\"Movie {idx}: {movie}.\")\n",
    "\n",
    "    return matches"
   ]
  },
  {
   "cell_type": "code",
   "execution_count": null,
   "id": "70612697",
   "metadata": {},
   "outputs": [],
   "source": [
    "acs_index_status(index_name)"
   ]
  },
  {
   "cell_type": "code",
   "execution_count": null,
   "id": "291d88e2",
   "metadata": {},
   "outputs": [],
   "source": [
    "document_count, storage_size = acs_index_stats(index_name)"
   ]
  },
  {
   "cell_type": "code",
   "execution_count": null,
   "id": "3ba394a0",
   "metadata": {},
   "outputs": [],
   "source": [
    "print(\"Number of documents in the index =\", f\"{document_count:,}\")\n",
    "print(\"Size of the index =\", round(storage_size / (1024 * 1024), 2), \"MB\")"
   ]
  },
  {
   "cell_type": "code",
   "execution_count": null,
   "id": "7dd7d258",
   "metadata": {},
   "outputs": [],
   "source": [
    "%%javascript\n",
    "IPython.OutputArea.auto_scroll_threshold = 9999;"
   ]
  },
  {
   "cell_type": "markdown",
   "id": "674e8d3c",
   "metadata": {},
   "source": [
    "## Get documents"
   ]
  },
  {
   "cell_type": "markdown",
   "id": "cb09eec9",
   "metadata": {},
   "source": [
    "Get document by giving the fil identifier"
   ]
  },
  {
   "cell_type": "code",
   "execution_count": null,
   "id": "b1bb9e6e",
   "metadata": {},
   "outputs": [],
   "source": [
    "def acs_get_documents(imdbid):\n",
    "    \"\"\"\n",
    "    Get document by its id number\n",
    "    Input: an imdbid (string)\n",
    "    Output: results (string)\n",
    "    \"\"\"\n",
    "    search_client = SearchClient(acs_endpoint, index_name, AzureKeyCredential(acs_key))\n",
    "    result = search_client.get_document(key=imdbid)\n",
    "\n",
    "    print(\"\\033[1;31;34m\")\n",
    "    print(\"Movies:\", result[\"title\"])\n",
    "    print(\"\\033[1;31;32m\")\n",
    "    print(\"IMDB ID:\", result[\"imdb_id\"])\n",
    "    print(\"Casting:\", result[\"cast\"])\n",
    "    print(\"Director:\", result[\"director\"])\n",
    "    print(\"Description:\", result[\"description\"])\n",
    "    print(\"Genres:\", result[\"genres\"])\n",
    "    print(\"Year:\", result[\"year\"])\n",
    "    print(\"\\033[0m\")"
   ]
  },
  {
   "cell_type": "code",
   "execution_count": null,
   "id": "a0aa5a82",
   "metadata": {},
   "outputs": [],
   "source": [
    "acs_get_documents(\"tt0070328\")"
   ]
  },
  {
   "cell_type": "markdown",
   "id": "ba99a2c1",
   "metadata": {},
   "source": [
    "### Simple query"
   ]
  },
  {
   "cell_type": "code",
   "execution_count": null,
   "id": "3580c9c4",
   "metadata": {},
   "outputs": [],
   "source": [
    "def acs_full_query(query, nb=5):\n",
    "    \"\"\"\n",
    "    Full text search using Azure Cognitive Search\n",
    "    Input: a query (string)\n",
    "    Output: results (text)\n",
    "    \"\"\"\n",
    "    search_client = SearchClient(\n",
    "        acs_endpoint, index_name, credential=AzureKeyCredential(acs_key)\n",
    "    )\n",
    "\n",
    "    results = search_client.search(search_text=query)\n",
    "    \n",
    "    idx = 1\n",
    "    for result in results:\n",
    "        if idx <= nb:\n",
    "            print(\"\\033[1;31;34m\")\n",
    "            print(result[\"title\"])\n",
    "            print(\"\\033[1;31;32m\")\n",
    "            print(\"IMDB ID:\", result[\"imdb_id\"])\n",
    "            print(\"Casting:\", result[\"cast\"])\n",
    "            print(\"Director:\", result[\"director\"])\n",
    "            print(\"Description:\", result[\"description\"])\n",
    "            print(\"Genres:\", result[\"genres\"])\n",
    "            print(\"Year:\", result[\"year\"])\n",
    "            print(\"\\033[0m\")\n",
    "            idx += 1"
   ]
  },
  {
   "cell_type": "code",
   "execution_count": null,
   "id": "29fc4f85",
   "metadata": {},
   "outputs": [],
   "source": [
    "acs_full_query(\"Terminator\", nb=5)"
   ]
  },
  {
   "cell_type": "markdown",
   "id": "6b0a327c",
   "metadata": {},
   "source": [
    "## 3. Pure Vector Search"
   ]
  },
  {
   "cell_type": "code",
   "execution_count": null,
   "id": "36579621",
   "metadata": {},
   "outputs": [],
   "source": [
    "def acs_vectorsearch_query(query, topn=5):\n",
    "    \"\"\"\n",
    "    Find movies from Azure Cognitive Search using the embedding overview field\n",
    "    Pure Vector Search\n",
    "    Input: a query (string)\n",
    "    Output: results (list)\n",
    "    \"\"\"\n",
    "    start = time.time()\n",
    "    search_client = SearchClient(\n",
    "        acs_endpoint, index_name, credential=AzureKeyCredential(acs_key)\n",
    "    )\n",
    "\n",
    "    vector = Vector(\n",
    "        value=openai_text_embeddings(query), k=topn, fields=\"embed_overview\"\n",
    "    )\n",
    "\n",
    "    results = search_client.search(\n",
    "        search_text=None,\n",
    "        vectors=[vector],\n",
    "        select=[\"imdb_id\", \"title\", \"cast\", \"director\", \"description\", \"genres\", \"year\"],\n",
    "    )\n",
    "\n",
    "    movies_list = []\n",
    "\n",
    "    idx = 1\n",
    "    for result in results:\n",
    "        print(\"\\033[1;31;34m\")\n",
    "        print(f\"{idx} Movie title: {result['title']}\")\n",
    "        print(\"IMDB ID:\", result[\"imdb_id\"])\n",
    "        print(\"\\033[1;31;32m\")\n",
    "        print(f\"Description: {result['description']}\")\n",
    "        print(\"\\033[0m\")\n",
    "        print(f\"Cast: {result['cast']}\")\n",
    "        print(f\"Director: {result['director']}\")\n",
    "        print(f\"Genres: {result['genres']}\")\n",
    "        print(f\"Year: {result['year']}\")\n",
    "        print(\"\\033[1;31;35m\")\n",
    "        print(f\"Score = {result['@search.score']}\")\n",
    "        idx += 1\n",
    "\n",
    "        movies_list.append(result[\"title\"])\n",
    "\n",
    "    elapsed = time.time() - start\n",
    "    print(\"\\033[0m\")\n",
    "    print(\n",
    "        \"\\nElapsed time: \"\n",
    "        + time.strftime(\n",
    "            \"%H:%M:%S.{}\".format(str(elapsed % 1)[2:])[:15], time.gmtime(elapsed)\n",
    "        )\n",
    "    )\n",
    "\n",
    "    return movies_list"
   ]
  },
  {
   "cell_type": "markdown",
   "id": "a535ff84",
   "metadata": {},
   "source": [
    "**Multi-lingual search**. Use a multi-lingual embeddings model to represent your document in multiple languages in a single vector space to find documents regardless of the language they are in.\n"
   ]
  },
  {
   "cell_type": "code",
   "execution_count": null,
   "id": "7eb7e72c",
   "metadata": {},
   "outputs": [],
   "source": [
    "acs_vectorsearch_query(\"Je veux regarder un James Bond\")"
   ]
  },
  {
   "cell_type": "code",
   "execution_count": null,
   "id": "923b91a8",
   "metadata": {},
   "outputs": [],
   "source": [
    "acs_vectorsearch_query(\"I want some musical movies\")"
   ]
  },
  {
   "cell_type": "markdown",
   "id": "29d814b2",
   "metadata": {},
   "source": [
    "## 4. Multiple search queries with Azure Cognitive Search"
   ]
  },
  {
   "cell_type": "markdown",
   "id": "88fb6708",
   "metadata": {},
   "source": [
    "### 4.1 Multi-Vector search"
   ]
  },
  {
   "cell_type": "markdown",
   "id": "bddcdb36",
   "metadata": {},
   "source": [
    "**Multi-query vector search** sends **multiple queries across multiple vector fields** in your search index. This query example looks for similarity in both embed_title and embed_overview, but sends in two different query embeddings respectively. This scenario is ideal for multi-modal use cases where you want to search over a textVector field and an imageVector field. You can also use this scenario if you have different embedding models with different dimensions in your search index. This also displays scores using Reciprocal Rank Fusion (RRF)."
   ]
  },
  {
   "cell_type": "code",
   "execution_count": null,
   "id": "97c6250a",
   "metadata": {},
   "outputs": [],
   "source": [
    "start = time.time()\n",
    "\n",
    "query = \"I want to watch a film about a sinking ship\"\n",
    "\n",
    "search_client = SearchClient(\n",
    "    acs_endpoint, index_name, credential=AzureKeyCredential(acs_key)\n",
    ")\n",
    "\n",
    "vector1 = Vector(value=openai_text_embeddings(query), k=5, fields=\"embed_title\")\n",
    "vector2 = Vector(value=openai_text_embeddings(query), k=5, fields=\"embed_overview\")\n",
    "\n",
    "results = search_client.search(\n",
    "    search_text=None,\n",
    "    vectors=[vector1, vector2],\n",
    "    select=[\"imdb_id\", \"title\", \"cast\", \"director\", \"description\", \"genres\", \"year\"],\n",
    ")\n",
    "\n",
    "idx = 1\n",
    "for result in results:\n",
    "    print(\"\\033[1;31;34m\")\n",
    "    print(f\"{idx} Movie title: {result['title']}\")\n",
    "    print(\"IMDB ID:\", result[\"imdb_id\"])\n",
    "    print(\"\\033[1;31;32m\")\n",
    "    print(f\"Description: {result['description']}\")\n",
    "    print(\"\\033[0m\")\n",
    "    print(f\"Cast: {result['cast']}\")\n",
    "    print(f\"Director: {result['director']}\")\n",
    "    print(f\"Genres: {result['genres']}\")\n",
    "    print(f\"Year: {result['year']}\")\n",
    "    print(\"\\033[1;31;35m\")\n",
    "    print(f\"Score = {result['@search.score']}\")\n",
    "    idx += 1\n",
    "\n",
    "elapsed = time.time() - start\n",
    "print(\"\\033[0m\")\n",
    "print(\n",
    "    \"\\nElapsed time: \"\n",
    "    + time.strftime(\n",
    "        \"%H:%M:%S.{}\".format(str(elapsed % 1)[2:])[:15], time.gmtime(elapsed)\n",
    "    )\n",
    ")"
   ]
  },
  {
   "cell_type": "markdown",
   "id": "8968b086",
   "metadata": {},
   "source": [
    "## 4.2 Cross-field vector search"
   ]
  },
  {
   "cell_type": "markdown",
   "id": "e7b09e81",
   "metadata": {},
   "source": [
    "A **cross-field vector query** sends a **single query across multiple vector fields in your search index**. This query example looks for similarity in both \"embed_title\" and \"embed_overview\" and displays scores using **Reciprocal Rank Fusion (RRF)**.\n",
    "\n",
    "For hybrid search scoring, Cognitive Search uses Reciprocal Rank Fusion (RRF). In information retrieval, RRF combines the results of different search methods to produce a single, more accurate and relevant result. (Here, a search method refers to methods such as vector search and full-text search.) RRF is based on the concept of reciprocal rank, which is the inverse of the rank of the first relevant document in a list of search results. \n",
    "\n",
    "At a basic level, RRF works by taking the search results from multiple methods, assigning a reciprocal rank score to each document in the results, and then combining these scores to create a new ranking. The main idea behind this method is that documents appearing in the top positions across multiple search methods are likely to be more relevant and should be ranked higher in the combined result."
   ]
  },
  {
   "cell_type": "code",
   "execution_count": null,
   "id": "a2f0f62b",
   "metadata": {},
   "outputs": [],
   "source": [
    "start = time.time()\n",
    "\n",
    "query = \"show me a film that talks about some rock bands\"\n",
    "\n",
    "search_client = SearchClient(\n",
    "    acs_endpoint, index_name, credential=AzureKeyCredential(acs_key)\n",
    ")\n",
    "\n",
    "vector = Vector(\n",
    "    value=openai_text_embeddings(query), k=5, fields=\"embed_title, embed_overview\"\n",
    ")\n",
    "\n",
    "results = search_client.search(\n",
    "    search_text=None,\n",
    "    vectors=[vector],\n",
    "    select=[\"imdb_id\", \"title\", \"cast\", \"director\", \"description\", \"genres\", \"year\"],\n",
    ")\n",
    "\n",
    "idx = 1\n",
    "for result in results:\n",
    "    print(\"\\033[1;31;34m\")\n",
    "    print(f\"{idx} Movie title: {result['title']}\")\n",
    "    print(\"IMDB ID:\", result[\"imdb_id\"])\n",
    "    print(\"\\033[1;31;32m\")\n",
    "    print(f\"Description: {result['description']}\")\n",
    "    print(\"\\033[0m\")\n",
    "    print(f\"Cast: {result['cast']}\")\n",
    "    print(f\"Director: {result['director']}\")\n",
    "    print(f\"Genres: {result['genres']}\")\n",
    "    print(f\"Year: {result['year']}\")\n",
    "    print(\"\\033[1;31;35m\")\n",
    "    print(f\"Score = {result['@search.score']}\")\n",
    "    idx += 1\n",
    "\n",
    "elapsed = time.time() - start\n",
    "print(\"\\033[0m\")\n",
    "print(\n",
    "    \"\\nElapsed time: \"\n",
    "    + time.strftime(\n",
    "        \"%H:%M:%S.{}\".format(str(elapsed % 1)[2:])[:15], time.gmtime(elapsed)\n",
    "    )\n",
    ")"
   ]
  },
  {
   "cell_type": "markdown",
   "id": "1c84ff5a",
   "metadata": {},
   "source": [
    "## 4.3 Pure vector search with filter\n",
    "We can specify a filter on the vector search"
   ]
  },
  {
   "cell_type": "code",
   "execution_count": null,
   "id": "a3d67f73",
   "metadata": {},
   "outputs": [],
   "source": [
    "myfilter = \"director eq 'James Cameron'\"\n",
    "myfilter"
   ]
  },
  {
   "cell_type": "code",
   "execution_count": null,
   "id": "e1c03eed",
   "metadata": {},
   "outputs": [],
   "source": [
    "start = time.time()\n",
    "\n",
    "query = \"show me a movie about a robot\"\n",
    "\n",
    "search_client = SearchClient(\n",
    "    acs_endpoint, index_name, credential=AzureKeyCredential(acs_key)\n",
    ")\n",
    "\n",
    "vector = Vector(value=openai_text_embeddings(query), k=5, fields=\"embed_overview\")\n",
    "\n",
    "results = search_client.search(\n",
    "    search_text=None,\n",
    "    vectors=[vector],\n",
    "    filter=myfilter,\n",
    "    select=[\"imdb_id\", \"title\", \"cast\", \"director\", \"description\", \"genres\", \"year\"],\n",
    ")\n",
    "\n",
    "idx = 1\n",
    "for result in results:\n",
    "    print(\"\\033[1;31;34m\")\n",
    "    print(f\"{idx} Movie title: {result['title']}\")\n",
    "    print(\"IMDB ID:\", result[\"imdb_id\"])\n",
    "    print(\"\\033[1;31;32m\")\n",
    "    print(f\"Description: {result['description']}\")\n",
    "    print(\"\\033[0m\")\n",
    "    print(f\"Cast: {result['cast']}\")\n",
    "    print(f\"Director: {result['director']}\")\n",
    "    print(f\"Genres: {result['genres']}\")\n",
    "    print(f\"Year: {result['year']}\")\n",
    "    print(\"\\033[1;31;35m\")\n",
    "    print(f\"Score = {result['@search.score']}\")\n",
    "    idx += 1\n",
    "\n",
    "elapsed = time.time() - start\n",
    "print(\"\\033[0m\")\n",
    "print(\n",
    "    \"\\nElapsed time: \"\n",
    "    + time.strftime(\n",
    "        \"%H:%M:%S.{}\".format(str(elapsed % 1)[2:])[:15], time.gmtime(elapsed)\n",
    "    )\n",
    ")"
   ]
  },
  {
   "cell_type": "markdown",
   "id": "ac289ffc",
   "metadata": {},
   "source": [
    "## 4.4 Hybrid search"
   ]
  },
  {
   "cell_type": "markdown",
   "id": "51e1b54a",
   "metadata": {},
   "source": [
    "**Hybrid search consists of keyword queries and vector queries** in a single search request."
   ]
  },
  {
   "cell_type": "markdown",
   "id": "01f3f716",
   "metadata": {},
   "source": [
    "Vector search is implemented at the field level, which means you can build queries that include vector fields and searchable text fields. The queries execute in parallel and the results are merged into a single response. Optionally, add semantic search (preview) for even more accuracy with L2 reranking using the same language models that power Bing."
   ]
  },
  {
   "cell_type": "code",
   "execution_count": null,
   "id": "c9d96f38",
   "metadata": {},
   "outputs": [],
   "source": [
    "start = time.time()\n",
    "\n",
    "query = \"show me a film with Stallone\"\n",
    "\n",
    "search_client = SearchClient(acs_endpoint, index_name, AzureKeyCredential(acs_key))\n",
    "\n",
    "vector = Vector(value=openai_text_embeddings(query), k=10, fields=\"embed_overview\")\n",
    "\n",
    "results = search_client.search(\n",
    "    search_text=query,\n",
    "    vectors=[vector],\n",
    "    select=[\"imdb_id\", \"title\", \"cast\", \"director\", \"description\", \"genres\", \"year\"],\n",
    "    top=10,\n",
    ")\n",
    "\n",
    "idx = 1\n",
    "for result in results:\n",
    "    print(\"\\033[1;31;34m\")\n",
    "    print(f\"{idx} Movie title: {result['title']}\")\n",
    "    print(\"IMDB ID:\", result[\"imdb_id\"])\n",
    "    print(\"\\033[1;31;32m\")\n",
    "    print(f\"Description: {result['description']}\")\n",
    "    print(\"\\033[0m\")\n",
    "    print(f\"Cast: {result['cast']}\")\n",
    "    print(f\"Director: {result['director']}\")\n",
    "    print(f\"Genres: {result['genres']}\")\n",
    "    print(f\"Year: {result['year']}\")\n",
    "    print(\"\\033[1;31;35m\")\n",
    "    print(f\"Score = {result['@search.score']}\")\n",
    "    idx += 1\n",
    "\n",
    "elapsed = time.time() - start\n",
    "print(\"\\033[0m\")\n",
    "print(\n",
    "    \"\\nElapsed time: \"\n",
    "    + time.strftime(\n",
    "        \"%H:%M:%S.{}\".format(str(elapsed % 1)[2:])[:15], time.gmtime(elapsed)\n",
    "    )\n",
    ")"
   ]
  },
  {
   "cell_type": "markdown",
   "id": "cf6a2b3d",
   "metadata": {},
   "source": [
    "## 4.5 Hybrid search with a filter"
   ]
  },
  {
   "cell_type": "code",
   "execution_count": null,
   "id": "f3d687cb",
   "metadata": {},
   "outputs": [],
   "source": [
    "myfilter = \"year eq '2000' or director eq 'William Friedkin'\""
   ]
  },
  {
   "cell_type": "code",
   "execution_count": null,
   "id": "dcc6e7d5",
   "metadata": {},
   "outputs": [],
   "source": [
    "start = time.time()\n",
    "\n",
    "query = \"show me a movie\"\n",
    "\n",
    "search_client = SearchClient(acs_endpoint, index_name, AzureKeyCredential(acs_key))\n",
    "\n",
    "vector = Vector(value=openai_text_embeddings(query), k=10, fields=\"embed_overview\")\n",
    "\n",
    "results = search_client.search(\n",
    "    search_text=query,\n",
    "    vectors=[vector],\n",
    "    filter=myfilter,\n",
    "    select=[\"imdb_id\", \"title\", \"cast\", \"director\", \"description\", \"genres\", \"year\"],\n",
    "    top=10,\n",
    ")\n",
    "\n",
    "idx = 1\n",
    "for result in results:\n",
    "    print(\"\\033[1;31;34m\")\n",
    "    print(f\"{idx} Movie title: {result['title']}\")\n",
    "    print(\"IMDB ID:\", result[\"imdb_id\"])\n",
    "    print(\"\\033[1;31;32m\")\n",
    "    print(f\"Description: {result['description']}\")\n",
    "    print(\"\\033[0m\")\n",
    "    print(f\"Cast: {result['cast']}\")\n",
    "    print(f\"Director: {result['director']}\")\n",
    "    print(f\"Genres: {result['genres']}\")\n",
    "    print(f\"Year: {result['year']}\")\n",
    "    print(\"\\033[1;31;35m\")\n",
    "    print(f\"Score = {result['@search.score']}\")\n",
    "    idx += 1\n",
    "\n",
    "elapsed = time.time() - start\n",
    "print(\"\\033[0m\")\n",
    "print(\n",
    "    \"\\nElapsed time: \"\n",
    "    + time.strftime(\n",
    "        \"%H:%M:%S.{}\".format(str(elapsed % 1)[2:])[:15], time.gmtime(elapsed)\n",
    "    )\n",
    ")"
   ]
  },
  {
   "cell_type": "markdown",
   "id": "60d27a45",
   "metadata": {},
   "source": [
    "# 4.6 Semantic Hybrid Search"
   ]
  },
  {
   "cell_type": "markdown",
   "id": "e5bdd40a",
   "metadata": {},
   "source": [
    "You need to update semantic search on your service from the Azure Portal!"
   ]
  },
  {
   "cell_type": "code",
   "execution_count": null,
   "id": "6597b09b",
   "metadata": {},
   "outputs": [],
   "source": [
    "query = \"show me rommmantttic movies\"\n",
    "\n",
    "search_client = SearchClient(\n",
    "    acs_endpoint, index_name, credential=AzureKeyCredential(acs_key)\n",
    ")\n",
    "\n",
    "vector = Vector(value=openai_text_embeddings(query), k=5, fields=\"embed_overview\")\n",
    "\n",
    "results = search_client.search(  \n",
    "    search_text=query,  \n",
    "    vectors=[vector],\n",
    "    select = [\"imdb_id\", \"title\", \"cast\", \"director\", \"description\", \"genres\", \"year\"],\n",
    "    query_type=\"semantic\", query_language=\"en-us\", semantic_configuration_name='my-semantic-config',\n",
    "    query_caption=\"extractive\", query_answer=\"extractive\",\n",
    ")\n",
    "\n",
    "semantic_answers = results.get_answers()\n",
    "for answer in semantic_answers:\n",
    "    if answer.highlights:\n",
    "        print(f\"Semantic Answer: {answer.highlights}\")\n",
    "    else:\n",
    "        print(f\"Semantic Answer: {answer.text}\")\n",
    "    print(f\"Semantic Answer Score: {answer.score}\\n\")\n",
    "\n",
    "idx = 1\n",
    "for result in results:\n",
    "    if idx <= 10:\n",
    "        print(\"\\033[1;31;34m\")\n",
    "        print(f\"{idx} Movie title: {result['title']}\")\n",
    "        print(\"IMDB ID:\", result[\"imdb_id\"])\n",
    "        print(\"\\033[1;31;32m\")\n",
    "        print(f\"Description: {result['description']}\")\n",
    "        print(\"\\033[0m\")\n",
    "        print(f\"Genres: {result['genres']}\")\n",
    "        print(\"\\033[1;31;35m\")\n",
    "        print(f\"Score = {result['@search.score']}\")\n",
    "        idx += 1"
   ]
  },
  {
   "cell_type": "markdown",
   "id": "cadef288",
   "metadata": {},
   "source": [
    "## 5. ChatGPT and Azure Cognitive Search"
   ]
  },
  {
   "cell_type": "markdown",
   "id": "ba6bf5b1",
   "metadata": {},
   "source": [
    "**temperature** controls the \"creativity\" of the generated text, between 0 and 2. A higher temperature will result in more diverse and unexpected responses, while a lower temperature will result in more conservative and predictable responses. The default value for temperature is 1.0, but you can experiment with different values to see what works best for your use case. Higher values means the model will take more risks. Try 0.9 for more creative applications, and 0 (argmax sampling) for ones with a well-defined answer. We generally recommend altering this or top_p but not both.\n",
    "\n",
    "**top_p** - An alternative to sampling with temperature, called nucleus sampling, where the model considers the results of the tokens with top_p probability mass. 1 is the default value. So 0.1 means only the tokens comprising the top 10% probability mass are considered. We generally recommend altering this or temperature but not both."
   ]
  },
  {
   "cell_type": "markdown",
   "id": "cd0abd91",
   "metadata": {},
   "source": [
    "**Make sure your model deployment is updated!**"
   ]
  },
  {
   "cell_type": "code",
   "execution_count": null,
   "id": "558d9ae1",
   "metadata": {},
   "outputs": [],
   "source": [
    "def azure_chatgpt_movies(prompt, max_retries=3, retry_delay=1):\n",
    "    \"\"\"\n",
    "    Chat GPT with Azure Open AI\n",
    "    Input: prompt (text)\n",
    "    Output: results (text)\n",
    "    \"\"\"\n",
    "    for _ in range(max_retries):\n",
    "        try:\n",
    "            response = openai.ChatCompletion.create(\n",
    "                engine=\"gpt-35-turbo-unai\",  # Should be deployed in the AOAI studio\n",
    "                messages=[\n",
    "                    {\n",
    "                        \"role\": \"system\",\n",
    "                        \"content\": \"You are an AI assistant that helps people to find \\\n",
    "                        information about movies.\"\n",
    "                    },\n",
    "                    {\"role\": \"user\", \"content\": prompt},\n",
    "                ],\n",
    "                temperature=0.9,\n",
    "                max_tokens=400,\n",
    "                top_p=1,\n",
    "                frequency_penalty=0,\n",
    "                presence_penalty=0,\n",
    "                stop=None,\n",
    "            )\n",
    "\n",
    "            resp = response[\"choices\"][0][\"message\"][\"content\"]\n",
    "\n",
    "            print(\"\\033[1;31;34mPrompt:\", prompt)\n",
    "            print(\"\\n\\033[1;31;32mResponse:\", resp)\n",
    "            print(\"\\033[1;31;35m\")\n",
    "            print(\"Powered by Azure AI\")\n",
    "            # Local time\n",
    "            local_tz = pytz.timezone(\n",
    "                requests.get(\"https://ipinfo.io\").json()[\"timezone\"]\n",
    "            )\n",
    "            print(datetime.now(local_tz).strftime(\"%d-%b-%Y %H:%M:%S\"))\n",
    "\n",
    "            return resp\n",
    "\n",
    "        except Exception as e:\n",
    "            print(\"Error:\", str(e))\n",
    "            print(\"Retrying...\")\n",
    "            time.sleep(retry_delay)\n",
    "\n",
    "    print(\"Maximum retries exceeded. Unable to get a response.\")\n",
    "\n",
    "    return None"
   ]
  },
  {
   "cell_type": "code",
   "execution_count": null,
   "id": "abda3f1d",
   "metadata": {},
   "outputs": [],
   "source": [
    "def get_movie_poster(imdb_id):\n",
    "    \"\"\"\n",
    "    Display movie poster from its IMDB id\n",
    "    Input: imdb_id (text)\n",
    "    Output: PIL Image and saved image\n",
    "    \"\"\"\n",
    "    poster = mp.get_poster(id=imdb_id)\n",
    "    response = requests.get(poster)\n",
    "\n",
    "    if response.status_code == 200:\n",
    "        img = Image.open(BytesIO(response.content))\n",
    "        display(img)\n",
    "        # Save as a local file\n",
    "        os.makedirs(\"movieposter\", exist_ok=True)\n",
    "        posterfile = os.path.join(\"movieposter\", \"movie_\" + str(imdb_id) + \".jpg\")\n",
    "        img.save(posterfile)\n",
    "    else:\n",
    "        print(\"Failed to fetch the movie image.\")"
   ]
  },
  {
   "cell_type": "code",
   "execution_count": null,
   "id": "f7f2659f",
   "metadata": {},
   "outputs": [],
   "source": [
    "def get_trailer(movietitle):\n",
    "    \"\"\"\n",
    "    Get youtube video trailer from its title\n",
    "    Input: movie title (string)\n",
    "    Output: Display the movie trailer video\n",
    "    \"\"\"\n",
    "    # Search video on youtube\n",
    "    videosSearch = VideosSearch(movietitle, limit=1)\n",
    "    video_results = videosSearch.result().get(\"result\")\n",
    "\n",
    "    if video_results:\n",
    "        print(\"\\033[1;31;34m\")\n",
    "        video_id = video_results[0].get(\"id\")\n",
    "        video_url = f\"https://www.youtube.com/watch?v={video_id}\"\n",
    "        print(\"\\033[1;31;34m\", video_url)\n",
    "        vid = IFrame(\n",
    "            src=f\"https://www.youtube.com/embed/{video_id}\", width=\"560\", height=\"315\"\n",
    "        )\n",
    "        display(vid)\n",
    "\n",
    "        # Get the first 20 Youtube video comments\n",
    "        print(\"YouTube video comments for\", movietitle, \":\")\n",
    "        comments = Comments.get(video_id)\n",
    "        print(\"\\033[1;31;32m\")\n",
    "\n",
    "        for idx, comment in enumerate(comments.get(\"result\")):\n",
    "            print(f\"Comment {idx+1:02}: {comment.get('content')}\")\n",
    "        print(\"\\033[0m\")\n",
    "    else:\n",
    "        print(\"No video found on YouTube.\")"
   ]
  },
  {
   "cell_type": "code",
   "execution_count": null,
   "id": "5b0a6d87",
   "metadata": {},
   "outputs": [],
   "source": [
    "def get_all_trailers(movies_list):\n",
    "    \"\"\"\n",
    "    Get movie trailers from a list of movies\n",
    "    Input: movies list (list)\n",
    "    Output: vDisplay the video files and saved them\n",
    "    \"\"\"\n",
    "    for movie in movies_list:\n",
    "        print(movie)\n",
    "        try:\n",
    "            get_trailer(movie)\n",
    "        except:\n",
    "            print(\"Error\")\n",
    "        print()"
   ]
  },
  {
   "cell_type": "code",
   "execution_count": null,
   "id": "f6a65eb6",
   "metadata": {},
   "outputs": [],
   "source": [
    "def acs_find_movies_with_posters(title):\n",
    "    \"\"\"\n",
    "    Cross Field Search using Azure Cognitive Search\n",
    "    Input: movie title (string)\n",
    "    Output: results (text)\n",
    "    \"\"\"\n",
    "    search_client = SearchClient(\n",
    "        acs_endpoint, index_name, credential=AzureKeyCredential(acs_key)\n",
    "    )\n",
    "\n",
    "    vector = Vector(value=openai_text_embeddings(title), k=1, fields=\"embed_title\")\n",
    "\n",
    "    results = search_client.search(\n",
    "        search_text=None,\n",
    "        vectors=[vector],\n",
    "        select=[\n",
    "            \"imdb_id\",\n",
    "            \"title\",\n",
    "            \"cast\",\n",
    "            \"director\",\n",
    "            \"description\",\n",
    "            \"genres\",\n",
    "            \"year\",\n",
    "        ],\n",
    "        top=1,\n",
    "    )\n",
    "\n",
    "    for result in results:\n",
    "        if result['@search.score'] >= 0.9:\n",
    "            print(\"\\033[1;31;34m\")\n",
    "            print(f\"Movie title: {result['title']}\")\n",
    "            print(f\"IMDB ID: {result['imdb_id']}\")\n",
    "            # Get movie poster\n",
    "            get_movie_poster(result[\"imdb_id\"])\n",
    "            print(\"\\033[1;31;32m\")\n",
    "            print(f\"Description: {result['description']}\")\n",
    "            print(\"\\033[0m\")\n",
    "            print(f\"Cast: {result['cast']}\")\n",
    "            print(f\"Director: {result['director']}\")\n",
    "            print(f\"Genres: {result['genres']}\")\n",
    "            print(f\"Year: {result['year']}\")\n",
    "            print(\"\\033[1;31;35m\")\n",
    "            print(f\"Score = {result['@search.score']}\")\n",
    "        else:\n",
    "            print(\"Note: The movie\", title, \"is not available in the Azure Cognitive search index\")"
   ]
  },
  {
   "cell_type": "code",
   "execution_count": null,
   "id": "0e8f48bd",
   "metadata": {},
   "outputs": [],
   "source": [
    "def get_acs_movies_results(movies_list):\n",
    "    \"\"\"\n",
    "    Find movies using Azure Cognitive Search from a list of movies\n",
    "    Input: movies list (list)\n",
    "    Output: run the acs_find_movies_with_posters function on all element of the input list\n",
    "    \"\"\"\n",
    "    for movie in movies_list:\n",
    "        acs_find_movies_with_posters(movie)"
   ]
  },
  {
   "cell_type": "markdown",
   "id": "daf5f0d1",
   "metadata": {},
   "source": [
    "### Tests"
   ]
  },
  {
   "cell_type": "code",
   "execution_count": null,
   "id": "b70bca26",
   "metadata": {},
   "outputs": [],
   "source": [
    "azure_chatgpt_movies(\"Who are you?\")"
   ]
  },
  {
   "cell_type": "code",
   "execution_count": null,
   "id": "c1339462",
   "metadata": {},
   "outputs": [],
   "source": [
    "azure_chatgpt_movies(\"Can you display the name of the actors and characters of the Titanic movie in a json list?\")"
   ]
  },
  {
   "cell_type": "code",
   "execution_count": null,
   "id": "2b2bc98c",
   "metadata": {},
   "outputs": [],
   "source": [
    "azure_chatgpt_movies(\"When was made the Titanic movie?\")"
   ]
  },
  {
   "cell_type": "code",
   "execution_count": null,
   "id": "67de8f0b",
   "metadata": {},
   "outputs": [],
   "source": [
    "azure_chatgpt_movies(\"Who is the director of the shining? What was the release year?\")"
   ]
  },
  {
   "cell_type": "code",
   "execution_count": null,
   "id": "a620106d",
   "metadata": {},
   "outputs": [],
   "source": [
    "azure_chatgpt_movies(\"What are the main characters of Million Dollar Baby? Who is the director? What is the release year?\")"
   ]
  },
  {
   "cell_type": "code",
   "execution_count": null,
   "id": "8d720419",
   "metadata": {},
   "outputs": [],
   "source": [
    "azure_chatgpt_movies(\"Share with me some details about the 'Les choses de la vie' movie\")"
   ]
  },
  {
   "cell_type": "markdown",
   "id": "61ecbfd8",
   "metadata": {},
   "source": [
    "## 6. ChatGPT and Azure Cognitive Search and additional results (trailers)"
   ]
  },
  {
   "cell_type": "markdown",
   "id": "c79cdf5f",
   "metadata": {},
   "source": [
    "### Test 1"
   ]
  },
  {
   "cell_type": "code",
   "execution_count": null,
   "id": "ef279c58",
   "metadata": {},
   "outputs": [],
   "source": [
    "prompt = \"I want to see an action movie from the 70's in New York City.\\\n",
    " I want you to save only the movie title in a numbered list with the release year.\"\n",
    "\n",
    "answer = azure_chatgpt_movies(prompt)"
   ]
  },
  {
   "cell_type": "code",
   "execution_count": null,
   "id": "1507be30",
   "metadata": {},
   "outputs": [],
   "source": [
    "movies_list = get_list(answer)"
   ]
  },
  {
   "cell_type": "code",
   "execution_count": null,
   "id": "d3f377d4",
   "metadata": {},
   "outputs": [],
   "source": [
    "get_acs_movies_results(movies_list)"
   ]
  },
  {
   "cell_type": "code",
   "execution_count": null,
   "id": "796cc1fd",
   "metadata": {},
   "outputs": [],
   "source": [
    "get_all_trailers(movies_list)"
   ]
  },
  {
   "cell_type": "markdown",
   "id": "9cefa98d",
   "metadata": {},
   "source": [
    "### Test 2"
   ]
  },
  {
   "cell_type": "code",
   "execution_count": null,
   "id": "56ff5947",
   "metadata": {},
   "outputs": [],
   "source": [
    "prompt = \"What are the movies of Sylvester Stallone between 1985 and 1990?.\\\n",
    " I want you to save only the movie title in a numbered list with the release year.\"\n",
    "\n",
    "answer = azure_chatgpt_movies(prompt)"
   ]
  },
  {
   "cell_type": "code",
   "execution_count": null,
   "id": "0dfccda8",
   "metadata": {},
   "outputs": [],
   "source": [
    "movies_list = get_list(answer)"
   ]
  },
  {
   "cell_type": "code",
   "execution_count": null,
   "id": "6697a6fa",
   "metadata": {},
   "outputs": [],
   "source": [
    "get_acs_movies_results(movies_list)"
   ]
  },
  {
   "cell_type": "code",
   "execution_count": null,
   "id": "f6bc9fd3",
   "metadata": {},
   "outputs": [],
   "source": [
    "get_all_trailers(movies_list)"
   ]
  },
  {
   "cell_type": "markdown",
   "id": "91d7432f",
   "metadata": {},
   "source": [
    "### Test 3"
   ]
  },
  {
   "cell_type": "code",
   "execution_count": null,
   "id": "3882f3eb",
   "metadata": {},
   "outputs": [],
   "source": [
    "prompt = \"What are the top 3 movies about WW2 in terms of audience?\\\n",
    " I want you to save only the movie title in a numbered list with the release year.\"\n",
    "\n",
    "answer = azure_chatgpt_movies(prompt)"
   ]
  },
  {
   "cell_type": "code",
   "execution_count": null,
   "id": "cfe16e4e",
   "metadata": {},
   "outputs": [],
   "source": [
    "movies_list = get_list(answer)"
   ]
  },
  {
   "cell_type": "code",
   "execution_count": null,
   "id": "579b8108",
   "metadata": {},
   "outputs": [],
   "source": [
    "get_acs_movies_results(movies_list)"
   ]
  },
  {
   "cell_type": "code",
   "execution_count": null,
   "id": "78be3e66",
   "metadata": {},
   "outputs": [],
   "source": [
    "get_all_trailers(movies_list)"
   ]
  },
  {
   "cell_type": "markdown",
   "id": "d88c87aa",
   "metadata": {},
   "source": [
    "### Test 4"
   ]
  },
  {
   "cell_type": "code",
   "execution_count": null,
   "id": "35835807",
   "metadata": {},
   "outputs": [],
   "source": [
    "prompt = \"What is the name of the movie about two teenagers using a computer in the 80's?\\\n",
    " I want you to save only the movie title in a numbered list with the release year.\"\n",
    "\n",
    "answer = azure_chatgpt_movies(prompt)"
   ]
  },
  {
   "cell_type": "code",
   "execution_count": null,
   "id": "3cb4aae3",
   "metadata": {},
   "outputs": [],
   "source": [
    "movies_list = get_list(answer)"
   ]
  },
  {
   "cell_type": "code",
   "execution_count": null,
   "id": "ab375243",
   "metadata": {},
   "outputs": [],
   "source": [
    "get_acs_movies_results(movies_list)"
   ]
  },
  {
   "cell_type": "code",
   "execution_count": null,
   "id": "435b4817",
   "metadata": {},
   "outputs": [],
   "source": [
    "get_all_trailers(movies_list)"
   ]
  },
  {
   "cell_type": "markdown",
   "id": "bf380b9a",
   "metadata": {},
   "source": [
    "### Test 5"
   ]
  },
  {
   "cell_type": "code",
   "execution_count": null,
   "id": "9113de2f",
   "metadata": {},
   "outputs": [],
   "source": [
    "prompt = \"What is the movie made by Steven Spielberg about crime prediction?\\\n",
    " I want you to save only the movie title in a numbered list with the release year.\"\n",
    "\n",
    "answer = azure_chatgpt_movies(prompt)"
   ]
  },
  {
   "cell_type": "code",
   "execution_count": null,
   "id": "5306d506",
   "metadata": {},
   "outputs": [],
   "source": [
    "movies_list = get_list(answer)"
   ]
  },
  {
   "cell_type": "code",
   "execution_count": null,
   "id": "b72253a6",
   "metadata": {},
   "outputs": [],
   "source": [
    "get_acs_movies_results(movies_list)"
   ]
  },
  {
   "cell_type": "code",
   "execution_count": null,
   "id": "2fef6c60",
   "metadata": {},
   "outputs": [],
   "source": [
    "get_all_trailers(movies_list)"
   ]
  },
  {
   "cell_type": "markdown",
   "id": "d476e947",
   "metadata": {},
   "source": [
    "## 7. Web apps"
   ]
  },
  {
   "cell_type": "markdown",
   "id": "0c615f3f",
   "metadata": {},
   "source": [
    "### 6.1 ChatGPT with azure Open AI webapp"
   ]
  },
  {
   "cell_type": "markdown",
   "id": "08c94230",
   "metadata": {},
   "source": [
    "Make sure you include your GPT deployment name!"
   ]
  },
  {
   "cell_type": "code",
   "execution_count": null,
   "id": "78f483b6",
   "metadata": {},
   "outputs": [],
   "source": [
    "def gradio_chatgpt_function(prompt, max_retries=3, retry_delay=1):\n",
    "    \"\"\"\n",
    "    ChatGPT with Azure Open AI\n",
    "    Input: prompt (string)\n",
    "    Output: Azure Open AI ChatGPT results (string)\n",
    "    \"\"\"\n",
    "    for _ in range(max_retries):\n",
    "        try:\n",
    "            response = openai.ChatCompletion.create(\n",
    "                engine=\"gpt-35-turbo-unai\",  # Should be deployed in the AOAI studio\n",
    "                messages=[\n",
    "                    {\n",
    "                        \"role\": \"system\",\n",
    "                        \"content\": \"You are an AI assistant that helps people to find \\\n",
    "                        information about movies. You will respond with the movie title name \\\n",
    "                        and the date of the released movie in a numbered list. \\\n",
    "                        One possible answer is : 1 Terminator (1984) 2 Mad Max (1979) 3 Abyss (1989)\"\n",
    "                    },\n",
    "                    {\"role\": \"user\", \"content\": prompt},\n",
    "                ],\n",
    "                temperature=0.9,\n",
    "                max_tokens=200,\n",
    "                top_p=1,\n",
    "                frequency_penalty=0,\n",
    "                presence_penalty=0,\n",
    "                stop=None,\n",
    "            )\n",
    "            resp = response[\"choices\"][0][\"message\"][\"content\"]\n",
    "            \n",
    "            return resp\n",
    "\n",
    "        except Exception as e:\n",
    "            time.sleep(retry_delay)\n",
    "\n",
    "    return None"
   ]
  },
  {
   "cell_type": "markdown",
   "id": "bfa20ea3",
   "metadata": {},
   "source": [
    "<img src=\"https://github.com/retkowsky/Azure-OpenAI-demos/blob/main/Movies%20recommender%20usecase%20demo/webapp1.png?raw=true\">"
   ]
  },
  {
   "cell_type": "code",
   "execution_count": null,
   "id": "aa9ba240",
   "metadata": {},
   "outputs": [],
   "source": [
    "logo = \"https://github.com/retkowsky/images/blob/master/azure_openai_logo.png?raw=true\"\n",
    "image = \"<center> <img src= {} width=500px></center>\".format(logo)\n",
    "header = \"Azure ChatGPT Movie Application\"\n",
    "article = \"Serge Retkowsky | Microsoft | 2023 | Powered by Azure Open AI\"\n",
    "\n",
    "samples = [\n",
    "    \"Show me some movies in NYC from the seventies\",\n",
    "    \"Show me a list of movies like Terminator\",\n",
    "    \"I want some musical movies\",\n",
    "    \"Show me some movies like Jaws\",\n",
    "    \"I want to see some movies with Stallone\",\n",
    "    \"I love 'La folie des grandeurs'. What do you recommend me to watch?\",\n",
    "    \"Display some movies names about dragons\",\n",
    "    \"Display some movies names with hard rock bands\",\n",
    "]\n",
    "\n",
    "inputs = gr.Textbox(lines=3, label=\"What do you want to search?\")\n",
    "outputs = gr.Textbox(label=\"Azure Open AI results\")\n",
    "\n",
    "azure_chatgpt_movie_webapp = gr.Interface(\n",
    "    gradio_chatgpt_function,\n",
    "    inputs,\n",
    "    outputs,\n",
    "    title=header,\n",
    "    description=image,\n",
    "    examples=samples,\n",
    "    article=article,\n",
    "    theme=\"gradio/monochrome\",  # https://huggingface.co/spaces/gradio/theme-gallery\n",
    ")\n",
    "\n",
    "azure_chatgpt_movie_webapp.launch(share=True)"
   ]
  },
  {
   "cell_type": "markdown",
   "id": "dde6d966",
   "metadata": {},
   "source": [
    "### 7.2 ChatGPT with azure Open AI and Azure Cognitive Search webapp"
   ]
  },
  {
   "cell_type": "code",
   "execution_count": null,
   "id": "1ac06e23",
   "metadata": {},
   "outputs": [],
   "source": [
    "def azure_chatgpt(prompt):\n",
    "    \"\"\"\n",
    "    Azure Chat GPT to give movies answers from a prompt\n",
    "    Input: prompt (string)\n",
    "    Output: results (str)\n",
    "    \"\"\"\n",
    "    response = openai.ChatCompletion.create(\n",
    "        engine=\"gpt-35-turbo-unai\",  # Should be deployed in the AOAI studio\n",
    "        messages=[\n",
    "            {\n",
    "                \"role\": \"system\",\n",
    "                \"content\": \"You are an AI assistant that helps people to find \\\n",
    "                information about movies. You must respond with a numbered list that contains \\\n",
    "                the movie title name and the date of the released movie. \\\n",
    "                If there is only one answer please add 1 before the movie title and the date. \\\n",
    "                When the answer is multiple you should have an example like that one: \\\n",
    "                Another possible answer is : 1 Terminator (1984) 2 Mad Max (1979) 3 Abyss (1989)\"\n",
    "            },\n",
    "            {\"role\": \"user\", \"content\": prompt},\n",
    "        ],\n",
    "        temperature=0, # \n",
    "        max_tokens=800,\n",
    "        top_p=1,\n",
    "        frequency_penalty=0,\n",
    "        presence_penalty=0,\n",
    "        stop=None,)\n",
    "\n",
    "    # Get only the movie(s)\n",
    "    movies_titles = response[\"choices\"][0][\"message\"][\"content\"]\n",
    "    \n",
    "    return movies_titles"
   ]
  },
  {
   "cell_type": "code",
   "execution_count": null,
   "id": "97b05745",
   "metadata": {},
   "outputs": [],
   "source": [
    "def get_acs_infos(title):\n",
    "    \"\"\"\n",
    "    Get the movies information from the title using Azure Cognitive Search\n",
    "    Input: title movie (string)\n",
    "    Output: results (text)\n",
    "    \"\"\"\n",
    "    search_client = SearchClient(\n",
    "        acs_endpoint, index_name, credential=AzureKeyCredential(acs_key)\n",
    "    )\n",
    "\n",
    "    vector = Vector(value=openai_text_embeddings(title), k=1, fields=\"embed_title\")\n",
    "    \n",
    "    results = search_client.search(\n",
    "        search_text=None,\n",
    "        vectors=[vector],\n",
    "        select=[\n",
    "            \"imdb_id\",\n",
    "            \"title\",\n",
    "            \"cast\",\n",
    "            \"director\",\n",
    "            \"description\",\n",
    "            \"genres\",\n",
    "            \"year\",\n",
    "        ],\n",
    "        top=1,\n",
    "    )\n",
    "\n",
    "    for result in results:\n",
    "        if result['@search.score'] >= 0.9:\n",
    "            textresult = (\n",
    "                f\"{result['title']}  (score = {result['@search.score']})\\n\"\n",
    "                f\"Imdb id: {result['imdb_id']}\\n\"\n",
    "                f\"Description: {result['description']}\\n\"\n",
    "                f\"Director: {result['director']}\\n\"\n",
    "                f\"Cast: {result['cast']}\\n\"\n",
    "                f\"Genres: {result['genres']}\\n\"\n",
    "                f\"Year: {result['year']}\\n\\n\"\n",
    "            )\n",
    "        else:\n",
    "            #textresult = f\"Note: the movie '{result['title']}' is not available in our vector database.\\n\"\n",
    "            continue\n",
    "        \n",
    "        return textresult"
   ]
  },
  {
   "cell_type": "code",
   "execution_count": null,
   "id": "b888d648",
   "metadata": {},
   "outputs": [],
   "source": [
    "def from_gpt_to_acs(gpt_result):\n",
    "    \"\"\"\n",
    "    Generation of results to display for the webapp\n",
    "    Input: movies list from azure open ai chatgpt (string)\n",
    "    Output: results (string)\n",
    "    \"\"\"\n",
    "    text_to_display = ''\n",
    "\n",
    "    if gpt_result.count('\\n') > 0:\n",
    "        lines = gpt_result.splitlines()\n",
    "        movies_list = []\n",
    "        for line in lines:\n",
    "            movies_list.append(line)\n",
    "        \n",
    "        # Doing the search in acs\n",
    "        for movie in movies_list:\n",
    "            infos = get_acs_infos(movie)\n",
    "            text_to_display = text_to_display + str(infos)\n",
    "    else:\n",
    "        text_to_display = get_acs_infos(gpt_result)\n",
    "\n",
    "    return text_to_display"
   ]
  },
  {
   "cell_type": "code",
   "execution_count": null,
   "id": "3c4575b8",
   "metadata": {},
   "outputs": [],
   "source": [
    "def gradio_movieapp_function(prompt, topn=5):\n",
    "    \"\"\"\n",
    "    Movie app with Azure Open AI and Azure Cognitive Search\n",
    "    \"\"\"   \n",
    "    text_to_display = ''\n",
    "    try:\n",
    "        movies_titles = azure_chatgpt(prompt)\n",
    "        text_to_display = from_gpt_to_acs(movies_titles)\n",
    "\n",
    "    except Exception as e:\n",
    "        pass\n",
    "    \n",
    "    return text_to_display"
   ]
  },
  {
   "cell_type": "markdown",
   "id": "1fb25a23",
   "metadata": {},
   "source": [
    "<img src=\"https://github.com/retkowsky/Azure-OpenAI-demos/blob/main/Movies%20recommender%20usecase%20demo/webapp2.png?raw=true\">"
   ]
  },
  {
   "cell_type": "code",
   "execution_count": null,
   "id": "c2803e4a",
   "metadata": {},
   "outputs": [],
   "source": [
    "logo = \"https://github.com/retkowsky/images/blob/master/movies_search.png?raw=true\"\n",
    "image = \"<center> <img src= {} width=1000px></center>\".format(logo)\n",
    "header = \"Movie Application using Azure Open AI and Azure Cognitive Search\"\n",
    "article = \"Serge Retkowsky | Microsoft | 2023 | Powered by Azure Open AI and Azure Cognitive Search\"\n",
    "\n",
    "samples = [\n",
    "    \"Show me some movies in NYC from the seventies\",\n",
    "    \"I want to see some movie with De Niro\",\n",
    "    \"Show me some movies directed by Steven Spielberg\",\n",
    "    \"Do you have some 'end of the world' movies?\",\n",
    "    \"Show me some movies with a dragon\",\n",
    "    \"Show me a movie where 2 teenagers where using a computer in the 80's\",\n",
    "    \"Show me some James Bond movies with Sean Connery\",\n",
    "]\n",
    "\n",
    "inputs = gr.Textbox(lines=3, label=\"What do you want to search?\")\n",
    "outputs = gr.Textbox(label=\"Azure Open AI and Azure Cognitive Search results\")\n",
    "\n",
    "azure_movie_webapp = gr.Interface(\n",
    "    gradio_movieapp_function,\n",
    "    inputs,\n",
    "    outputs,\n",
    "    title=header,\n",
    "    description=image,\n",
    "    examples=samples,\n",
    "    article=article,\n",
    "    theme=\"HaleyCH/HaleyCH_Theme\",  # https://huggingface.co/spaces/gradio/theme-gallery\n",
    ")\n",
    "\n",
    "azure_movie_webapp.launch(share=True)"
   ]
  },
  {
   "cell_type": "markdown",
   "id": "61483dd0",
   "metadata": {},
   "source": [
    "> Go to the next notebook"
   ]
  }
 ],
 "metadata": {
  "kernelspec": {
   "display_name": "Python 3",
   "language": "python",
   "name": "python3"
  },
  "language_info": {
   "codemirror_mode": {
    "name": "ipython",
    "version": 3
   },
   "file_extension": ".py",
   "mimetype": "text/x-python",
   "name": "python",
   "nbconvert_exporter": "python",
   "pygments_lexer": "ipython3",
   "version": "3.11.5"
  }
 },
 "nbformat": 4,
 "nbformat_minor": 5
}
