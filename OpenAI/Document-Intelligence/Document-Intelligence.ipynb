{
 "cells": [
  {
   "cell_type": "markdown",
   "id": "ce786743",
   "metadata": {},
   "source": [
    "# Azure Open AI - Demo 5 Document Intelligence (Azure Forms Recognizer)"
   ]
  },
  {
   "cell_type": "markdown",
   "id": "c42de9c6",
   "metadata": {},
   "source": [
    "**Before getting started!**\n",
    "- Create an Azure Document Intelligence (Form Recognizer) resource and create GitHub Secrets for it (or use and .env file uncommenting some sections)\n",
    "    - AZURE_DOC_KEY and AZURE_DOC_ENDPOINT\n",
    "- Make sure speech module **azure.core.credentials** and **azure.ai.formrecognizer** is installed (already executed automatically in the GH Codespace from requirements.txt)"
   ]
  },
  {
   "cell_type": "code",
   "execution_count": null,
   "id": "a9bb13be",
   "metadata": {},
   "outputs": [],
   "source": [
    "# %pip install azure-ai-formrecognizer"
   ]
  },
  {
   "cell_type": "code",
   "execution_count": null,
   "id": "65c4671c",
   "metadata": {},
   "outputs": [],
   "source": [
    "import openai\n",
    "import os\n",
    "import sys\n",
    "\n",
    "from azure.core.credentials import AzureKeyCredential\n",
    "from azure.ai.formrecognizer import DocumentAnalysisClient\n",
    "# from dotenv import load_dotenv\n",
    "from IPython.display import Image"
   ]
  },
  {
   "cell_type": "code",
   "execution_count": null,
   "id": "fe2899d6",
   "metadata": {},
   "outputs": [],
   "source": [
    "sys.version"
   ]
  },
  {
   "cell_type": "code",
   "execution_count": null,
   "id": "bf276100",
   "metadata": {},
   "outputs": [],
   "source": [
    "print(\"openai version =\", openai.__version__)"
   ]
  },
  {
   "cell_type": "code",
   "execution_count": null,
   "id": "53d8aa4d",
   "metadata": {},
   "outputs": [],
   "source": [
    "# load_dotenv(\"azure.env\")\n",
    "\n",
    "openai.api_type: str = \"azure\"\n",
    "# openai.api_key = os.getenv(\"OPENAI_API_KEY\")\n",
    "openai.api_key = os.getenv(\"AZURE_OPENAI_API_KEY\")\n",
    "# openai.api_base = os.getenv(\"OPENAI_API_BASE\")\n",
    "openai.api_base = os.getenv(\"AZURE_OPENAI_ENDPOINT\")\n",
    "# openai.api_version = os.getenv(\"OPENAI_API_VERSION\")\n",
    "openai.api_version = os.getenv(\"AZURE_OPENAI_MODEL_CHAT_VERSION\")\n",
    "\n",
    "azure_doc_key = os.getenv(\"AZURE_DOC_KEY\")\n",
    "azure_doc_endpoint = os.getenv(\"AZURE_DOC_ENDPOINT\")"
   ]
  },
  {
   "cell_type": "markdown",
   "id": "c531bdf8",
   "metadata": {},
   "source": [
    "**For this demo have a text-davinci-003 model deployed!**"
   ]
  },
  {
   "cell_type": "code",
   "execution_count": null,
   "id": "6018a86e",
   "metadata": {},
   "outputs": [],
   "source": [
    "#Change it to your deployment name!\n",
    "model = \"text-davinci-003-Unai\""
   ]
  },
  {
   "cell_type": "markdown",
   "id": "7b77d5df",
   "metadata": {},
   "source": [
    "## 1.Document"
   ]
  },
  {
   "cell_type": "code",
   "execution_count": null,
   "id": "0d95da05",
   "metadata": {},
   "outputs": [],
   "source": [
    "imagefile = \"documents/doc.png\""
   ]
  },
  {
   "cell_type": "code",
   "execution_count": null,
   "id": "c2351b8d",
   "metadata": {},
   "outputs": [],
   "source": [
    "Image(filename=imagefile)"
   ]
  },
  {
   "cell_type": "markdown",
   "id": "12cb2b23",
   "metadata": {},
   "source": [
    "## 2. Extract text using Azure Forms Recognizer"
   ]
  },
  {
   "cell_type": "code",
   "execution_count": null,
   "id": "95828e51",
   "metadata": {},
   "outputs": [],
   "source": [
    "with open(imagefile, \"rb\") as f:\n",
    "    document = f.read()\n",
    "\n",
    "client = DocumentAnalysisClient(\n",
    "    endpoint=azure_doc_endpoint, credential=AzureKeyCredential(azure_doc_key)\n",
    ")\n",
    "\n",
    "result = client.begin_analyze_document(\"prebuilt-read\", document)\n",
    "content = result.result().content"
   ]
  },
  {
   "cell_type": "code",
   "execution_count": null,
   "id": "71fb43a3",
   "metadata": {},
   "outputs": [],
   "source": [
    "print(\"Document content: \\n\\n\", content)"
   ]
  },
  {
   "cell_type": "markdown",
   "id": "d87197f4",
   "metadata": {},
   "source": [
    "## 3. Summarize Text "
   ]
  },
  {
   "cell_type": "code",
   "execution_count": null,
   "id": "f7d8ac24",
   "metadata": {},
   "outputs": [],
   "source": [
    "prompt = f\"\"\"Text: \n",
    "\n",
    "             ###\n",
    "             {content}\n",
    "             ###\n",
    "             \n",
    "             Tasks:\n",
    "             1. What is the language?\n",
    "             2. How many words in it?\n",
    "             3. How many letters and numbers?\n",
    "             4. How many letters?\n",
    "             5. How many numbers?\n",
    "          \"\"\"\n",
    "\n",
    "response = openai.Completion.create(\n",
    "    engine=model,\n",
    "    prompt=prompt,\n",
    "    temperature=0,\n",
    "    max_tokens=1000,\n",
    "    top_p=1,\n",
    "    frequency_penalty=0.5,\n",
    "    presence_penalty=0.5,\n",
    ")\n",
    "\n",
    "print(response[\"choices\"][0][\"text\"])"
   ]
  },
  {
   "cell_type": "code",
   "execution_count": null,
   "id": "446b9583",
   "metadata": {},
   "outputs": [],
   "source": [
    "prompt = f\"\"\"Text: \n",
    "\n",
    "             ###\n",
    "             {content}\n",
    "             ###\n",
    "             \n",
    "             Tasks:\n",
    "             1. Summarize the above text into 3 short sentences.\n",
    "             2. Determine the above test topic. \n",
    "             3. Extract top 5 key entities that I need to pay attention to.\n",
    "             \n",
    "             Answer the above 3 tasks, one at a time.\n",
    "          \"\"\"\n",
    "\n",
    "response = openai.Completion.create(\n",
    "    engine=model,\n",
    "    prompt=prompt,\n",
    "    temperature=0,\n",
    "    max_tokens=1000,\n",
    "    top_p=1,\n",
    "    frequency_penalty=0.5,\n",
    "    presence_penalty=0.5,\n",
    ")\n",
    "\n",
    "print(response[\"choices\"][0][\"text\"])"
   ]
  },
  {
   "cell_type": "code",
   "execution_count": null,
   "id": "95e57d55",
   "metadata": {},
   "outputs": [],
   "source": [
    "prompt = f\"\"\"Text: \n",
    "\n",
    "             ###\n",
    "             {content}\n",
    "             ###\n",
    "             \n",
    "             Tasks:\n",
    "             1. Summarize the above text into 3 short sentences.\n",
    "             2. Determine the above test topic. \n",
    "             3. Extract top 5 key entities that I need to pay attention to.\n",
    "             \n",
    "             Answer the above 3 tasks, one at a time, in French.\n",
    "          \"\"\"\n",
    "\n",
    "response = openai.Completion.create(\n",
    "    engine=model,\n",
    "    prompt=prompt,\n",
    "    temperature=0,\n",
    "    max_tokens=1000,\n",
    "    top_p=1,\n",
    "    frequency_penalty=0.5,\n",
    "    presence_penalty=0.5,\n",
    ")\n",
    "\n",
    "print(response[\"choices\"][0][\"text\"])"
   ]
  },
  {
   "cell_type": "code",
   "execution_count": null,
   "id": "b88e1a3d",
   "metadata": {},
   "outputs": [],
   "source": [
    "prompt = f\"\"\"Text: \n",
    "\n",
    "             ###\n",
    "             {content}\n",
    "             ###\n",
    "             \n",
    "             Tasks:\n",
    "             1. What are the names of the companies?\n",
    "             2. Is it about Microsoft. Just say YES or NO.\n",
    "             3. Is it about Open AI? Explain.\n",
    "             \n",
    "             Answer the above 3 tasks, one at a time, in English.\n",
    "          \"\"\"\n",
    "\n",
    "response = openai.Completion.create(\n",
    "    engine=model,\n",
    "    prompt=prompt,\n",
    "    temperature=0,\n",
    "    max_tokens=1000,\n",
    "    top_p=1,\n",
    "    frequency_penalty=0.5,\n",
    "    presence_penalty=0.5,\n",
    ")\n",
    "\n",
    "print(response[\"choices\"][0][\"text\"])"
   ]
  },
  {
   "cell_type": "code",
   "execution_count": null,
   "id": "189b6bc8",
   "metadata": {},
   "outputs": [],
   "source": []
  }
 ],
 "metadata": {
  "kernelspec": {
   "display_name": "Python 3",
   "language": "python",
   "name": "python3"
  },
  "language_info": {
   "codemirror_mode": {
    "name": "ipython",
    "version": 3
   },
   "file_extension": ".py",
   "mimetype": "text/x-python",
   "name": "python",
   "nbconvert_exporter": "python",
   "pygments_lexer": "ipython3",
   "version": "3.11.5"
  }
 },
 "nbformat": 4,
 "nbformat_minor": 5
}
