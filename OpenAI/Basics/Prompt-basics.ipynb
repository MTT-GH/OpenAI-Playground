{
 "cells": [
  {
   "cell_type": "markdown",
   "metadata": {},
   "source": [
    "# Basis demos for Prompting\n",
    "\n",
    "The following jupyter notebook includes may different scenarios on how Azure OpenAI can be used and the prompting techniques used for it. **Please make sure you execute \"0. Azure OpenAI configuration\", then jump to the scenario you want to demo**:\n",
    "\n",
    "    1. Generate content \n",
    "    2. Summarizing\n",
    "    3. Inferring \n",
    "    4. Transforming\n",
    "    5. Expanding\n"
   ]
  },
  {
   "cell_type": "markdown",
   "metadata": {},
   "source": [
    "## 0. Azure OpenAI configuration\n",
    "\n",
    "The following section shows how to configure the openai library to call your own Azure OpenAI service. For these demos we will use a deployment of chat-35-turbo and the ChatCompletion API."
   ]
  },
  {
   "cell_type": "markdown",
   "metadata": {},
   "source": [
    "Azure Open AI configuration will be provided using GitHub Codespace secrets for safety. **Avoid printing the information and commiting the output given by the print. We recommend rotating they key if you secret has been exposed during demos**."
   ]
  },
  {
   "cell_type": "code",
   "execution_count": 1,
   "metadata": {},
   "outputs": [],
   "source": [
    "import openai\n",
    "import os\n",
    "\n",
    "chat_completions_config = {\n",
    "  'api_type': 'azure',\n",
    "  'api_base': os.getenv('AZURE_OPENAI_ENDPOINT'),\n",
    "  'api_key': os.getenv('AZURE_OPENAI_API_KEY'),\n",
    "  'api_version': os.getenv('AZURE_OPENAI_MODEL_CHAT_VERSION'),\n",
    "  'engine': os.getenv('AZURE_OPENAI_MODEL_CHAT'),\n",
    "}\n"
   ]
  },
  {
   "cell_type": "code",
   "execution_count": 3,
   "metadata": {},
   "outputs": [],
   "source": [
    "def get_completion(prompt, config=chat_completions_config):\n",
    "    messages = [{\"role\": \"user\", \"content\": prompt}]\n",
    "    \n",
    "    #print(config)\n",
    "    config['messages']=messages\n",
    "    config['temperature']=0  \n",
    "    response = openai.ChatCompletion.create(\n",
    "        **config\n",
    "    )\n",
    "    return response.choices[0].message[\"content\"]"
   ]
  },
  {
   "cell_type": "markdown",
   "metadata": {},
   "source": [
    "# 1. Generate content\n",
    "\n",
    "Generate a product release Tweet based on the product description. "
   ]
  },
  {
   "cell_type": "code",
   "execution_count": 2,
   "metadata": {},
   "outputs": [],
   "source": [
    "treeking_shoes_description= \"\"\"\n",
    "Introducing our new line of Trekking Shoes – the \"Adventure Seeker\" series. These rugged and stylish trekking shoes are designed to elevate your outdoor experiences and provide the ultimate comfort and performance in challenging terrains. Here's a product description highlighting their key characteristics:\n",
    "\n",
    "Product Name: Adventure Seeker Trekking Shoes\n",
    "\n",
    "Description:\n",
    "The Adventure Seeker Trekking Shoes are the perfect companion for explorers, hikers, and outdoor enthusiasts. Crafted with precision and packed with innovative features, these shoes are tailored to ensure an exceptional trekking experience in any environment.\n",
    "\n",
    "Key Characteristics:\n",
    "\n",
    "Durable Construction:\n",
    "\n",
    "Built to withstand the rigors of the outdoors, our trekking shoes feature a tough and abrasion-resistant upper material. They can endure rough trails, rocky paths, and harsh weather conditions.\n",
    "Superior Traction:\n",
    "\n",
    "The advanced sole design offers exceptional grip on all surfaces, whether you're navigating muddy trails, slippery rocks, or wet terrain. You can trek with confidence.\n",
    "All-Day Comfort:\n",
    "\n",
    "Adventure Seeker shoes prioritize comfort. The cushioned insole and padded collar provide all-day support, reducing fatigue and ensuring a comfortable hiking experience.\n",
    "Breathable Design:\n",
    "\n",
    "Engineered with a breathable mesh lining, your feet stay cool and dry, even during strenuous hikes. Say goodbye to discomfort caused by sweaty and overheated feet.\n",
    "Water-Resistant:\n",
    "\n",
    "These shoes feature a water-resistant membrane that keeps your feet dry in light rain and wet conditions, allowing you to explore without worrying about dampness.\n",
    "\"\"\""
   ]
  },
  {
   "cell_type": "code",
   "execution_count": 4,
   "metadata": {},
   "outputs": [
    {
     "name": "stdout",
     "output_type": "stream",
     "text": [
      "\"Experience the ultimate trekking adventure with our new Adventure Seeker Trekking Shoes. Durable, comfortable, and water-resistant, they'll elevate your outdoor experiences. Get yours now!\"\n"
     ]
    }
   ],
   "source": [
    "prompt = f\"\"\"\n",
    "Help the marketing team create a short tweet of around 100 characters to promote the new line of Trekking Shoes. The tweet should highlight the key characteristics of the product and encourage people to buy it.\n",
    "\n",
    "Technical specifications: ```{treeking_shoes_description}```\n",
    "\"\"\"\n",
    "response = get_completion(prompt)\n",
    "print(response)"
   ]
  },
  {
   "cell_type": "markdown",
   "metadata": {},
   "source": [
    "## 2. Summarizing \n",
    "\n",
    "Lets try different examples for summarizing text.\n",
    "\n"
   ]
  },
  {
   "cell_type": "code",
   "execution_count": 5,
   "metadata": {},
   "outputs": [],
   "source": [
    "trekking_shoes_review=\"\"\"\n",
    "I recently had the pleasure of putting the Adventure Seeker Trekking Shoes to the test during a week-long hiking trip in the rugged wilderness, and I can confidently say that they exceeded my expectations. These trekking shoes are an adventurer's dream come true.\n",
    "\n",
    "Durability (5/5):\n",
    "The durable construction of these shoes is truly remarkable. They handled everything I threw at them – from jagged rocks to muddy trails – without a scratch. Not a single sign of wear and tear, even after a challenging week on the trail.\n",
    "\n",
    "Traction (5/5):\n",
    "One of the standout features of these shoes is the superior traction. I never once slipped, even when traversing slippery riverbeds or steep, rocky inclines. It felt like my feet were glued to the ground, giving me the confidence to take on any terrain.\n",
    "\n",
    "Comfort (4/5):\n",
    "The Adventure Seeker shoes offer great comfort for long hikes. The cushioned insole and padded collar made a noticeable difference, keeping my feet fatigue-free even on extended treks. However, I'd suggest breaking them in a bit before tackling multi-day hikes.\n",
    "\"\"\""
   ]
  },
  {
   "cell_type": "markdown",
   "metadata": {},
   "source": [
    "Define a character limit"
   ]
  },
  {
   "cell_type": "code",
   "execution_count": 6,
   "metadata": {},
   "outputs": [
    {
     "name": "stdout",
     "output_type": "stream",
     "text": [
      "The Adventure Seeker Trekking Shoes exceeded expectations with their durability and superior traction. They provided great comfort for long hikes, but may require some breaking in before tackling multi-day hikes.\n"
     ]
    }
   ],
   "source": [
    "prompt = f\"\"\"\n",
    "\n",
    "Summarize the review below, delimited by triple \n",
    "backticks.\n",
    "\n",
    "Use only 30 words. \n",
    "\n",
    "Review: ```{trekking_shoes_review}```\n",
    "\"\"\"\n",
    "\n",
    "response = get_completion(prompt)\n",
    "print(response)"
   ]
  },
  {
   "cell_type": "markdown",
   "metadata": {},
   "source": [
    "Include focus on specific topic"
   ]
  },
  {
   "cell_type": "code",
   "execution_count": 8,
   "metadata": {},
   "outputs": [
    {
     "name": "stdout",
     "output_type": "stream",
     "text": [
      "The Adventure Seeker Trekking Shoes exceeded expectations in terms of durability, handling jagged rocks and muddy trails without wear and tear. They also provided superior traction and comfort for long hikes.\n"
     ]
    }
   ],
   "source": [
    "prompt = f\"\"\"\n",
    "\n",
    "Summarize the review below, delimited by triple \n",
    "backticks.\n",
    "\n",
    "Use only 30 words. \n",
    "\n",
    "Focus only on  the durability of the shoes.   \n",
    "\n",
    "Review: ```{trekking_shoes_review}```\n",
    "\"\"\"\n",
    "\n",
    "response = get_completion(prompt)\n",
    "print(response)"
   ]
  },
  {
   "cell_type": "markdown",
   "metadata": {},
   "source": [
    "Now let´s extract information (instead of summarize)"
   ]
  },
  {
   "cell_type": "code",
   "execution_count": 9,
   "metadata": {},
   "outputs": [
    {
     "name": "stdout",
     "output_type": "stream",
     "text": [
      "The Adventure Seeker shoes offer great comfort for long hikes. The cushioned insole and padded collar kept my feet fatigue-free.\n"
     ]
    }
   ],
   "source": [
    "prompt = f\"\"\"\n",
    "\n",
    "Extract from the review below, delimited by triple \n",
    "backticks, information about the comfort of the shoes.\n",
    "\n",
    "Use only 30 words.    \n",
    "\n",
    "Review: ```{trekking_shoes_review}```\n",
    "\"\"\"\n",
    "\n",
    "response = get_completion(prompt)\n",
    "print(response)"
   ]
  },
  {
   "cell_type": "markdown",
   "metadata": {},
   "source": [
    "## 3. Inferring\n",
    "\n",
    "On the following demos lets try to indentify sentiments for given product reviews.\n",
    "\n"
   ]
  },
  {
   "cell_type": "code",
   "execution_count": 10,
   "metadata": {},
   "outputs": [],
   "source": [
    "trekking_shoes_review2=\"\"\" \n",
    "I'm incredibly disappointed with the Adventure Seeker Trekking Shoes. Despite the initial promise, these shoes proved to be a poor investment. The primary areas of concern are durability, comfort, and water resistance.\n",
    "\n",
    "Durability (2/5):\n",
    "These shoes failed the durability test miserably. After just a few hikes, I noticed significant wear and tear on the soles, and the upper material began to separate. The build quality left much to be desired, and I expected more longevity from a pair of trekking shoes.\n",
    "\n",
    "Comfort (2/5):\n",
    "While the shoes provided some comfort initially, they quickly became less comfortable as I wore them. The cushioning didn't hold up, leading to discomfort and sore feet on longer treks. I was hoping for a more supportive insole and collar.\n",
    "\n",
    "Water Resistance (2/5):\n",
    "The claim of water resistance fell short of reality. During a hike in light rain, my feet ended up soaked. These shoes didn't live up to the promise of keeping my feet dry in damp conditions.\n",
    "\n",
    "In summary, my experience with the Adventure Seeker Trekking Shoes was highly disappointing. Their subpar durability, declining comfort, and failure to deliver on water resistance were major letdowns. I wouldn't recommend these shoes for serious outdoor enthusiasts looking for reliable and long-lasting footwear.\n",
    "\"\"\""
   ]
  },
  {
   "cell_type": "code",
   "execution_count": 11,
   "metadata": {},
   "outputs": [
    {
     "name": "stdout",
     "output_type": "stream",
     "text": [
      "The sentiment of the review is negative.\n"
     ]
    }
   ],
   "source": [
    "prompt = f\"\"\"\n",
    "Extract the sentiment of the review below, delimited by triple  backticks.\n",
    "\n",
    "Review text: '''{trekking_shoes_review2}'''\n",
    "\"\"\"\n",
    "response = get_completion(prompt)\n",
    "print(response)"
   ]
  },
  {
   "cell_type": "markdown",
   "metadata": {},
   "source": [
    "We want a single word answer"
   ]
  },
  {
   "cell_type": "code",
   "execution_count": 13,
   "metadata": {},
   "outputs": [
    {
     "name": "stdout",
     "output_type": "stream",
     "text": [
      "negative\n"
     ]
    }
   ],
   "source": [
    "prompt = f\"\"\"\n",
    "Extract the sentiment of the review below, delimited by triple  backticks.\n",
    "\n",
    "The result should be a single word: positive, negative, or neutral.\n",
    "\n",
    "Review text: '''{trekking_shoes_review2}'''\n",
    "\"\"\"\n",
    "response = get_completion(prompt)\n",
    "print(response)"
   ]
  },
  {
   "cell_type": "markdown",
   "metadata": {},
   "source": [
    "Now lets try to identify anger scenarios"
   ]
  },
  {
   "cell_type": "code",
   "execution_count": 14,
   "metadata": {},
   "outputs": [
    {
     "name": "stdout",
     "output_type": "stream",
     "text": [
      "No\n"
     ]
    }
   ],
   "source": [
    "prompt = f\"\"\"\n",
    "Is the writer of the following review expressing anger?\\\n",
    "The review is delimited with triple backticks. \\\n",
    "Give your answer as either yes or no.\n",
    "\n",
    "Review text: '''{trekking_shoes_review2}'''\n",
    "\"\"\"\n",
    "response = get_completion(prompt)\n",
    "print(response)"
   ]
  },
  {
   "cell_type": "markdown",
   "metadata": {},
   "source": [
    "Lets run multiple task in a single prompt"
   ]
  },
  {
   "cell_type": "code",
   "execution_count": 15,
   "metadata": {},
   "outputs": [
    {
     "name": "stdout",
     "output_type": "stream",
     "text": [
      "{\n",
      "  \"Sentiment\": \"negative\",\n",
      "  \"Anger\": false,\n",
      "  \"Item\": \"Adventure Seeker Trekking Shoes\",\n",
      "  \"Brand\": \"unknown\"\n",
      "}\n"
     ]
    }
   ],
   "source": [
    "prompt = f\"\"\"\n",
    "Identify the following items from the review text: \n",
    "- Sentiment (positive or negative)\n",
    "- Is the reviewer expressing anger? (true or false)\n",
    "- Item purchased by reviewer\n",
    "\n",
    "\n",
    "The review is delimited with triple backticks. \\\n",
    "Format your response as a JSON object with \\\n",
    "\"Sentiment\", \"Anger\", \"Item\" and \"Brand\" as the keys.\n",
    "If the information isn't present, use \"unknown\" \\\n",
    "as the value.\n",
    "Make your response as short as possible.\n",
    "Format the Anger value as a boolean.\n",
    "\n",
    "Review text: '''{trekking_shoes_review2}'''\n",
    "\"\"\"\n",
    "response = get_completion(prompt)\n",
    "print(response)"
   ]
  },
  {
   "cell_type": "markdown",
   "metadata": {},
   "source": [
    "## 4. Transforming\n",
    "\n",
    "Lets use the OpenAI service for scenarios such as translation, grammar check and format conversion."
   ]
  },
  {
   "cell_type": "code",
   "execution_count": 16,
   "metadata": {},
   "outputs": [
    {
     "name": "stdout",
     "output_type": "stream",
     "text": [
      "Me alegra verte aquí.\n"
     ]
    }
   ],
   "source": [
    "prompt = f\"\"\"\n",
    "Translate the following sentence into Spanish:\n",
    "I am glad to see you here \\\n",
    "\"\"\"\n",
    "response = get_completion(prompt)\n",
    "print(response)"
   ]
  },
  {
   "cell_type": "code",
   "execution_count": 17,
   "metadata": {},
   "outputs": [
    {
     "name": "stdout",
     "output_type": "stream",
     "text": [
      "The language for the sentence \"Kaixo zer moduz zaude?\" is Basque.\n"
     ]
    }
   ],
   "source": [
    "prompt = f\"\"\"\n",
    "tell me the language for the following sentence:\n",
    "Kaixo zer moduz zaude? \\\n",
    "\"\"\"\n",
    "response = get_completion(prompt)\n",
    "print(response)"
   ]
  },
  {
   "cell_type": "code",
   "execution_count": 18,
   "metadata": {},
   "outputs": [
    {
     "name": "stdout",
     "output_type": "stream",
     "text": [
      "Formal: I would like a coffee with milk.\n",
      "Informal: I want a coffee with milk.\n"
     ]
    }
   ],
   "source": [
    "prompt = f\"\"\"\n",
    "Translate the following text to English in both the \\\n",
    "formal and informal forms: \n",
    "'Quiero un Cafe con leche' \\\n",
    "\"\"\"\n",
    "response = get_completion(prompt)\n",
    "print(response)"
   ]
  },
  {
   "cell_type": "markdown",
   "metadata": {},
   "source": [
    "Lets try translating multiple sentences to a target language. Let´s imagine we get many product reviews in multiple languages, but our customer service department want to analyze them in English."
   ]
  },
  {
   "cell_type": "code",
   "execution_count": 26,
   "metadata": {},
   "outputs": [
    {
     "name": "stdout",
     "output_type": "stream",
     "text": [
      "{\n",
      "  \"original_reviews\": [\n",
      "    \"I love the new Trekking Shoes. They are the best shoes I've ever owned.\",\n",
      "    \"Estan zapatillas de trekking son increibles. Son las mejores zapatillas que he tenido.\",\n",
      "    \"J'adore les nouvelles chaussures de trekking. Ce sont les meilleures chaussures que j'ai jamais eues.\",\n",
      "    \"Ich liebe die neuen Trekking-Schuhe. Sie sind die besten Schuhe, die ich je besessen habe.\",\n",
      "    \"Amo le nuove scarpe da trekking. Sono le migliori scarpe che abbia mai posseduto.\",\n",
      "    \"Ik hou van de nieuwe wandelschoenen. Het zijn de beste schoenen die ik ooit heb gehad.\"\n",
      "  ],\n",
      "  \"translated_reviews\": [\n",
      "    \"I love the new Trekking Shoes. They are the best shoes I've ever owned.\",\n",
      "    \"These trekking shoes are incredible. They are the best shoes I've ever had.\",\n",
      "    \"I love the new trekking shoes. They are the best shoes I've ever had.\",\n",
      "    \"I love the new trekking shoes. They are the best shoes I've ever owned.\",\n",
      "    \"I love the new trekking shoes. They are the best shoes I've ever owned.\",\n",
      "    \"I love the new hiking shoes. They are the best shoes I've ever had.\"\n",
      "  ]\n",
      "}\n"
     ]
    }
   ],
   "source": [
    "## Short one sentence review list of products in multiple languages\n",
    "reviews = [\n",
    "    \"I love the new Trekking Shoes. They are the best shoes I've ever owned.\",\n",
    "    \"Estan zapatillas de trekking son increibles. Son las mejores zapatillas que he tenido.\",\n",
    "    \"J'adore les nouvelles chaussures de trekking. Ce sont les meilleures chaussures que j'ai jamais eues.\",\n",
    "    \"Ich liebe die neuen Trekking-Schuhe. Sie sind die besten Schuhe, die ich je besessen habe.\",\n",
    "    \"Amo le nuove scarpe da trekking. Sono le migliori scarpe che abbia mai posseduto.\",\n",
    "    \"Ik hou van de nieuwe wandelschoenen. Het zijn de beste schoenen die ik ooit heb gehad.\"\n",
    "]\n",
    "\n",
    "prompt = f\"\"\"\n",
    "Translate the given list of reviews into English. \\\n",
    "\n",
    "The reviews are delimited with triple backticks. \\\n",
    "\n",
    "The result shoould be given in a JSON format with the \\\n",
    "list of original reviews, and the target translation \\\n",
    "\n",
    "```{reviews}```\n",
    "\"\"\" \n",
    "\n",
    "response = get_completion(prompt)\n",
    "print(response)"
   ]
  },
  {
   "cell_type": "markdown",
   "metadata": {},
   "source": [
    "Lets now try some format conversion"
   ]
  },
  {
   "cell_type": "code",
   "execution_count": 27,
   "metadata": {},
   "outputs": [],
   "source": [
    "shoes_json= {\n",
    "    \"trekking_shoes\": [\n",
    "        {\n",
    "            \"brand\": \"Columbia\",\n",
    "            \"model\": \"Peakfreak XCRSN II Xcel Low OutDry\"\n",
    "        },\n",
    "        {\n",
    "            \"brand\": \"Salomon\",\n",
    "            \"model\": \"X Ultra 3 Mid GTX\"\n",
    "        },\n",
    "        {\n",
    "            \"brand\": \"Merrell\",\n",
    "            \"model\": \"Moab 2 Mid Waterproof\"\n",
    "        },\n",
    "        {\n",
    "            \"brand\": \"The North Face\",\n",
    "            \"model\": \"Ultra 109 GTX\"\n",
    "        },\n",
    "        {\n",
    "            \"brand\": \"Keen\",\n",
    "            \"model\": \"Targhee III Mid WP\"\n",
    "        },\n",
    "        {\n",
    "            \"brand\": \"Adidas\",\n",
    "            \"model\": \"Terrex Swift R2 GTX\"\n",
    "        },\n",
    "        {\n",
    "            \"brand\": \"La Sportiva\",\n",
    "            \"model\": \"Nucleo High GTX\"\n",
    "        },\n",
    "        {\n",
    "            \"brand\": \"Vasque\",\n",
    "            \"model\": \"Breeze III GTX\"\n",
    "        },\n",
    "        {\n",
    "            \"brand\": \"Oboz\",\n",
    "            \"model\": \"Sawtooth II Mid\"\n",
    "        },\n",
    "        {\n",
    "            \"brand\": \"Lowa\",\n",
    "            \"model\": \"Renegade GTX Mid\"\n",
    "        }\n",
    "    ]\n",
    "}\n"
   ]
  },
  {
   "cell_type": "code",
   "execution_count": 29,
   "metadata": {},
   "outputs": [
    {
     "name": "stdout",
     "output_type": "stream",
     "text": [
      "<!DOCTYPE html>\n",
      "<html>\n",
      "<head>\n",
      "<style>\n",
      "table {\n",
      "  font-family: arial, sans-serif;\n",
      "  border-collapse: collapse;\n",
      "  width: 100%;\n",
      "}\n",
      "\n",
      "td, th {\n",
      "  border: 1px solid #dddddd;\n",
      "  text-align: left;\n",
      "  padding: 8px;\n",
      "}\n",
      "\n",
      "tr:nth-child(even) {\n",
      "  background-color: #dddddd;\n",
      "}\n",
      "</style>\n",
      "</head>\n",
      "<body>\n",
      "\n",
      "<h2>Trekking Shoes</h2>\n",
      "\n",
      "<table>\n",
      "  <tr>\n",
      "    <th>Brand</th>\n",
      "    <th>Model</th>\n",
      "  </tr>\n",
      "  <tr>\n",
      "    <td>Columbia</td>\n",
      "    <td>Peakfreak XCRSN II Xcel Low OutDry</td>\n",
      "  </tr>\n",
      "  <tr>\n",
      "    <td>Salomon</td>\n",
      "    <td>X Ultra 3 Mid GTX</td>\n",
      "  </tr>\n",
      "  <tr>\n",
      "    <td>Merrell</td>\n",
      "    <td>Moab 2 Mid Waterproof</td>\n",
      "  </tr>\n",
      "  <tr>\n",
      "    <td>The North Face</td>\n",
      "    <td>Ultra 109 GTX</td>\n",
      "  </tr>\n",
      "  <tr>\n",
      "    <td>Keen</td>\n",
      "    <td>Targhee III Mid WP</td>\n",
      "  </tr>\n",
      "  <tr>\n",
      "    <td>Adidas</td>\n",
      "    <td>Terrex Swift R2 GTX</td>\n",
      "  </tr>\n",
      "  <tr>\n",
      "    <td>La Sportiva</td>\n",
      "    <td>Nucleo High GTX</td>\n",
      "  </tr>\n",
      "  <tr>\n",
      "    <td>Vasque</td>\n",
      "    <td>Breeze III GTX</td>\n",
      "  </tr>\n",
      "  <tr>\n",
      "    <td>Oboz</td>\n",
      "    <td>Sawtooth II Mid</td>\n",
      "  </tr>\n",
      "  <tr>\n",
      "    <td>Lowa</td>\n",
      "    <td>Renegade GTX Mid</td>\n",
      "  </tr>\n",
      "</table>\n",
      "\n",
      "</body>\n",
      "</html>\n"
     ]
    }
   ],
   "source": [
    "prompt = f\"\"\"\n",
    "Translate the following python dictionary from JSON to an HTML \\\n",
    "table with column headers and title: {shoes_json}\n",
    "\"\"\"\n",
    "response = get_completion(prompt)\n",
    "print(response)"
   ]
  },
  {
   "cell_type": "code",
   "execution_count": 30,
   "metadata": {},
   "outputs": [
    {
     "data": {
      "text/html": [
       "<!DOCTYPE html>\n",
       "<html>\n",
       "<head>\n",
       "<style>\n",
       "table {\n",
       "  font-family: arial, sans-serif;\n",
       "  border-collapse: collapse;\n",
       "  width: 100%;\n",
       "}\n",
       "\n",
       "td, th {\n",
       "  border: 1px solid #dddddd;\n",
       "  text-align: left;\n",
       "  padding: 8px;\n",
       "}\n",
       "\n",
       "tr:nth-child(even) {\n",
       "  background-color: #dddddd;\n",
       "}\n",
       "</style>\n",
       "</head>\n",
       "<body>\n",
       "\n",
       "<h2>Trekking Shoes</h2>\n",
       "\n",
       "<table>\n",
       "  <tr>\n",
       "    <th>Brand</th>\n",
       "    <th>Model</th>\n",
       "  </tr>\n",
       "  <tr>\n",
       "    <td>Columbia</td>\n",
       "    <td>Peakfreak XCRSN II Xcel Low OutDry</td>\n",
       "  </tr>\n",
       "  <tr>\n",
       "    <td>Salomon</td>\n",
       "    <td>X Ultra 3 Mid GTX</td>\n",
       "  </tr>\n",
       "  <tr>\n",
       "    <td>Merrell</td>\n",
       "    <td>Moab 2 Mid Waterproof</td>\n",
       "  </tr>\n",
       "  <tr>\n",
       "    <td>The North Face</td>\n",
       "    <td>Ultra 109 GTX</td>\n",
       "  </tr>\n",
       "  <tr>\n",
       "    <td>Keen</td>\n",
       "    <td>Targhee III Mid WP</td>\n",
       "  </tr>\n",
       "  <tr>\n",
       "    <td>Adidas</td>\n",
       "    <td>Terrex Swift R2 GTX</td>\n",
       "  </tr>\n",
       "  <tr>\n",
       "    <td>La Sportiva</td>\n",
       "    <td>Nucleo High GTX</td>\n",
       "  </tr>\n",
       "  <tr>\n",
       "    <td>Vasque</td>\n",
       "    <td>Breeze III GTX</td>\n",
       "  </tr>\n",
       "  <tr>\n",
       "    <td>Oboz</td>\n",
       "    <td>Sawtooth II Mid</td>\n",
       "  </tr>\n",
       "  <tr>\n",
       "    <td>Lowa</td>\n",
       "    <td>Renegade GTX Mid</td>\n",
       "  </tr>\n",
       "</table>\n",
       "\n",
       "</body>\n",
       "</html>"
      ],
      "text/plain": [
       "<IPython.core.display.HTML object>"
      ]
     },
     "metadata": {},
     "output_type": "display_data"
    }
   ],
   "source": [
    "#display it in HTML\n",
    "from IPython.display import display, Markdown, Latex, HTML, JSON\n",
    "display(HTML(response))"
   ]
  },
  {
   "cell_type": "markdown",
   "metadata": {},
   "source": [
    "Finally for this section try some grammar checking"
   ]
  },
  {
   "cell_type": "code",
   "execution_count": 35,
   "metadata": {},
   "outputs": [
    {
     "name": "stdout",
     "output_type": "stream",
     "text": [
      "I can't believe you are going to the store.\n"
     ]
    }
   ],
   "source": [
    "text_to_review = \"\"\"\n",
    "I can't not believe you are going to the store.\n",
    "\"\"\"\n",
    "\n",
    "prompt = f\"\"\"\n",
    "Correct the following sentence: {text_to_review}\n",
    "Keep it the same way if no correction is needed.    \n",
    "\"\"\"\n",
    "response = get_completion(prompt)\n",
    "\n",
    "print(response)\n"
   ]
  },
  {
   "cell_type": "markdown",
   "metadata": {},
   "source": [
    "## 5. Expanding\n",
    "\n",
    "Lets generate automatic replying system for the customer reviews.\n",
    "\n"
   ]
  },
  {
   "cell_type": "code",
   "execution_count": 36,
   "metadata": {},
   "outputs": [
    {
     "name": "stdout",
     "output_type": "stream",
     "text": [
      " \n",
      "I'm incredibly disappointed with the Adventure Seeker Trekking Shoes. Despite the initial promise, these shoes proved to be a poor investment. The primary areas of concern are durability, comfort, and water resistance.\n",
      "\n",
      "Durability (2/5):\n",
      "These shoes failed the durability test miserably. After just a few hikes, I noticed significant wear and tear on the soles, and the upper material began to separate. The build quality left much to be desired, and I expected more longevity from a pair of trekking shoes.\n",
      "\n",
      "Comfort (2/5):\n",
      "While the shoes provided some comfort initially, they quickly became less comfortable as I wore them. The cushioning didn't hold up, leading to discomfort and sore feet on longer treks. I was hoping for a more supportive insole and collar.\n",
      "\n",
      "Water Resistance (2/5):\n",
      "The claim of water resistance fell short of reality. During a hike in light rain, my feet ended up soaked. These shoes didn't live up to the promise of keeping my feet dry in damp conditions.\n",
      "\n",
      "In summary, my experience with the Adventure Seeker Trekking Shoes was highly disappointing. Their subpar durability, declining comfort, and failure to deliver on water resistance were major letdowns. I wouldn't recommend these shoes for serious outdoor enthusiasts looking for reliable and long-lasting footwear.\n",
      "\n"
     ]
    }
   ],
   "source": [
    "print (trekking_shoes_review2)"
   ]
  },
  {
   "cell_type": "code",
   "execution_count": 37,
   "metadata": {},
   "outputs": [
    {
     "name": "stdout",
     "output_type": "stream",
     "text": [
      "Dear valued customer,\n",
      "\n",
      "Thank you for taking the time to share your review of our Adventure Seeker Trekking Shoes. We appreciate your feedback and are sorry to hear about your disappointing experience.\n",
      "\n",
      "We apologize for the issues you encountered with the durability, comfort, and water resistance of the shoes. It is disheartening to learn that the shoes did not meet your expectations in these areas. We understand how important it is for trekking shoes to be durable, comfortable, and water-resistant, and we apologize for any inconvenience caused.\n",
      "\n",
      "We appreciate your specific feedback regarding the durability of the soles and upper material, as well as the declining comfort and lack of water resistance. Your comments will be shared with our product development team for further evaluation and improvement.\n",
      "\n",
      "If you have any further concerns or would like to discuss your experience in more detail, please do not hesitate to reach out to our customer service team. They are available to assist you and address any issues you may have.\n",
      "\n",
      "Once again, we apologize for any disappointment caused and appreciate your feedback. We value your business and hope to have the opportunity to serve you better in the future.\n",
      "\n",
      "Thank you for choosing our Adventure Seeker Trekking Shoes.\n",
      "\n",
      "Best regards,\n",
      "\n",
      "AI customer agent\n"
     ]
    }
   ],
   "source": [
    "prompt = f\"\"\"\n",
    "You are a customer service AI assistant.\n",
    "Your task is to send an email reply to a valued customer.\n",
    "Given the customer email delimited by ```, \\\n",
    "Generate a reply to thank the customer for their review.\n",
    "\n",
    "Analyze the sentiment. \n",
    "\n",
    "If the sentiment is positive or neutral, thank them for \\\n",
    "their review.\n",
    "If the sentiment is negative, apologize and suggest that \\\n",
    "they can reach out to customer service. \n",
    "\n",
    "Make sure to use specific details from the review.\n",
    "Write in a concise and professional tone.\n",
    "\n",
    "Sign the email as `AI customer agent`.\n",
    "\n",
    "Customer review: ```{trekking_shoes_review2}```\n",
    "\n",
    "\"\"\"\n",
    "response = get_completion(prompt)\n",
    "print(response)"
   ]
  }
 ],
 "metadata": {
  "kernelspec": {
   "display_name": "Python 3",
   "language": "python",
   "name": "python3"
  },
  "language_info": {
   "codemirror_mode": {
    "name": "ipython",
    "version": 3
   },
   "file_extension": ".py",
   "mimetype": "text/x-python",
   "name": "python",
   "nbconvert_exporter": "python",
   "pygments_lexer": "ipython3",
   "version": "3.11.4"
  }
 },
 "nbformat": 4,
 "nbformat_minor": 2
}
